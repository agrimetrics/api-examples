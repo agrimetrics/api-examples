{
 "cells": [
  {
   "cell_type": "markdown",
   "metadata": {},
   "source": [
    "# AHDB wheat lodging risk and recommendations\n",
    "This example notebook was inspired by the [AHDB lodging practical guidelines](https://ahdb.org.uk/knowledge-library/lodging): we evaluate the lodging risk for a field and output practical recommendations. We then adjust the estimated risk according to the Leaf Area Index (LAI) and Green Cover Fraction (GCF) obtained using the Agrimetrics GraphQL API.\n",
    "\n",
    "## AHDB lodging resistance score\n",
    "AHDB's guidelines show how a lodging resistance score can be calculated based on:\n",
    "- the crop variety's natural resistance to lodging without Plant Growth Regulators (PGR)\n",
    "- the soil Nitrogen Suply (SNS) index, a higher supply increases lodging risk\n",
    "- the sowing date, an earlier sowing increases lodging risk\n",
    "- the sowing density, higher plant density increases lodging risk\n",
    "\n",
    "The overall lodging resistance score is the sum of the individual scores. AHDB practical advice on reducing the risk of lodging is given for 4 resistance score categories:\n",
    "\n",
    "| Lodging resistance category | Lodging risk |\n",
    "|---|---|\n",
    "| below 5 | very high |\n",
    "| 5-6.8 | high |\n",
    "| 7-8.8 | medium |\n",
    "| 9-10 | low |\n",
    "| over 10 | very low |\n"
   ]
  },
  {
   "cell_type": "code",
   "execution_count": 1,
   "metadata": {},
   "outputs": [],
   "source": [
    "# Input AHDB factors for evaluating lodging risks\n",
    "def sns_index_score(sns_index):\n",
    "    return 3 - 6 * sns_index / 4\n",
    "\n",
    "# Sowing dates and associated lodging resistance score\n",
    "sowing_date_scores = {'Mid Sept': -2, 'End Sept': -1, 'Mid Oct': 0, 'End Oct': 1, 'Nov onwards': 2}\n",
    "\n",
    "# Density ranges and associated lodging resistance score\n",
    "sowing_density_scores = {'<150': 1.5, '200-150': +0.75, '300-200': 0, '400-300': -1, '>400': -1.75}\n",
    "\n",
    "# AHDB resistance score categories\n",
    "def score_category(score):\n",
    "    if score < 5:\n",
    "        return 'below 5'\n",
    "    if score < 7:\n",
    "        return '5-6.8'\n",
    "    if score < 9:\n",
    "        return '7-8.8' \n",
    "    if score < 10:\n",
    "        return '9-10'\n",
    "    return 'over 10'\n",
    "\n",
    "# Combine individual factor scores\n",
    "def lodging_resistance_category(resistance_score, sns_index, sowing_date, sowing_density):\n",
    "    score = resistance_score + sns_index_score(sns_index) + sowing_date_scores[sowing_date] + sowing_density_scores[sowing_density]\n",
    "    return score_category(score)"
   ]
  },
  {
   "cell_type": "markdown",
   "metadata": {},
   "source": [
    "## AHDB practical advice\n",
    "AHDB provides practical advice for managing the risk of stem and root lodging. This advice depends on the resistance score calculated specifically for a field. AHDB recommends fertilizer and PGR actions for managing stem lodging risk. For root lodging, AHDB also advises if the crop needs to be rolled (before the crop has reached stage \"GS30\")."
   ]
  },
  {
   "cell_type": "code",
   "execution_count": 2,
   "metadata": {},
   "outputs": [],
   "source": [
    "# Nitrogen fertiliser advice for stem risk\n",
    "stem_risk_N_advice = {\n",
    "    'below 5': 'Delay & reduce N',\n",
    "    '5-6.8': 'Delay & reduce N',\n",
    "    '7-8.8': 'Delay N',\n",
    "}\n",
    "\n",
    "# PGR advice for stem risk\n",
    "stem_risk_PGR_advice = {\n",
    "    'below 5': 'Full PGR',\n",
    "    '5-6.8': 'Full PGR',\n",
    "    '7-8.8': 'Single PGR',\n",
    "    '9-10': 'PGR if high yield forecast'\n",
    "}\n",
    "\n",
    "# Nitrogen fertiliser advice for root risk\n",
    "root_risk_N_advice = {\n",
    "    'below 5': 'Reduce N',\n",
    "    '5-6.8': 'Reduce N',\n",
    "}\n",
    "\n",
    "# PGR advice for root risk\n",
    "root_risk_PGR_advice = {\n",
    "    'below 5': 'Full PGR',\n",
    "    '5-6.8': 'Full PGR',\n",
    "    '7-8.8': 'Single PGR',\n",
    "    '9-10': 'PGR if high yield forecast'\n",
    "}\n",
    "\n",
    "# Spring rolling advice for root risk\n",
    "root_risk_Roll_advice = {\n",
    "    'below 5': 'Roll',\n",
    "    '5-6.8': 'Roll',\n",
    "    '7-8.8': 'Roll',\n",
    "}"
   ]
  },
  {
   "cell_type": "markdown",
   "metadata": {},
   "source": [
    "## AHDB standard lodging risk management recommendations\n",
    "Using the definitions above, we can calculate the AHDB recommendation according to individual factors:"
   ]
  },
  {
   "cell_type": "code",
   "execution_count": 3,
   "metadata": {},
   "outputs": [
    {
     "data": {
      "application/vnd.jupyter.widget-view+json": {
       "model_id": "1d71d8176dda4704b8a8f5d0e54b3b38",
       "version_major": 2,
       "version_minor": 0
      },
      "text/plain": [
       "interactive(children=(IntSlider(value=1, description='Resistance score without PGR', max=9, min=1, style=Slide…"
      ]
     },
     "metadata": {},
     "output_type": "display_data"
    },
    {
     "data": {
      "text/plain": [
       "<function __main__.ahdb_lodging_recommendation(resistance_score, sns_index, sowing_date, sowing_density)>"
      ]
     },
     "execution_count": 3,
     "metadata": {},
     "output_type": "execute_result"
    }
   ],
   "source": [
    "import pandas as pd\n",
    "from ipywidgets import widgets\n",
    "\n",
    "style = {'description_width': 'initial'}\n",
    "\n",
    "def ahdb_lodging_recommendation(resistance_score, sns_index, sowing_date, sowing_density):\n",
    "    category = lodging_resistance_category(resistance_score, sns_index, sowing_date, sowing_density)\n",
    "    return pd.DataFrame(index=['Fertiliser nitrogen', 'Plant growth regulators', 'Spring rolling'], data={\n",
    "        'Stem lodging': [stem_risk_N_advice.get(category, ''), stem_risk_PGR_advice.get(category, ''), '' ],\n",
    "        'Root lodging': [root_risk_N_advice.get(category, ''), root_risk_PGR_advice.get(category, ''), root_risk_Roll_advice.get(category, '')]\n",
    "    })\n",
    "\n",
    "widgets.interact(ahdb_lodging_recommendation,\n",
    "    resistance_score = widgets.IntSlider(description='Resistance score without PGR', min=1, max=9, style=style),\n",
    "    sns_index = widgets.IntSlider(description='SNS index', min=0, max=4, style=style),\n",
    "    sowing_date = widgets.SelectionSlider(description='Sowing date', options=sowing_date_scores.keys(), style=style),\n",
    "    sowing_density = widgets.SelectionSlider(description='Sowing density', options=sowing_density_scores.keys(), style=style),\n",
    ")"
   ]
  },
  {
   "cell_type": "markdown",
   "metadata": {},
   "source": [
    "## Adjusting recommendations based on remote sensing information\n",
    "The same practical guidelines from AHDB explains that crop conditions in Spring can indicate future lodging risk. In particular, Green Area Index (GAI) greater than 2 or Ground Cover Fraction (GCF) above 60% are indicative of increased stem lodging risk. For adjusting our practical advice, we will retrieve LAI and GCF from Agrimetrics GraphQL API.\n",
    "\n",
    "### Using Agrimetrics GraphQL API\n",
    "An Agrimetrics API key must be provided with each GraphQL API in a custom request header Ocp-Apim-Subscription-Key. For more information about how to obtain and use an Agrimetrics API key, please consult the [Developer portal](https://developer.agrimetrics.co.uk). To get started with GraphQL, see [Agrimetrics Graph Explorer](https://app.agrimetrics.co.uk/#/graph-explorer) tool."
   ]
  },
  {
   "cell_type": "code",
   "execution_count": 6,
   "metadata": {},
   "outputs": [],
   "source": [
    "import os\n",
    "import requests\n",
    "\n",
    "GRAPHQL_ENDPOINT = \"https://api.agrimetrics.co.uk/query-api/v1/graphql\"\n",
    "\n",
    "if \"API_KEY\" in os.environ:\n",
    "    API_KEY = os.environ[\"API_KEY\"]\n",
    "else:\n",
    "    API_KEY = input(\"Query API Subscription Key: \").strip()"
   ]
  },
  {
   "cell_type": "markdown",
   "metadata": {},
   "source": [
    "A GraphQL query is posted to the GraphQL endpoint in a json body. With our first query, we retrieve the Agrimetrics field id at a given location."
   ]
  },
  {
   "cell_type": "code",
   "execution_count": 7,
   "metadata": {},
   "outputs": [
    {
     "name": "stdout",
     "output_type": "stream",
     "text": [
      "Agrimetrics field id: https://data.agrimetrics.co.uk/fields/BZwCrEVaXO62NTX_Jfl1yw\n"
     ]
    }
   ],
   "source": [
    "graphql_url = 'https://api.agrimetrics.co.uk/graphql'\n",
    "headers = {\n",
    "    'Ocp-Apim-Subscription-Key': API_KEY,\n",
    "    'Content-Type': \"application/json\",\n",
    "    'Accept-Encoding': \"gzip, deflate, br\",\n",
    "}\n",
    "\n",
    "centroid = (-0.929365345, 51.408374978)\n",
    "response = requests.post(graphql_url, headers=headers, json={\n",
    "    'query': '''\n",
    "        query getFieldAtLocation($centroid: CoordinateScalar!) {\n",
    "            fields(geoFilter: {location: {type: Point, coordinates: $centroid}, distance: {LE: 10}}) {\n",
    "                id\n",
    "            }\n",
    "        }\n",
    "    ''',\n",
    "    'variables': {\n",
    "        'centroid': centroid\n",
    "    }\n",
    "})\n",
    "response.raise_for_status()\n",
    "field_id = response.json()['data']['fields'][0]['id']\n",
    "print('Agrimetrics field id:', field_id)"
   ]
  },
  {
   "cell_type": "markdown",
   "metadata": {},
   "source": [
    "GraphQL API supports filtering by object ids. Here, we retrieve the sowing crop information associated to the field id obtained in our first query."
   ]
  },
  {
   "cell_type": "code",
   "execution_count": 8,
   "metadata": {},
   "outputs": [
    {
     "name": "stdout",
     "output_type": "stream",
     "text": [
      "[{'cropType': 'WHEAT', 'harvestYear': 2016}, {'cropType': 'MAIZE', 'harvestYear': 2017}, {'cropType': 'WHEAT', 'harvestYear': 2018}]\n"
     ]
    }
   ],
   "source": [
    "# Verify field was a wheat crop in 2018\n",
    "response = requests.post(graphql_url, headers=headers, json={\n",
    "    'query': '''\n",
    "        query getSownCrop($fieldId: [ID!]!) {\n",
    "            fields(where: {id: {EQ: $fieldId}}) {\n",
    "                sownCrop {\n",
    "                    cropType\n",
    "                    harvestYear\n",
    "                }\n",
    "            }\n",
    "        }\n",
    "    ''',\n",
    "    'variables': {\n",
    "        'fieldId': field_id\n",
    "    }\n",
    "})\n",
    "response.raise_for_status()\n",
    "print(response.json()['data']['fields'][0]['sownCrop'])"
   ]
  },
  {
   "cell_type": "markdown",
   "metadata": {},
   "source": [
    "It is necessary to register for accessing Verde crop observations on our field of interest. LAI is a crop-specific attribute, so it is necessary to provide `cropType` when registering."
   ]
  },
  {
   "cell_type": "code",
   "execution_count": 9,
   "metadata": {},
   "outputs": [],
   "source": [
    "# Register for CROP_SPECIFIC verde data on our field\n",
    "response = requests.post(graphql_url, headers=headers, json={\n",
    "    'query': '''\n",
    "        mutation registerCropObservations($fieldId: ID!) {\n",
    "            account {\n",
    "                premiumData {\n",
    "                    addCropObservationRegistrations(registrations: {fieldId: $fieldId, layerType: CROP_SPECIFIC, cropType: WHEAT, season: SEP2017TOSEP2018}) {\n",
    "                        id\n",
    "                    }\n",
    "                }\n",
    "            }\n",
    "        }\n",
    "    ''',\n",
    "    'variables': {'fieldId': field_id}\n",
    "})\n",
    "response.raise_for_status()"
   ]
  },
  {
   "cell_type": "markdown",
   "metadata": {},
   "source": [
    "GCF is not crop specific, so we need to register as well for accessing non crop-specific attributes."
   ]
  },
  {
   "cell_type": "code",
   "execution_count": 10,
   "metadata": {},
   "outputs": [],
   "source": [
    "# Register for NON_CROP_SPECIFIC verde data on our field\n",
    "response = requests.post(graphql_url, headers=headers, json={\n",
    "    'query': '''\n",
    "        mutation registerCropObservations($fieldId: ID!) {\n",
    "            account {\n",
    "                premiumData {\n",
    "                    addCropObservationRegistrations(registrations: {fieldId: $fieldId, layerType: NON_CROP_SPECIFIC, season: SEP2017TOSEP2018}) {\n",
    "                        id \n",
    "                    }\n",
    "                }\n",
    "            }\n",
    "        }\n",
    "    ''',\n",
    "    'variables': {'fieldId': field_id}\n",
    "})\n",
    "response.raise_for_status()"
   ]
  },
  {
   "cell_type": "markdown",
   "metadata": {},
   "source": [
    "Once Verde data for this field is available, we can easily retrieve it, for instance:"
   ]
  },
  {
   "cell_type": "code",
   "execution_count": 11,
   "metadata": {},
   "outputs": [],
   "source": [
    "response = requests.post(graphql_url, headers=headers, json={\n",
    "    'query': '''\n",
    "        query getCropObservations($fieldId: [ID!]!) {\n",
    "            fields(where: {id: {EQ: $fieldId}}) {\n",
    "                cropObservations {\n",
    "                    leafAreaIndex { dateTime mean }\n",
    "                }\n",
    "            }\n",
    "        }\n",
    "    ''',\n",
    "    'variables': {'fieldId': field_id}\n",
    "})\n",
    "response.raise_for_status()"
   ]
  },
  {
   "cell_type": "markdown",
   "metadata": {},
   "source": [
    "The data can be loaded as a pandas DataFrame:"
   ]
  },
  {
   "cell_type": "code",
   "execution_count": 12,
   "metadata": {},
   "outputs": [
    {
     "data": {
      "text/html": [
       "<div>\n",
       "<style scoped>\n",
       "    .dataframe tbody tr th:only-of-type {\n",
       "        vertical-align: middle;\n",
       "    }\n",
       "\n",
       "    .dataframe tbody tr th {\n",
       "        vertical-align: top;\n",
       "    }\n",
       "\n",
       "    .dataframe thead th {\n",
       "        text-align: right;\n",
       "    }\n",
       "</style>\n",
       "<table border=\"1\" class=\"dataframe\">\n",
       "  <thead>\n",
       "    <tr style=\"text-align: right;\">\n",
       "      <th></th>\n",
       "      <th>date_time</th>\n",
       "      <th>value</th>\n",
       "    </tr>\n",
       "  </thead>\n",
       "  <tbody>\n",
       "    <tr>\n",
       "      <td>0</td>\n",
       "      <td>2017-09-14 10:52:14+00:00</td>\n",
       "      <td>1.489300</td>\n",
       "    </tr>\n",
       "    <tr>\n",
       "      <td>1</td>\n",
       "      <td>2017-11-23 11:13:49+00:00</td>\n",
       "      <td>0.388411</td>\n",
       "    </tr>\n",
       "    <tr>\n",
       "      <td>2</td>\n",
       "      <td>2017-11-28 11:14:11+00:00</td>\n",
       "      <td>0.393542</td>\n",
       "    </tr>\n",
       "    <tr>\n",
       "      <td>3</td>\n",
       "      <td>2017-12-08 11:14:41+00:00</td>\n",
       "      <td>0.479305</td>\n",
       "    </tr>\n",
       "    <tr>\n",
       "      <td>4</td>\n",
       "      <td>2017-12-18 11:14:51+00:00</td>\n",
       "      <td>0.510158</td>\n",
       "    </tr>\n",
       "  </tbody>\n",
       "</table>\n",
       "</div>"
      ],
      "text/plain": [
       "                  date_time     value\n",
       "0 2017-09-14 10:52:14+00:00  1.489300\n",
       "1 2017-11-23 11:13:49+00:00  0.388411\n",
       "2 2017-11-28 11:14:11+00:00  0.393542\n",
       "3 2017-12-08 11:14:41+00:00  0.479305\n",
       "4 2017-12-18 11:14:51+00:00  0.510158"
      ]
     },
     "execution_count": 12,
     "metadata": {},
     "output_type": "execute_result"
    }
   ],
   "source": [
    "results = response.json()\n",
    "leafAreaIndex = pd.io.json.json_normalize(\n",
    "    results['data']['fields'],\n",
    "    record_path=['cropObservations', 'leafAreaIndex'],\n",
    ")\n",
    "leafAreaIndex['date_time'] = pd.to_datetime(leafAreaIndex['dateTime'])\n",
    "leafAreaIndex['value'] = leafAreaIndex['mean']\n",
    "leafAreaIndex = leafAreaIndex[['date_time', 'value']]\n",
    "leafAreaIndex.head()"
   ]
  },
  {
   "cell_type": "markdown",
   "metadata": {},
   "source": [
    "We proceed to a second similar query to obtain green vegetation cover fraction:"
   ]
  },
  {
   "cell_type": "code",
   "execution_count": 13,
   "metadata": {},
   "outputs": [],
   "source": [
    "response = requests.post(graphql_url, headers=headers, json={\n",
    "    'query': '''\n",
    "        query getCropObservations($fieldId: [ID!]!) {\n",
    "            fields(where: {id: {EQ: $fieldId}}) {\n",
    "                cropObservations {\n",
    "                    greenVegetationCoverFraction { dateTime mean }\n",
    "                }\n",
    "            }\n",
    "        }\n",
    "    ''',\n",
    "    'variables': {'fieldId': field_id}\n",
    "})\n",
    "response.raise_for_status()\n",
    "results = response.json()\n",
    "greenCoverFraction = pd.io.json.json_normalize(\n",
    "    results['data']['fields'],\n",
    "    record_path=['cropObservations', 'greenVegetationCoverFraction'],\n",
    ")\n",
    "greenCoverFraction['date_time'] = pd.to_datetime(greenCoverFraction['dateTime'])\n",
    "greenCoverFraction['value'] = greenCoverFraction['mean']\n",
    "greenCoverFraction = greenCoverFraction[['date_time', 'value']]"
   ]
  },
  {
   "cell_type": "markdown",
   "metadata": {},
   "source": [
    "A year of observations was retrieved:"
   ]
  },
  {
   "cell_type": "code",
   "execution_count": 15,
   "metadata": {},
   "outputs": [
    {
     "data": {
      "image/png": "[encoded data removed]",
      "text/plain": [
       "<Figure size 432x288 with 1 Axes>"
      ]
     },
     "metadata": {
      "needs_background": "light"
     },
     "output_type": "display_data"
    }
   ],
   "source": [
    "import matplotlib.pyplot as plt\n",
    "plt.plot(leafAreaIndex['date_time'], leafAreaIndex['value'], label='LAI')\n",
    "plt.plot(greenCoverFraction['date_time'], greenCoverFraction['value'], label='GCF')\n",
    "plt.legend()\n",
    "plt.show()"
   ]
  },
  {
   "cell_type": "markdown",
   "metadata": {},
   "source": [
    "## Adjusting recommendation\n",
    "GS31 marks the beginning of the stem elongation and generally occurs around mid April. Let's filter our LAI and GCF around this time of year:"
   ]
  },
  {
   "cell_type": "code",
   "execution_count": 16,
   "metadata": {},
   "outputs": [],
   "source": [
    "from datetime import datetime, timezone\n",
    "from_date = datetime(2018, 4, 7, tzinfo=timezone.utc)\n",
    "to_date = datetime(2018, 4, 21, tzinfo=timezone.utc)\n",
    "leafAreaIndex_mid_april = leafAreaIndex[(leafAreaIndex['date_time'] > from_date) & (leafAreaIndex['date_time'] < to_date)]\n",
    "greenCoverFraction_mid_april = greenCoverFraction[(greenCoverFraction['date_time'] > from_date) & (greenCoverFraction['date_time'] < to_date)]"
   ]
  },
  {
   "cell_type": "markdown",
   "metadata": {},
   "source": [
    "Check if LAI or GCF are above their respective thresholds:"
   ]
  },
  {
   "cell_type": "code",
   "execution_count": 17,
   "metadata": {},
   "outputs": [
    {
     "data": {
      "text/plain": [
       "False"
      ]
     },
     "execution_count": 17,
     "metadata": {},
     "output_type": "execute_result"
    }
   ],
   "source": [
    "(leafAreaIndex_mid_april['value'] > 2).any() | (greenCoverFraction_mid_april['value'] > 0.6).any()"
   ]
  },
  {
   "cell_type": "markdown",
   "metadata": {},
   "source": [
    "Our field has an LAI below 2 in the 2 weeks around mid April and no GCF reading close enough to be taken into account. But we have now the basis for adjusting our recommendation by using Agrimetrics Verde crop observations. Let's broaden our evaluation to nearby Agrimetrics fields with a wheat crop in 2018."
   ]
  },
  {
   "cell_type": "code",
   "execution_count": 18,
   "metadata": {},
   "outputs": [
    {
     "data": {
      "text/plain": [
       "18    https://data.agrimetrics.co.uk/fields/4eOTI2Fo...\n",
       "21    https://data.agrimetrics.co.uk/fields/6yu1VlwZ...\n",
       "32    https://data.agrimetrics.co.uk/fields/A-cqD8Qb...\n",
       "35    https://data.agrimetrics.co.uk/fields/BZwCrEVa...\n",
       "55    https://data.agrimetrics.co.uk/fields/GWWGNhqT...\n",
       "Name: id, dtype: object"
      ]
     },
     "execution_count": 18,
     "metadata": {},
     "output_type": "execute_result"
    }
   ],
   "source": [
    "response = requests.post(graphql_url, headers=headers, json={\n",
    "    'query': '''\n",
    "        query getFieldsWithinRadius($centroid: CoordinateScalar!, $distance: Float!) {\n",
    "            fields(geoFilter: {location: {type: Point, coordinates: $centroid}, distance: {LE: $distance}}) {\n",
    "                id\n",
    "                sownCrop {\n",
    "                    cropType\n",
    "                    harvestYear\n",
    "                }\n",
    "            }\n",
    "        }\n",
    "    ''',\n",
    "    'variables': { 'centroid': centroid, 'distance': 2000 } # distance in m\n",
    "})\n",
    "response.raise_for_status()\n",
    "results = response.json()\n",
    "nearby_fields = pd.io.json.json_normalize(\n",
    "    results['data']['fields'],\n",
    "    record_path=['sownCrop'],\n",
    "    meta=['id'],\n",
    ")\n",
    "nearby_wheat_fields = nearby_fields[(nearby_fields['cropType'] == 'WHEAT') \n",
    "                                    & (nearby_fields['harvestYear'] == 2018)]\n",
    "available_fields = nearby_wheat_fields['id']\n",
    "available_fields.head()"
   ]
  },
  {
   "cell_type": "markdown",
   "metadata": {},
   "source": [
    "Using the same approach as above, we implement the retrieval of Verde LAI and GCF for the selected fields:"
   ]
  },
  {
   "cell_type": "code",
   "execution_count": 19,
   "metadata": {},
   "outputs": [],
   "source": [
    "def register(field_id):\n",
    "    # Register for CROP_SPECIFIC verde data on our field\n",
    "    response = requests.post(graphql_url, headers=headers, json={\n",
    "        'query': '''\n",
    "            mutation registerCropObservations($fieldId: ID!) {\n",
    "                premiumDataAccess {\n",
    "                    addCropObservationRegistrations(registrations: {\n",
    "                        fieldId: $fieldId, layerType: CROP_SPECIFIC, season: SEP2017TOSEP2018, cropType: WHEAT\n",
    "                    }) {\n",
    "                        id\n",
    "                    }\n",
    "                }\n",
    "            }\n",
    "        ''',\n",
    "        'variables': {'fieldId': field_id}\n",
    "    })\n",
    "    response.raise_for_status()\n",
    "    # Register for NON_CROP_SPECIFIC verde data on our field\n",
    "    response = requests.post(graphql_url, headers=headers, json={\n",
    "        'query': '''\n",
    "            mutation registerCropObservations($fieldId: ID!) {\n",
    "                premiumDataAccess {\n",
    "                    addCropObservationRegistrations(registrations: {\n",
    "                        fieldId: $fieldId, layerType: NON_CROP_SPECIFIC, season: SEP2017TOSEP2018\n",
    "                    }) {\n",
    "                        id\n",
    "                    }\n",
    "                }\n",
    "            }\n",
    "        ''',\n",
    "        'variables': {'fieldId': field_id}\n",
    "    })\n",
    "    response.raise_for_status()\n",
    "\n",
    "def crop_observations(field_id, attribute):\n",
    "    response = requests.post(graphql_url, headers=headers, json={\n",
    "    'query': '''\n",
    "        query getCropObservations($fieldId: [ID!]!) {{\n",
    "            fields(where: {{id: {{EQ: $fieldId}}}}) {{\n",
    "                cropObservations {{\n",
    "                    {attribute} {{ mean dateTime }}\n",
    "                }}\n",
    "            }}\n",
    "        }}\n",
    "        '''.format(attribute=attribute),\n",
    "        'variables': {'fieldId': field_id}\n",
    "    })\n",
    "    response.raise_for_status()\n",
    "    results = response.json()\n",
    "    data = pd.io.json.json_normalize(\n",
    "        results['data']['fields'],\n",
    "        record_path=['cropObservations', attribute],\n",
    "    )\n",
    "    data['date_time'] = pd.to_datetime(data['dateTime'])\n",
    "    data['value'] = data['mean']\n",
    "    return data[['date_time', 'value']]\n",
    "\n",
    "def has_high_LAI(field_id, leafAreaIndex):\n",
    "    if not leafAreaIndex.empty:\n",
    "        leafAreaIndex_mid_april = leafAreaIndex[(leafAreaIndex['date_time'] > from_date) & (leafAreaIndex['date_time'] < to_date)]\n",
    "        return (leafAreaIndex_mid_april['value'] > 2).any()\n",
    "    return False\n",
    "\n",
    "def has_high_GCF(field_id, greenCoverFraction):\n",
    "    if not greenCoverFraction.empty:\n",
    "        greenCoverFraction_mid_april = greenCoverFraction[(greenCoverFraction['date_time'] > from_date) & (greenCoverFraction['date_time'] < to_date)]\n",
    "        return (greenCoverFraction_mid_april['value'] > 0.6).any()\n",
    "    return False\n"
   ]
  },
  {
   "cell_type": "markdown",
   "metadata": {},
   "source": [
    "We then revisit the recommendation algorithm:"
   ]
  },
  {
   "cell_type": "code",
   "execution_count": 20,
   "metadata": {},
   "outputs": [
    {
     "data": {
      "application/vnd.jupyter.widget-view+json": {
       "model_id": "9c8623585023451d825d4c91d1f0c666",
       "version_major": 2,
       "version_minor": 0
      },
      "text/plain": [
       "interactive(children=(Dropdown(description='Agrimetrics field id', options=('https://data.agrimetrics.co.uk/fi…"
      ]
     },
     "metadata": {},
     "output_type": "display_data"
    },
    {
     "data": {
      "text/plain": [
       "<function __main__.adjusted_lodging_recommendation(field_id, resistance_score, sns_index, sowing_date, sowing_density)>"
      ]
     },
     "execution_count": 20,
     "metadata": {},
     "output_type": "execute_result"
    }
   ],
   "source": [
    "def adjusted_lodging_recommendation(field_id, resistance_score, sns_index, sowing_date, sowing_density):\n",
    "    register(field_id)\n",
    "    leafAreaIndex = crop_observations(field_id, 'leafAreaIndex')\n",
    "    greenCoverFraction = crop_observations(field_id, 'greenVegetationCoverFraction')\n",
    "    \n",
    "    high_LAI = has_high_LAI(field_id, leafAreaIndex)\n",
    "    high_GCF = has_high_GCF(field_id, greenCoverFraction)\n",
    "    \n",
    "    plt.plot(leafAreaIndex['date_time'], leafAreaIndex['value'], label='LAI')\n",
    "    plt.plot(greenCoverFraction['date_time'], greenCoverFraction['value'], label='GCF')\n",
    "    plt.legend()\n",
    "    plt.show()\n",
    "    \n",
    "    if high_LAI and high_GCF:\n",
    "        print('High LAI and GCF were observed around GS31 for this crop, please consider adjusting the recommendation')\n",
    "    elif high_LAI:\n",
    "        print('High LAI was observed around GS31 for this crop, please consider adjusting the recommendation')\n",
    "    elif high_GCF:\n",
    "        print('High GCF was observed around GS31 for this crop, please consider adjusting the recommendation')\n",
    "    else:\n",
    "        print('High LAI and GCF were not observed around GS31 for this crop')\n",
    "\n",
    "    return ahdb_lodging_recommendation(resistance_score, sns_index, sowing_date, sowing_density)\n",
    "\n",
    "widgets.interact(adjusted_lodging_recommendation,\n",
    "    field_id=widgets.Dropdown(description='Agrimetrics field id', options=available_fields, style=style), \n",
    "    resistance_score=widgets.IntSlider(description='Resistance score without PGR', min=1, max=9, style=style),\n",
    "    sns_index=widgets.IntSlider(description='SNS index', min=0, max=4, style=style),\n",
    "    sowing_date=widgets.SelectionSlider(description='Sowing date', options=sowing_date_scores.keys(), style=style),\n",
    "    sowing_density=widgets.SelectionSlider(description='Sowing density', options=sowing_density_scores.keys(), style=style),\n",
    ")"
   ]
  },
  {
   "cell_type": "code",
   "execution_count": null,
   "metadata": {},
   "outputs": [],
   "source": []
  }
 ],
 "metadata": {
  "file_extension": ".py",
  "kernelspec": {
   "display_name": "Python 3",
   "language": "python",
   "name": "python3"
  },
  "language_info": {
   "codemirror_mode": {
    "name": "ipython",
    "version": 3
   },
   "file_extension": ".py",
   "mimetype": "text/x-python",
   "name": "python",
   "nbconvert_exporter": "python",
   "pygments_lexer": "ipython3",
   "version": "3.7.4"
  },
  "mimetype": "text/x-python",
  "name": "python",
  "npconvert_exporter": "python",
  "pygments_lexer": "ipython3",
  "version": 3
 },
 "nbformat": 4,
 "nbformat_minor": 2
}
