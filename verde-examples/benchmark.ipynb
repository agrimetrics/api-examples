{
 "cells": [
  {
   "cell_type": "markdown",
   "metadata": {},
   "source": [
    "# VERDE benchmarking tool\n",
    "This is a simple benchmarking tool to compare NDVI, Chlorophyll and Green Vegetation Cover Fraction of your field to those in the surrounding area that are growing the same crop.\n",
    "Given a field id, this notebook will guide you through the process of retrieving information about that field and the nearby fields inside a 2km radius.\n",
    "A simple of the Verde attributes allows you to select the range of dates you wish to compare for and see how your field compares to the range of values found in other fields.\n",
    "\n",
    "## A first GraphQL query\n",
    "In this notebook we will use Agrimetrics GraphQL API to retrieve data about fields. Each query must be sent with a subscription key. For more information about finding and using your API key, see the [introduction to using GraphQL](../graphql-examples/using_graphql_intro.ipynb) and the [Agrimetrics developer portal](https://developer.agrimetrics.co.uk)."
   ]
  },
  {
   "cell_type": "code",
   "execution_count": 3,
   "metadata": {},
   "outputs": [],
   "source": [
    "import os\n",
    "\n",
    "GRAPHQL_ENDPOINT = \"https://api.agrimetrics.co.uk/query-api/v1/graphql\"\n",
    "\n",
    "if \"API_KEY\" in os.environ:\n",
    "    API_KEY = os.environ[\"API_KEY\"]\n",
    "else:\n",
    "    API_KEY = input(\"Query API Subscription Key: \").strip()"
   ]
  },
  {
   "cell_type": "markdown",
   "metadata": {},
   "source": [
    "Let's start by retrieving the location of a field known by its ID as well as which crops where grown on it. See the [introduction to using GraphQL](../graphql-examples/using_graphql_intro.ipynb) tutorial for more details on making queries."
   ]
  },
  {
   "cell_type": "code",
   "execution_count": 5,
   "metadata": {},
   "outputs": [],
   "source": [
    "import requests\n",
    "\n",
    "FIELD_ID = 'https://data.agrimetrics.co.uk/fields/pE9QRHmyDMX9BzvtP8hvcg'\n",
    "GRAPHQL_ENDPOINT = 'https://api.agrimetrics.co.uk/graphql'\n",
    "headers = { 'Ocp-Apim-Subscription-Key': API_KEY, 'Content-Type': 'application/json', 'Accept-Encoding': 'gzip, deflate, br' }\n",
    "\n",
    "response = requests.post(GRAPHQL_ENDPOINT, headers=headers, json={\n",
    "    'query': '''\n",
    "        query getFieldByID($fieldID: [ID!]!) {\n",
    "            fields(where: {id: {EQ: $fieldID}}) {\n",
    "                sownCrop {\n",
    "                    harvestYear\n",
    "                    cropType\n",
    "                }\n",
    "                shape\n",
    "            }\n",
    "        }\n",
    "    ''',\n",
    "    'variables': { 'fieldID': FIELD_ID }\n",
    "})\n",
    "response.raise_for_status()"
   ]
  },
  {
   "cell_type": "markdown",
   "metadata": {},
   "source": [
    "The response is a JSON document:"
   ]
  },
  {
   "cell_type": "code",
   "execution_count": 6,
   "metadata": {},
   "outputs": [
    {
     "name": "stdout",
     "output_type": "stream",
     "text": [
      "Chosen field centroid: [-0.941086646, 51.410013151] species: GRASS\n"
     ]
    }
   ],
   "source": [
    "FIELD_ID_info = response.json()\n",
    "FIELD_ID_centroid = FIELD_ID_info['data']['fields'][0]['shape']['features'][0]['geometry']['coordinates']\n",
    "FIELD_ID_crop_species = FIELD_ID_info['data']['fields'][0]['sownCrop'][-1]['cropType']\n",
    "print('Chosen field centroid:', FIELD_ID_centroid, 'species:', FIELD_ID_crop_species)"
   ]
  },
  {
   "cell_type": "markdown",
   "metadata": {},
   "source": [
    "## Find all fields inside a 2km radius\n",
    "A second GraphQL query use the centroid obtained previously to find all fields inside a 2km circle."
   ]
  },
  {
   "cell_type": "code",
   "execution_count": 7,
   "metadata": {},
   "outputs": [],
   "source": [
    "response = requests.post(GRAPHQL_ENDPOINT, headers=headers, json={\n",
    "    'query': '''\n",
    "        query getFieldsWithinRadius($centroid: CoordinateScalar!, $distance: Float!) {\n",
    "            fields(geoFilter: {location: {type: Point, coordinates: $centroid}, distance: {LE: $distance}}) {\n",
    "                id\n",
    "                sownCrop {\n",
    "                    cropType\n",
    "                    harvestYear\n",
    "                }\n",
    "            }\n",
    "        }\n",
    "    ''',\n",
    "    'variables': { 'centroid': FIELD_ID_centroid, 'distance': 2000 } # distance in m\n",
    "})\n",
    "response.raise_for_status()"
   ]
  },
  {
   "cell_type": "markdown",
   "metadata": {},
   "source": [
    "The response can be loaded as a pandas DataFrame as:"
   ]
  },
  {
   "cell_type": "code",
   "execution_count": 8,
   "metadata": {},
   "outputs": [
    {
     "data": {
      "text/html": [
       "<div>\n",
       "<style scoped>\n",
       "    .dataframe tbody tr th:only-of-type {\n",
       "        vertical-align: middle;\n",
       "    }\n",
       "\n",
       "    .dataframe tbody tr th {\n",
       "        vertical-align: top;\n",
       "    }\n",
       "\n",
       "    .dataframe thead th {\n",
       "        text-align: right;\n",
       "    }\n",
       "</style>\n",
       "<table border=\"1\" class=\"dataframe\">\n",
       "  <thead>\n",
       "    <tr style=\"text-align: right;\">\n",
       "      <th></th>\n",
       "      <th>cropType</th>\n",
       "      <th>harvestYear</th>\n",
       "      <th>id</th>\n",
       "    </tr>\n",
       "  </thead>\n",
       "  <tbody>\n",
       "    <tr>\n",
       "      <th>0</th>\n",
       "      <td>GRASS</td>\n",
       "      <td>2016</td>\n",
       "      <td>https://data.agrimetrics.co.uk/fields/-Dzkwq1l...</td>\n",
       "    </tr>\n",
       "    <tr>\n",
       "      <th>1</th>\n",
       "      <td>GRASS</td>\n",
       "      <td>2017</td>\n",
       "      <td>https://data.agrimetrics.co.uk/fields/-Dzkwq1l...</td>\n",
       "    </tr>\n",
       "    <tr>\n",
       "      <th>2</th>\n",
       "      <td>GRASS</td>\n",
       "      <td>2018</td>\n",
       "      <td>https://data.agrimetrics.co.uk/fields/-Dzkwq1l...</td>\n",
       "    </tr>\n",
       "    <tr>\n",
       "      <th>3</th>\n",
       "      <td>GRASS</td>\n",
       "      <td>2016</td>\n",
       "      <td>https://data.agrimetrics.co.uk/fields/0-1lefgJ...</td>\n",
       "    </tr>\n",
       "    <tr>\n",
       "      <th>4</th>\n",
       "      <td>GRASS</td>\n",
       "      <td>2016</td>\n",
       "      <td>https://data.agrimetrics.co.uk/fields/0391UwZd...</td>\n",
       "    </tr>\n",
       "    <tr>\n",
       "      <th>...</th>\n",
       "      <td>...</td>\n",
       "      <td>...</td>\n",
       "      <td>...</td>\n",
       "    </tr>\n",
       "    <tr>\n",
       "      <th>307</th>\n",
       "      <td>GRASS</td>\n",
       "      <td>2018</td>\n",
       "      <td>https://data.agrimetrics.co.uk/fields/y6Ot7itb...</td>\n",
       "    </tr>\n",
       "    <tr>\n",
       "      <th>308</th>\n",
       "      <td>GRASS</td>\n",
       "      <td>2017</td>\n",
       "      <td>https://data.agrimetrics.co.uk/fields/yCNQqWFv...</td>\n",
       "    </tr>\n",
       "    <tr>\n",
       "      <th>309</th>\n",
       "      <td>GRASS</td>\n",
       "      <td>2018</td>\n",
       "      <td>https://data.agrimetrics.co.uk/fields/yCNQqWFv...</td>\n",
       "    </tr>\n",
       "    <tr>\n",
       "      <th>310</th>\n",
       "      <td>MAIZE</td>\n",
       "      <td>2017</td>\n",
       "      <td>https://data.agrimetrics.co.uk/fields/zMYGv-uH...</td>\n",
       "    </tr>\n",
       "    <tr>\n",
       "      <th>311</th>\n",
       "      <td>MAIZE</td>\n",
       "      <td>2018</td>\n",
       "      <td>https://data.agrimetrics.co.uk/fields/zMYGv-uH...</td>\n",
       "    </tr>\n",
       "  </tbody>\n",
       "</table>\n",
       "<p>312 rows × 3 columns</p>\n",
       "</div>"
      ],
      "text/plain": [
       "    cropType  harvestYear                                                 id\n",
       "0      GRASS         2016  https://data.agrimetrics.co.uk/fields/-Dzkwq1l...\n",
       "1      GRASS         2017  https://data.agrimetrics.co.uk/fields/-Dzkwq1l...\n",
       "2      GRASS         2018  https://data.agrimetrics.co.uk/fields/-Dzkwq1l...\n",
       "3      GRASS         2016  https://data.agrimetrics.co.uk/fields/0-1lefgJ...\n",
       "4      GRASS         2016  https://data.agrimetrics.co.uk/fields/0391UwZd...\n",
       "..       ...          ...                                                ...\n",
       "307    GRASS         2018  https://data.agrimetrics.co.uk/fields/y6Ot7itb...\n",
       "308    GRASS         2017  https://data.agrimetrics.co.uk/fields/yCNQqWFv...\n",
       "309    GRASS         2018  https://data.agrimetrics.co.uk/fields/yCNQqWFv...\n",
       "310    MAIZE         2017  https://data.agrimetrics.co.uk/fields/zMYGv-uH...\n",
       "311    MAIZE         2018  https://data.agrimetrics.co.uk/fields/zMYGv-uH...\n",
       "\n",
       "[312 rows x 3 columns]"
      ]
     },
     "execution_count": 8,
     "metadata": {},
     "output_type": "execute_result"
    }
   ],
   "source": [
    "import pandas as pd\n",
    "results = response.json()\n",
    "nearby_fields = pd.io.json.json_normalize(\n",
    "    results['data']['fields'], \n",
    "    record_path=['sownCrop'],\n",
    "    meta=['id'],\n",
    ")\n",
    "\n",
    "nearby_fields"
   ]
  },
  {
   "cell_type": "markdown",
   "metadata": {},
   "source": [
    "For our benchmarking purpose, we want to compare crops of the same species."
   ]
  },
  {
   "cell_type": "code",
   "execution_count": 9,
   "metadata": {},
   "outputs": [
    {
     "name": "stdout",
     "output_type": "stream",
     "text": [
      "There are 60 GRASS fields within 2km\n"
     ]
    }
   ],
   "source": [
    "nearby_species_2018_fields = nearby_fields[(nearby_fields['cropType'] == FIELD_ID_crop_species) & (nearby_fields['harvestYear'] == 2018)]\n",
    "print(f'There are {len(nearby_species_2018_fields)} {FIELD_ID_crop_species} fields within 2km')"
   ]
  },
  {
   "cell_type": "markdown",
   "metadata": {},
   "source": [
    "## Accessing Verde field attributes\n",
    "For accessing Verde field attributes, we must first register our Agrimetrics subscription for crop observations. It is necessary to register for each field we want Verde attributes. This is achieved by a GraphQL mutation:"
   ]
  },
  {
   "cell_type": "code",
   "execution_count": 10,
   "metadata": {},
   "outputs": [],
   "source": [
    "for field_id in nearby_species_2018_fields['id']:\n",
    "    response = requests.post(GRAPHQL_ENDPOINT, headers=headers, json={\n",
    "        'query': '''\n",
    "            mutation registerCropObservations($fieldId: ID!) {\n",
    "                account {\n",
    "                    premiumData {\n",
    "                        addCropObservationRegistrations(registrations: {fieldId: $fieldId, layerType: NON_CROP_SPECIFIC, season: SEP2017TOSEP2018}) {\n",
    "                            id \n",
    "                        }\n",
    "                    }\n",
    "                }\n",
    "            }\n",
    "        ''',\n",
    "        'variables': {'fieldId': field_id}\n",
    "    })\n",
    "    response.raise_for_status()"
   ]
  },
  {
   "cell_type": "markdown",
   "metadata": {},
   "source": [
    "Once we have registered, we can access Verde attribute crop observations for each fields. For this simple benchmarking, we will retrieve 3 timeseries: `normalisedDifferenceVegetationIndex`, `chlorophyllContent` and `greenVegetationCoverFraction`."
   ]
  },
  {
   "cell_type": "code",
   "execution_count": 11,
   "metadata": {},
   "outputs": [
    {
     "data": {
      "text/html": [
       "<div>\n",
       "<style scoped>\n",
       "    .dataframe tbody tr th:only-of-type {\n",
       "        vertical-align: middle;\n",
       "    }\n",
       "\n",
       "    .dataframe tbody tr th {\n",
       "        vertical-align: top;\n",
       "    }\n",
       "\n",
       "    .dataframe thead th {\n",
       "        text-align: right;\n",
       "    }\n",
       "</style>\n",
       "<table border=\"1\" class=\"dataframe\">\n",
       "  <thead>\n",
       "    <tr style=\"text-align: right;\">\n",
       "      <th></th>\n",
       "      <th>id</th>\n",
       "      <th>date_time</th>\n",
       "      <th>value</th>\n",
       "    </tr>\n",
       "  </thead>\n",
       "  <tbody>\n",
       "    <tr>\n",
       "      <th>0</th>\n",
       "      <td>https://data.agrimetrics.co.uk/fields/-Dzkwq1l...</td>\n",
       "      <td>2017-11-23 11:13:49+00:00</td>\n",
       "      <td>0.740598</td>\n",
       "    </tr>\n",
       "    <tr>\n",
       "      <th>1</th>\n",
       "      <td>https://data.agrimetrics.co.uk/fields/-Dzkwq1l...</td>\n",
       "      <td>2017-12-08 11:14:41+00:00</td>\n",
       "      <td>0.725569</td>\n",
       "    </tr>\n",
       "    <tr>\n",
       "      <th>2</th>\n",
       "      <td>https://data.agrimetrics.co.uk/fields/-Dzkwq1l...</td>\n",
       "      <td>2017-12-18 11:14:51+00:00</td>\n",
       "      <td>0.709237</td>\n",
       "    </tr>\n",
       "    <tr>\n",
       "      <th>3</th>\n",
       "      <td>https://data.agrimetrics.co.uk/fields/-Dzkwq1l...</td>\n",
       "      <td>2017-12-26 10:58:29+00:00</td>\n",
       "      <td>0.543443</td>\n",
       "    </tr>\n",
       "    <tr>\n",
       "      <th>4</th>\n",
       "      <td>https://data.agrimetrics.co.uk/fields/-Dzkwq1l...</td>\n",
       "      <td>2017-12-28 11:14:51+00:00</td>\n",
       "      <td>0.733893</td>\n",
       "    </tr>\n",
       "    <tr>\n",
       "      <th>...</th>\n",
       "      <td>...</td>\n",
       "      <td>...</td>\n",
       "      <td>...</td>\n",
       "    </tr>\n",
       "    <tr>\n",
       "      <th>2216</th>\n",
       "      <td>https://data.agrimetrics.co.uk/fields/yCNQqWFv...</td>\n",
       "      <td>2018-09-04 11:06:21+00:00</td>\n",
       "      <td>0.385951</td>\n",
       "    </tr>\n",
       "    <tr>\n",
       "      <th>2217</th>\n",
       "      <td>https://data.agrimetrics.co.uk/fields/yCNQqWFv...</td>\n",
       "      <td>2018-09-17 10:51:45+00:00</td>\n",
       "      <td>0.303537</td>\n",
       "    </tr>\n",
       "    <tr>\n",
       "      <th>2218</th>\n",
       "      <td>https://data.agrimetrics.co.uk/fields/yCNQqWFv...</td>\n",
       "      <td>2018-09-19 11:07:19+00:00</td>\n",
       "      <td>0.148777</td>\n",
       "    </tr>\n",
       "    <tr>\n",
       "      <th>2219</th>\n",
       "      <td>https://data.agrimetrics.co.uk/fields/yCNQqWFv...</td>\n",
       "      <td>2018-09-24 10:57:59+00:00</td>\n",
       "      <td>0.355927</td>\n",
       "    </tr>\n",
       "    <tr>\n",
       "      <th>2220</th>\n",
       "      <td>https://data.agrimetrics.co.uk/fields/yCNQqWFv...</td>\n",
       "      <td>2018-09-24 11:08:01+00:00</td>\n",
       "      <td>0.319111</td>\n",
       "    </tr>\n",
       "  </tbody>\n",
       "</table>\n",
       "<p>2221 rows × 3 columns</p>\n",
       "</div>"
      ],
      "text/plain": [
       "                                                     id  \\\n",
       "0     https://data.agrimetrics.co.uk/fields/-Dzkwq1l...   \n",
       "1     https://data.agrimetrics.co.uk/fields/-Dzkwq1l...   \n",
       "2     https://data.agrimetrics.co.uk/fields/-Dzkwq1l...   \n",
       "3     https://data.agrimetrics.co.uk/fields/-Dzkwq1l...   \n",
       "4     https://data.agrimetrics.co.uk/fields/-Dzkwq1l...   \n",
       "...                                                 ...   \n",
       "2216  https://data.agrimetrics.co.uk/fields/yCNQqWFv...   \n",
       "2217  https://data.agrimetrics.co.uk/fields/yCNQqWFv...   \n",
       "2218  https://data.agrimetrics.co.uk/fields/yCNQqWFv...   \n",
       "2219  https://data.agrimetrics.co.uk/fields/yCNQqWFv...   \n",
       "2220  https://data.agrimetrics.co.uk/fields/yCNQqWFv...   \n",
       "\n",
       "                     date_time     value  \n",
       "0    2017-11-23 11:13:49+00:00  0.740598  \n",
       "1    2017-12-08 11:14:41+00:00  0.725569  \n",
       "2    2017-12-18 11:14:51+00:00  0.709237  \n",
       "3    2017-12-26 10:58:29+00:00  0.543443  \n",
       "4    2017-12-28 11:14:51+00:00  0.733893  \n",
       "...                        ...       ...  \n",
       "2216 2018-09-04 11:06:21+00:00  0.385951  \n",
       "2217 2018-09-17 10:51:45+00:00  0.303537  \n",
       "2218 2018-09-19 11:07:19+00:00  0.148777  \n",
       "2219 2018-09-24 10:57:59+00:00  0.355927  \n",
       "2220 2018-09-24 11:08:01+00:00  0.319111  \n",
       "\n",
       "[2221 rows x 3 columns]"
      ]
     },
     "execution_count": 11,
     "metadata": {},
     "output_type": "execute_result"
    }
   ],
   "source": [
    "attributes_selection = ['normalisedDifferenceVegetationIndex', 'chlorophyllContent', 'greenVegetationCoverFraction']\n",
    "attributes_data = {}\n",
    "response = requests.post(GRAPHQL_ENDPOINT, headers=headers, json={\n",
    "    'query': '''\n",
    "        query getCropObservations($fieldIds: [ID!]!) {\n",
    "            fields(where: {id: {EQ: $fieldIds}}) {\n",
    "                id\n",
    "                cropObservations {\n",
    "                    normalisedDifferenceVegetationIndex {\n",
    "                        mean\n",
    "                        dateTime\n",
    "                    }\n",
    "                    chlorophyllContent {\n",
    "                        mean\n",
    "                        dateTime\n",
    "                    }\n",
    "                    greenVegetationCoverFraction {\n",
    "                        mean\n",
    "                        dateTime\n",
    "                    }\n",
    "                }\n",
    "            }\n",
    "        }\n",
    "    ''',\n",
    "    'variables': {'fieldIds': [*nearby_species_2018_fields['id']]}\n",
    "})\n",
    "response.raise_for_status()\n",
    "results = response.json()\n",
    "\n",
    "for attribute in attributes_selection:\n",
    "    attribute_data = pd.io.json.json_normalize(\n",
    "        results['data']['fields'], \n",
    "        record_path=['cropObservations', attribute],\n",
    "        meta=['id'],\n",
    "    )\n",
    "    attribute_data['date_time'] = pd.to_datetime(attribute_data['dateTime'])\n",
    "    attribute_data['value'] = attribute_data['mean']\n",
    "    attribute_data = attribute_data.dropna()   \n",
    "    attributes_data[attribute] = attribute_data[['id', 'date_time', 'value']]\n",
    "    \n",
    "attributes_data['normalisedDifferenceVegetationIndex']"
   ]
  },
  {
   "cell_type": "markdown",
   "metadata": {},
   "source": [
    "We have crop observations for our field and nearby fields of the same species. We select a time range used for comparing our fields."
   ]
  },
  {
   "cell_type": "code",
   "execution_count": 12,
   "metadata": {},
   "outputs": [
    {
     "data": {
      "text/plain": [
       "<Figure size 1500x100 with 3 Axes>"
      ]
     },
     "metadata": {},
     "output_type": "display_data"
    },
    {
     "data": {
      "text/plain": [
       "<function __main__.compare(date)>"
      ]
     },
     "execution_count": 12,
     "metadata": {},
     "output_type": "execute_result"
    }
   ],
   "source": [
    "from datetime import timedelta\n",
    "import matplotlib.pyplot as plt\n",
    "\n",
    "def compare(date):\n",
    "    fig = plt.figure(figsize=(15,1))\n",
    "    for i, attribute in enumerate(attributes_selection):\n",
    "        data = attributes_data[attribute]\n",
    "        from_date = date - timedelta(days=14)\n",
    "        to_date = date + timedelta(days=14)\n",
    "        filtered = data[(data.date_time > from_date) & (data.date_time < to_date)]\n",
    "\n",
    "        mean_data = filtered.groupby('id').mean()\n",
    "        ax = plt.subplot(1, 3, i + 1)\n",
    "        ax.set_title(attribute)       \n",
    "        \n",
    "        if mean_data.empty:\n",
    "            ax.text(0.5, 0.5, 'No data', color='black')\n",
    "            continue\n",
    "        for field_id in mean_data.index:\n",
    "            colour = 'red' if field_id == FIELD_ID else 'black'\n",
    "            alpha = 1 if field_id == FIELD_ID else 0.6\n",
    "            ax.axvline(mean_data.loc[field_id]['value'], color=colour, alpha=alpha, linewidth=3)\n",
    "        \n",
    "        mean_of_all_fields = mean_data['value'].mean()\n",
    "        ax.axvline(mean_of_all_fields, color='blue', linewidth=3, label='Nearby fields average')\n",
    "\n",
    "import ipywidgets as widgets\n",
    "\n",
    "start_date = min([attributes_data[attribute].date_time.min() for attribute in attributes_selection])\n",
    "end_date = max([attributes_data[attribute].date_time.max() for attribute in attributes_selection])\n",
    "dates = pd.date_range(start_date, end_date)\n",
    "\n",
    "widgets.interact(compare,\n",
    "    date=widgets.SelectionSlider(description='Date', options=dates, style={'description_width': 'initial'})\n",
    ")\n"
   ]
  }
 ],
 "metadata": {
  "file_extension": ".py",
  "kernelspec": {
   "display_name": "Python 3",
   "language": "python",
   "name": "python3"
  },
  "language_info": {
   "codemirror_mode": {
    "name": "ipython",
    "version": 3
   },
   "file_extension": ".py",
   "mimetype": "text/x-python",
   "name": "python",
   "nbconvert_exporter": "python",
   "pygments_lexer": "ipython3",
   "version": "3.7.3"
  },
  "mimetype": "text/x-python",
  "name": "python",
  "npconvert_exporter": "python",
  "pygments_lexer": "ipython3",
  "version": 3
 },
 "nbformat": 4,
 "nbformat_minor": 2
}
