{
 "cells": [
  {
   "cell_type": "markdown",
   "metadata": {},
   "source": [
    "# Registering For Verde Data \n",
    "\n",
    "This notebook provides a walk through the registration process to obtain Verde data for a field through the Agrimetrics Graph Query API.\n",
    "\n",
    "Registering a field for Verde data requires the following inputs:\n",
    "\n",
    "* Field ID: Thsi is the ID of the field of interest.\n",
    "\n",
    "* Season: This is the growing season for which crop observations are of interest. Currently supported seasons include `SEP2017TOSEP2018`, `SEP2018ToSEP2019` and `SEP2019ToSEP2020`\n",
    "\n",
    "* Type of layer: The layer type is either `CROP_SPECIFIC` or `NON_CROP_SPECIFIC`. `CROP_SEPCIFIC` would require crop type tp be specfied in the request.\n",
    "    `CROP_SPECIFIC` provides measurements for two parameters: Leaf Area Index (LAI) and Chlorophyll Contents.\n",
    "    `NON_CROP_SPECFIC` provides measurements for following parameters:\n",
    "        * Brown Vegetation Cover Fraction\n",
    "        * Canopy Foliage Mean Angle\n",
    "        * Canopy Holes\n",
    "        * Canopy Shadow Factor\n",
    "        * Canopy Wetness Vertical Balance\n",
    "        * Chlorophyll Content\n",
    "        * Flower Storey Cover Fraction\n",
    "        * Fraction Of Absorbed Photosynthetically Active Radiation\n",
    "        * Green Vegetation Cover Fraction\n",
    "        * Leaf Brown Index\n",
    "        * Leaf Water Content\n",
    "        * Normalised Difference Vegetation Index\n",
    "        * Soil Fraction\n",
    "        * Soil Water Saturation Fraction\n",
    "                \n",
    "* Crop Type: This is the sown crop for the season of interest. Currently supported crops include Corn, Wheat, Barley, Soya, Sugarbeet, Alomods,Rapeseed, Rice, Sunflower, Potatoes, Cotton, Alfalfa and Grass.\n",
    "\n",
    "**There are two steps in a registration process:**\n",
    "\n",
    "* Find out how much it costs to register a field for Verde data.\n",
    "* Register the field for Verde data.\n",
    "\n",
    "It is a highly recommended to find out about the cost of registering a field of interest using Step 1 before registering. The field ID used in these examples is a trial field in Reading, UK.\n",
    "\n",
    "First, we import the necessary Python modules."
   ]
  },
  {
   "cell_type": "code",
   "execution_count": 1,
   "metadata": {
    "pycharm": {
     "is_executing": false,
     "name": "#%%\n"
    }
   },
   "outputs": [],
   "source": [
    "import os\n",
    "import pandas as pd\n",
    "import requests"
   ]
  },
  {
   "cell_type": "markdown",
   "metadata": {},
   "source": [
    "Define the GraphQL endpoint and the API subscription key."
   ]
  },
  {
   "cell_type": "code",
   "execution_count": 2,
   "metadata": {
    "pycharm": {
     "is_executing": true,
     "name": "#%%\n"
    }
   },
   "outputs": [],
   "source": [
    "GRAPHQL_ENDPOINT = \"https://api.agrimetrics.co.uk/query-api/v1/graphql\"\n",
    "if \"API_KEY\" in os.environ:\n",
    "    API_KEY = os.environ[\"API_KEY\"]\n",
    "else:\n",
    "    API_KEY = input(\"Query API Subscription Key: \").strip()\n",
    "    \n",
    "common_headers = {\n",
    "    \"OCP-APIM-Subscription-Key\": API_KEY,\n",
    "    \"Accept\": \"application/json\",\n",
    "    \"Content-Type\": \"application/json\"\n",
    "}"
   ]
  },
  {
   "cell_type": "markdown",
   "metadata": {},
   "source": [
    "## Step 1: Find out how much it costs to register a field for Verde data.\n",
    " \n",
    "We will first find out how much it costs to register our trial field to obtain Verde data."
   ]
  },
  {
   "cell_type": "markdown",
   "metadata": {},
   "source": [
    "Firstly we create variables object with the variables that we will use to get the costs for a specific registration"
   ]
  },
  {
   "cell_type": "code",
   "execution_count": 3,
   "metadata": {
    "pycharm": {
     "is_executing": true,
     "name": "#%%\n"
    }
   },
   "outputs": [],
   "source": [
    "cost_variables = {\n",
    "    \"fieldId\": \"https://data.agrimetrics.co.uk/fields/-Dzkwq1lmP0VkSfEcpSqsQ\",\n",
    "    \"season\": \"SEP2019TOSEP2020\",\n",
    "    \"layerType\": \"CROP_SPECIFIC\",\n",
    "    \"cropType\": \"GRASS\"\n",
    "}"
   ]
  },
  {
   "cell_type": "markdown",
   "metadata": {},
   "source": [
    "Then we create a registration query"
   ]
  },
  {
   "cell_type": "code",
   "execution_count": 4,
   "metadata": {},
   "outputs": [],
   "source": [
    "cost_query = \"\"\"\n",
    "    query RegistrationCostQuery(\n",
    "        $fieldId: ID!,\n",
    "        $layerType: LayerType!,\n",
    "        $season: CropSeason!,\n",
    "        $cropType: ObservationCropType\n",
    "        ) \n",
    "    {\n",
    "      account {\n",
    "        premiumData {\n",
    "          cropObservationRegistrationsCost(registrations: {\n",
    "            fieldId: $fieldId, \n",
    "            layerType: $layerType , \n",
    "            season: $season, \n",
    "            cropType: $cropType}) {\n",
    "            cost\n",
    "          }\n",
    "        }\n",
    "      }\n",
    "    }\n",
    "\"\"\""
   ]
  },
  {
   "cell_type": "markdown",
   "metadata": {},
   "source": [
    "Construct the query object to pass to the API. \n",
    "Retrieve the data from the API using `requests`, and parse the returned JSON data."
   ]
  },
  {
   "cell_type": "code",
   "execution_count": 5,
   "metadata": {},
   "outputs": [],
   "source": [
    "cost_query_object = {\n",
    "  \"query\": cost_query,\n",
    "  \"variables\": cost_variables,\n",
    "  \"operationName\": \"RegistrationCostQuery\"\n",
    "}\n",
    "result = requests.post(GRAPHQL_ENDPOINT, headers=common_headers, json=cost_query_object)\n",
    "result.raise_for_status()\n",
    "data = result.json()[\"data\"]"
   ]
  },
  {
   "cell_type": "markdown",
   "metadata": {
    "pycharm": {
     "is_executing": true
    }
   },
   "source": [
    "Cost of registering a field is obtained from API response as follows"
   ]
  },
  {
   "cell_type": "code",
   "execution_count": 6,
   "metadata": {},
   "outputs": [],
   "source": [
    "cost = data['account']['premiumData']['cropObservationRegistrationsCost'][0]['cost']"
   ]
  },
  {
   "cell_type": "code",
   "execution_count": 7,
   "metadata": {},
   "outputs": [
    {
     "name": "stdout",
     "output_type": "stream",
     "text": [
      "Cost of registering the field https://data.agrimetrics.co.uk/fields/-Dzkwq1lmP0VkSfEcpSqsQ for verde observations is £0\n"
     ]
    }
   ],
   "source": [
    "print(f\"Cost of registering the field {cost_variables['fieldId']} for verde observations is £{cost}\")"
   ]
  },
  {
   "cell_type": "markdown",
   "metadata": {},
   "source": [
    "## Step 2: Registering a field for Verde data.\n",
    " \n",
    "After finding the cost of registration we will register our trial field to obtain Verde data. We will use the same query variables in this step."
   ]
  },
  {
   "cell_type": "code",
   "execution_count": 8,
   "metadata": {},
   "outputs": [],
   "source": [
    "registration_query = \"\"\"\n",
    "    mutation RegistrationQuery($fieldId: ID!,\n",
    "        $layerType: LayerType!,\n",
    "        $season: CropSeason!,\n",
    "        $cropType: ObservationCropType) {\n",
    "      account {\n",
    "        premiumData {\n",
    "          addCropObservationRegistrations(registrations: {\n",
    "            fieldId: $fieldId, \n",
    "            layerType: $layerType, \n",
    "            season: $season, \n",
    "            cropType: $cropType}) {\n",
    "            cost\n",
    "            id\n",
    "          }\n",
    "        }\n",
    "      }\n",
    "    }\n",
    "\"\"\""
   ]
  },
  {
   "cell_type": "markdown",
   "metadata": {},
   "source": [
    "Construct the query object to pass to the API. Retrieve the data from the API using requests, and parse the returned JSON data."
   ]
  },
  {
   "cell_type": "code",
   "execution_count": 9,
   "metadata": {},
   "outputs": [],
   "source": [
    "registration_query_object = {\n",
    "  \"query\": registration_query,\n",
    "  \"variables\": cost_variables,\n",
    "  \"operationName\": \"RegistrationQuery\"\n",
    "}\n",
    "result = requests.post(GRAPHQL_ENDPOINT, headers=common_headers, json=registration_query_object)\n",
    "result.raise_for_status()\n",
    "data = result.json()[\"data\"]"
   ]
  },
  {
   "cell_type": "markdown",
   "metadata": {},
   "source": [
    "Registering ID is obtained from API response as follows"
   ]
  },
  {
   "cell_type": "code",
   "execution_count": 10,
   "metadata": {},
   "outputs": [],
   "source": [
    "registrationID = data['account']['premiumData']['addCropObservationRegistrations'][0]['id']"
   ]
  },
  {
   "cell_type": "markdown",
   "metadata": {},
   "source": [
    "## Step 3: Getting Verde data for the registered field.\n",
    " \n",
    "After registration we can query the Verde data."
   ]
  },
  {
   "cell_type": "code",
   "execution_count": 11,
   "metadata": {},
   "outputs": [],
   "source": [
    "verde_data_query = \"\"\"\n",
    "query getFieldIdAtLocation($fieldId: [ID!]!) {\n",
    "  fields(where: {id: {EQ: $fieldId}}) {\n",
    "    cropObservations {\n",
    "      brownVegetationCoverFraction {\n",
    "        unit\n",
    "        median\n",
    "        mean\n",
    "      }\n",
    "    }\n",
    "  }\n",
    "}\n",
    "\n",
    "\"\"\""
   ]
  },
  {
   "cell_type": "code",
   "execution_count": 12,
   "metadata": {},
   "outputs": [],
   "source": [
    "data_query_object = {\n",
    "  \"query\": verde_data_query,\n",
    "  \"variables\": cost_variables,\n",
    "  \"operationName\": \"getFieldIdAtLocation\"\n",
    "}\n",
    "result = requests.post(GRAPHQL_ENDPOINT, headers=common_headers, json=data_query_object)\n",
    "result.raise_for_status()\n",
    "data = result.json()[\"data\"]"
   ]
  },
  {
   "cell_type": "code",
   "execution_count": 13,
   "metadata": {},
   "outputs": [
    {
     "name": "stdout",
     "output_type": "stream",
     "text": [
      "                                                  unit    median      mean\n",
      "0    http://data.agrimetrics.co.uk/units/decimal-fr...  0.126743  0.127750\n",
      "1    http://data.agrimetrics.co.uk/units/decimal-fr...  0.126743  0.127750\n",
      "2    http://data.agrimetrics.co.uk/units/decimal-fr...  0.131108  0.138733\n",
      "3    http://data.agrimetrics.co.uk/units/decimal-fr...  0.131108  0.138733\n",
      "4    http://data.agrimetrics.co.uk/units/decimal-fr...  0.101413  0.108096\n",
      "..                                                 ...       ...       ...\n",
      "149  http://data.agrimetrics.co.uk/units/decimal-fr...  0.021531  0.042932\n",
      "150  http://data.agrimetrics.co.uk/units/decimal-fr...  0.134236  0.140376\n",
      "151  http://data.agrimetrics.co.uk/units/decimal-fr...  0.134236  0.140376\n",
      "152  http://data.agrimetrics.co.uk/units/decimal-fr...  0.102420  0.100937\n",
      "153  http://data.agrimetrics.co.uk/units/decimal-fr...  0.102420  0.100937\n",
      "\n",
      "[154 rows x 3 columns]\n"
     ]
    }
   ],
   "source": [
    "first_field = data[\"fields\"][0]\n",
    "brown_vegetation = first_field[\"cropObservations\"][\"brownVegetationCoverFraction\"]\n",
    "brown_vegetation_df = pd.DataFrame(brown_vegetation)\n",
    "\n",
    "print(brown_vegetation_df)"
   ]
  }
 ],
 "metadata": {
  "kernelspec": {
   "display_name": "Python 3",
   "language": "python",
   "name": "python3"
  },
  "language_info": {
   "codemirror_mode": {
    "name": "ipython",
    "version": 3
   },
   "file_extension": ".py",
   "mimetype": "text/x-python",
   "name": "python",
   "nbconvert_exporter": "python",
   "pygments_lexer": "ipython3",
   "version": "3.7.3"
  },
  "pycharm": {
   "stem_cell": {
    "cell_type": "raw",
    "metadata": {
     "collapsed": false
    },
    "source": []
   }
  }
 },
 "nbformat": 4,
 "nbformat_minor": 1
}
