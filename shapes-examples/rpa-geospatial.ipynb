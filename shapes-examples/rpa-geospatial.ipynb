{
 "cells": [
  {
   "cell_type": "markdown",
   "id": "0bccd94f",
   "metadata": {},
   "source": [
    "## How to use \n",
    "\n",
    "\n",
    "### What you need to run the API\n",
    "\n",
    "   * An Agrimetrics subscription key\n",
    "   * An SBI\n",
    "\n",
    "### Steps\n",
    "\n",
    "   * Import shapes\n",
    "   * Get shapes, filtering by type `RPA`\n",
    "   "
   ]
  },
  {
   "cell_type": "markdown",
   "id": "606679af",
   "metadata": {},
   "source": [
    "### Install dependencies"
   ]
  },
  {
   "cell_type": "code",
   "execution_count": null,
   "id": "446d2bf6",
   "metadata": {},
   "outputs": [],
   "source": [
    "import sys\n",
    "!{sys.executable} -m pip install shapely geopandas matplotlib --quiet"
   ]
  },
  {
   "cell_type": "markdown",
   "id": "ebc88134",
   "metadata": {},
   "source": [
    "### Set SBI number"
   ]
  },
  {
   "cell_type": "code",
   "execution_count": null,
   "id": "2ab2c881",
   "metadata": {},
   "outputs": [],
   "source": [
    "import os\n",
    "from getpass import getpass\n",
    "from shapely.geometry import mapping, shape as shapelyShape\n",
    "\n",
    "if \"SBI_KEY\" in os.environ:\n",
    "    sbi = os.environ[\"SBI_KEY\"]\n",
    "else:\n",
    "    sbi = getpass(prompt=\"Enter your SBI:\").strip()"
   ]
  },
  {
   "cell_type": "markdown",
   "id": "301d219e",
   "metadata": {},
   "source": [
    "### Set API key"
   ]
  },
  {
   "cell_type": "code",
   "execution_count": null,
   "id": "728ee62e",
   "metadata": {},
   "outputs": [],
   "source": [
    "if \"API_KEY\" in os.environ:\n",
    "    subscription_key = os.environ[\"API_KEY\"]\n",
    "else:\n",
    "    subscription_key = getpass(prompt=\"Enter your subscription key:\").strip()"
   ]
  },
  {
   "cell_type": "markdown",
   "id": "11115cb5",
   "metadata": {},
   "source": [
    "### Import RPA shapes"
   ]
  },
  {
   "cell_type": "code",
   "execution_count": null,
   "id": "13ab0482",
   "metadata": {},
   "outputs": [],
   "source": [
    "import requests\n",
    "import json\n",
    "\n",
    "import_shapes = input(\n",
    "    \"Do you want to import your RPA field boundaries from DEFRA? y/n:\"\n",
    ")\n",
    "\n",
    "if import_shapes.lower() == \"y\":\n",
    "\n",
    "    url = \"https://api-test.agrimetrics.co.uk/shapes/services/rpa/import\"\n",
    "\n",
    "    payload = json.dumps({\"sbi\": sbi})\n",
    "    agrimetrics_headers = {\n",
    "        \"ocp-apim-subscription-key\": subscription_key,\n",
    "        \"Content-Type\": \"application/json\",\n",
    "    }\n",
    "\n",
    "    response = requests.post(url, headers=agrimetrics_headers, data=payload)\n",
    "\n",
    "    if response.ok:\n",
    "        message = json.loads(response.text).get(\"message\", \"0 shapes created\")\n",
    "        number_of_shapes = int(message.split()[0])\n",
    "        print(\n",
    "            f\"{number_of_shapes} RPA boundaries imported to the Agrimetrics Shapes API\"\n",
    "        )"
   ]
  },
  {
   "cell_type": "markdown",
   "id": "4fa4952d",
   "metadata": {},
   "source": [
    "### Get RPA boundaries from Agrimetrics Shapes API"
   ]
  },
  {
   "cell_type": "code",
   "execution_count": null,
   "id": "c1580818",
   "metadata": {},
   "outputs": [],
   "source": [
    "all_shapes = []\n",
    "\n",
    "max_pages = 10\n",
    "results_per_page = 100  # note there is a maximum page size of 100\n",
    "\n",
    "headers = agrimetrics_headers\n",
    "\n",
    "\n",
    "def get_shapes(page=1, results=results_per_page):\n",
    "    shapes_url = f\"https://api-test.agrimetrics.co.uk/shapes/shapes?pageNum={page}&pageSize={results}\"\n",
    "    shapes_response = requests.get(shapes_url, headers=agrimetrics_headers).json()\n",
    "    print(shapes_response)\n",
    "    return shapes_response[\"shapes\"]\n",
    "\n",
    "\n",
    "for page in range(1, max_pages + 1):\n",
    "    shapes = get_shapes(page)\n",
    "    if not shapes:\n",
    "        break\n",
    "    all_shapes.extend(shapes)\n",
    "\n",
    "rpa_shapes = [shape for shape in all_shapes if shape[\"source\"] == \"rpa\"]"
   ]
  },
  {
   "cell_type": "markdown",
   "id": "7597afdc",
   "metadata": {},
   "source": [
    "### Get layers for data set from Agrimetrics Geospatial API"
   ]
  },
  {
   "cell_type": "code",
   "execution_count": null,
   "id": "36bf486e",
   "metadata": {},
   "outputs": [],
   "source": [
    "import requests\n",
    "\n",
    "dataset_id = \"f0985f68-3b10-4d67-b0f2-3d8521e38dec\"\n",
    "\n",
    "\n",
    "def getLayersFromDataset(dataset=dataset_id):\n",
    "    url = f\"https://api-test.agrimetrics.co.uk/geospatial/datasets/{dataset_id}\"\n",
    "    response = requests.get(url, headers=agrimetrics_headers).json()\n",
    "    layer_in_response = [layer[\"links\"][\"self\"] for layer in response[\"layers\"]]\n",
    "    return layer_in_response\n",
    "\n",
    "\n",
    "layerIds = getLayersFromDataset()\n",
    "print(f\"Working with the following layers: {layerIds}\")"
   ]
  },
  {
   "cell_type": "markdown",
   "id": "e71ca8d4",
   "metadata": {},
   "source": [
    "### Search shapes against data set\n",
    "\n",
    "Search Geospatial API for each layer in each RPA shape. The shape is first simplified to help search performance."
   ]
  },
  {
   "cell_type": "code",
   "execution_count": null,
   "id": "63de7438",
   "metadata": {},
   "outputs": [],
   "source": [
    "import geopandas as gpd\n",
    "import matplotlib.pyplot as plt\n",
    "\n",
    "SHAPE_TOLERANCE = 0.05  # lower value means less simplification\n",
    "NUMBER_OF_RPA_BOUNDARIES_TO_CHECK = 10\n",
    "\n",
    "\n",
    "def searchGeospatial(boundary, layer):\n",
    "    geospatial_url = f\"{layer}/search\"\n",
    "\n",
    "    simplified = shapelyShape(boundary).simplify(\n",
    "        SHAPE_TOLERANCE, preserve_topology=True\n",
    "    )\n",
    "\n",
    "    body = json.dumps(\n",
    "        {\"geometry\": mapping(simplified), \"outputFormat\": \"application/json\"}\n",
    "    )\n",
    "\n",
    "    return requests.post(geospatial_url, headers=agrimetrics_headers, data=body)\n",
    "\n",
    "\n",
    "for shape in rpa_shapes[:NUMBER_OF_RPA_BOUNDARIES_TO_CHECK]:\n",
    "\n",
    "    full_shape = requests.get(shape[\"id\"], headers=agrimetrics_headers).json()\n",
    "    searchResponse = searchGeospatial(\n",
    "        boundary=full_shape[\"boundary\"], layer=layerIds[0]\n",
    "    )\n",
    "    output = searchResponse.json()\n",
    "\n",
    "    rpa_feature = {\n",
    "        \"type\": \"Feature\",\n",
    "        \"id\": \"temp_id\",\n",
    "        \"geometry\": full_shape[\"boundary\"],\n",
    "        \"properties\": {},\n",
    "    }\n",
    "\n",
    "    df_rpa_boundary = gpd.GeoDataFrame.from_features([rpa_feature])\n",
    "    df_water_catchments = gpd.GeoDataFrame.from_features(output.get(\"features\", []))\n",
    "\n",
    "    print(\"--------------------------------------------------\")\n",
    "\n",
    "    print(f\"RPA field id: {shape['userLabel']} is in the following water catchment(s):\")\n",
    "    water_plot = df_water_catchments.plot(\"wb_name\", cmap=\"plasma\")\n",
    "    df_rpa_boundary.plot(ax=water_plot.axes, cmap=\"spring\")\n",
    "    plt.show()\n",
    "    for feature in output.get(\"features\", []):\n",
    "        print(f\"     {feature['properties']['wb_name']}\")"
   ]
  }
 ],
 "metadata": {
  "kernelspec": {
   "display_name": "Python 3 (ipykernel)",
   "language": "python",
   "name": "python3"
  },
  "language_info": {
   "codemirror_mode": {
    "name": "ipython",
    "version": 3
   },
   "file_extension": ".py",
   "mimetype": "text/x-python",
   "name": "python",
   "nbconvert_exporter": "python",
   "pygments_lexer": "ipython3",
   "version": "3.8.12"
  }
 },
 "nbformat": 4,
 "nbformat_minor": 5
}
