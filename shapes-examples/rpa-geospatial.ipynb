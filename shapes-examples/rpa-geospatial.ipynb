{
 "cells": [
  {
   "cell_type": "markdown",
   "id": "0bccd94f",
   "metadata": {},
   "source": [
    "## How to use \n",
    "\n",
    "\n",
    "If you know your Single Business Identifier (SBI) then you can use it to retrieve RPA field boundaries from the Agrimetrics Shapes API.\n",
    "\n",
    "In order to do this you will also need an API subscription key. If you don't have a subscription key then please refer to [this documention](https://developer.agrimetrics.co.uk/docs/getting-started) to obtain your key.\n",
    "\n",
    "Once you have your SBI number and your API Key you can call the Shapes API. This is a two-step process:\n",
    "\n",
    "1. Import your boundaries by providing your SBI to the Shapes API\n",
    "2. Find out the identifiers for your boundaries by querying the Shapes API\n",
    "3. Retrieve boundaries by querying the Shapes API\n",
    "\n",
    "   "
   ]
  },
  {
   "cell_type": "markdown",
   "id": "606679af",
   "metadata": {},
   "source": [
    "### Install dependencies"
   ]
  },
  {
   "cell_type": "code",
   "execution_count": null,
   "id": "446d2bf6",
   "metadata": {},
   "outputs": [],
   "source": [
    "import sys\n",
    "!{sys.executable} -m pip install shapely geopandas matplotlib --quiet"
   ]
  },
  {
   "cell_type": "markdown",
   "id": "ebc88134",
   "metadata": {},
   "source": [
    "### Set SBI number"
   ]
  },
  {
   "cell_type": "code",
   "execution_count": null,
   "id": "2ab2c881",
   "metadata": {},
   "outputs": [],
   "source": [
    "import os\n",
    "from getpass import getpass\n",
    "from shapely.geometry import mapping, shape as shapelyShape\n",
    "\n",
    "if \"SBI_KEY\" in os.environ:\n",
    "    sbi = os.environ[\"SBI_KEY\"]\n",
    "else:\n",
    "    sbi = getpass(prompt=\"Enter your SBI:\").strip()"
   ]
  },
  {
   "cell_type": "markdown",
   "id": "301d219e",
   "metadata": {},
   "source": [
    "### Set API key"
   ]
  },
  {
   "cell_type": "code",
   "execution_count": null,
   "id": "728ee62e",
   "metadata": {},
   "outputs": [],
   "source": [
    "if \"API_KEY\" in os.environ:\n",
    "    subscription_key = os.environ[\"API_KEY\"]\n",
    "else:\n",
    "    subscription_key = getpass(prompt=\"Enter your subscription key:\").strip()"
   ]
  },
  {
   "cell_type": "markdown",
   "id": "11115cb5",
   "metadata": {},
   "source": [
    "### Import RPA shapes"
   ]
  },
  {
   "cell_type": "code",
   "execution_count": null,
   "id": "13ab0482",
   "metadata": {},
   "outputs": [],
   "source": [
    "import requests\n",
    "import json\n",
    "\n",
    "import_shapes = input(\n",
    "    \"Do you want to import your RPA field boundaries from DEFRA? y/n:\"\n",
    ")\n",
    "\n",
    "if import_shapes.lower() == \"y\":\n",
    "\n",
    "    url = \"https://api.agrimetrics.co.uk/shapes/services/rpa/import\"\n",
    "\n",
    "    payload = json.dumps({\"sbi\": sbi})\n",
    "    agrimetrics_headers = {\n",
    "        \"ocp-apim-subscription-key\": subscription_key,\n",
    "        \"Content-Type\": \"application/json\",\n",
    "    }\n",
    "\n",
    "    response = requests.post(url, headers=agrimetrics_headers, data=payload)\n",
    "\n",
    "    if response.ok:\n",
    "        message = json.loads(response.text).get(\"message\", \"0 shapes created\")\n",
    "        number_of_shapes = int(message.split()[0])\n",
    "        print(\n",
    "            f\"{number_of_shapes} RPA boundaries imported to the Agrimetrics Shapes API\"\n",
    "        )"
   ]
  },
  {
   "cell_type": "markdown",
   "id": "b76f6e57",
   "metadata": {},
   "source": [
    "These shapes are polygons that represent your field boundaries. They are stored in our system as geometry objects."
   ]
  },
  {
   "cell_type": "markdown",
   "id": "4fa4952d",
   "metadata": {},
   "source": [
    "### Get RPA boundaries from Agrimetrics Shapes API"
   ]
  },
  {
   "cell_type": "code",
   "execution_count": null,
   "id": "c1580818",
   "metadata": {},
   "outputs": [],
   "source": [
    "all_shapes = []\n",
    "\n",
    "max_pages = 10\n",
    "results_per_page = 100  # note there is a maximum page size of 100\n",
    "\n",
    "headers = agrimetrics_headers\n",
    "\n",
    "\n",
    "def get_shapes(page=1, results=results_per_page):\n",
    "    shapes_url = f\"https://api.agrimetrics.co.uk/shapes/shapes?pageNum={page}&pageSize={results}\"\n",
    "    shapes_response = requests.get(shapes_url, headers=agrimetrics_headers).json()\n",
    "    print(shapes_response)\n",
    "    return shapes_response[\"shapes\"]\n",
    "\n",
    "\n",
    "for page in range(1, max_pages + 1):\n",
    "    shapes = get_shapes(page)\n",
    "    if not shapes:\n",
    "        break\n",
    "    all_shapes.extend(shapes)\n",
    "\n",
    "rpa_shapes = [shape for shape in all_shapes if shape[\"source\"] == \"rpa\"]"
   ]
  },
  {
   "cell_type": "markdown",
   "id": "7597afdc",
   "metadata": {},
   "source": [
    "### Retrieve individual polygons as a GeoJson collection"
   ]
  },
  {
   "cell_type": "code",
   "execution_count": null,
   "id": "36bf486e",
   "metadata": {},
   "outputs": [],
   "source": [
    "urls=[shape['id'] for shape in rpa_shapes]\n",
    "\n",
    "def get_polygons(shapes_url):\n",
    "    shapes_response = requests.get(shapes_url, headers=agrimetrics_headers).json()\n",
    "    return shapes_response\n",
    "\n",
    "def turn_2_feature(polygon):\n",
    "    return {\n",
    "        \"type\": \"Feature\",\n",
    "        \"properties\": {},\n",
    "        \"geometry\": polygon\n",
    "    }\n",
    "polygons = [turn_2_feature(get_polygons(url)['boundary']) for url in urls]\n",
    "with open('polygons.json', 'w')as f:\n",
    "    json.dump(polygons, f, indent=2)"
   ]
  }
 ],
 "metadata": {
  "kernelspec": {
   "display_name": "Python 3.9.10 64-bit",
   "language": "python",
   "name": "python3"
  },
  "language_info": {
   "codemirror_mode": {
    "name": "ipython",
    "version": 3
   },
   "file_extension": ".py",
   "mimetype": "text/x-python",
   "name": "python",
   "nbconvert_exporter": "python",
   "pygments_lexer": "ipython3",
   "version": "3.9.10"
  },
  "vscode": {
   "interpreter": {
    "hash": "36cf16204b8548560b1c020c4e8fb5b57f0e4c58016f52f2d4be01e192833930"
   }
  }
 },
 "nbformat": 4,
 "nbformat_minor": 5
}
