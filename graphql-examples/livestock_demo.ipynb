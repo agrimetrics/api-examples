{
 "cells": [
  {
   "cell_type": "markdown",
   "metadata": {},
   "source": [
    "# Demonstration Querying Livestock data"
   ]
  },
  {
   "cell_type": "markdown",
   "metadata": {},
   "source": [
    "Here we demonstrate querying linked-livestock data over the Agrimetrics GraphQL API. We take the approach of constructing the query statements using the Agrimetrics Query Builder https://app.agrimetrics.co.uk/#/graph-explorer, then use the \"Export Code\" option to get the Python 3 code for the query, which we can run in this Jupyter notebook and then analyse."
   ]
  },
  {
   "cell_type": "markdown",
   "metadata": {},
   "source": [
    "Details of the Demonstration Linked Livestock data are given here https://app.agrimetrics.co.uk/#/catalog/data-sets/b8543f8a-576e-44e7-ad60-7501106482ff"
   ]
  },
  {
   "cell_type": "markdown",
   "metadata": {},
   "source": [
    "We demonstrate two queries here. The first shows the extraction of data from a JSON structure that does not immediately lend itself to being viewed as a 2-dimensional table. For that we work with the milk spectrum data. The second involves querying both cow location data AND weather and crop type data for the same general area to show how cow, field and weather data for the same general location."
   ]
  },
  {
   "cell_type": "markdown",
   "metadata": {},
   "source": [
    "## 1. Querying milk spectrum data"
   ]
  },
  {
   "cell_type": "markdown",
   "metadata": {},
   "source": [
    "We first go to https://app.agrimetrics.co.uk/#/graph-explorer and paste the query below into the middle panel (replacing the existing) query"
   ]
  },
  {
   "cell_type": "raw",
   "metadata": {},
   "source": [
    "query getMilkSpectra {\n",
    "  demoDataSets {\n",
    "    livestockDemo {\n",
    "      observations(where: {observationType: {EQ: MILK}}) {\n",
    "        ... on MilkObservation {\n",
    "          dateTime\n",
    "          observationType\n",
    "          milkSpectrum {\n",
    "            unit\n",
    "            intensity\n",
    "            wavenumber\n",
    "          }\n",
    "        }\n",
    "      }\n",
    "    }\n",
    "  }\n",
    "}"
   ]
  },
  {
   "cell_type": "markdown",
   "metadata": {},
   "source": [
    "Next run the query to ensure it works. It should result in JSON code in the right hand window showing the data."
   ]
  },
  {
   "cell_type": "markdown",
   "metadata": {},
   "source": [
    "Next we click \"Export Code\" and the code export window pops up. It should already be set to showing \"Python 3\" code. "
   ]
  },
  {
   "cell_type": "markdown",
   "metadata": {},
   "source": [
    "Click the \"Show API Credentials\" button to obtain your API key. Run the following cell to insert the API key and enable this notebook."
   ]
  },
  {
   "cell_type": "code",
   "execution_count": 1,
   "metadata": {},
   "outputs": [
    {
     "name": "stdout",
     "output_type": "stream",
     "text": [
      "Please enter your API key:\n"
     ]
    }
   ],
   "source": [
    "import os\n",
    "\n",
    "API_KEY = os.environ.get('API_KEY')\n",
    "if API_KEY is None: \n",
    "    API_KEY = input(\"Please enter your API key:\")"
   ]
  },
  {
   "cell_type": "code",
   "execution_count": 2,
   "metadata": {},
   "outputs": [],
   "source": [
    "# Python 3\n",
    "import requests\n",
    "\n",
    "url = \"https://api.agrimetrics.co.uk/graphql\"\n",
    "\n",
    "payload = {\"query\":\" query getMilkSpectra { demoDataSets { livestockDemo { observations(where: {observationType: {EQ: MILK}}) { ... on MilkObservation { dateTime observationType milkSpectrum { unit intensity wavenumber } } } } } }\"}\n",
    "headers = {\n",
    "    'Accept': \"application/json\",\n",
    "    'Ocp-Apim-Subscription-Key': API_KEY,\n",
    "    'Content-Type': \"application/json\",\n",
    "    'Accept-Encoding': \"gzip, deflate, br\",\n",
    "}\n",
    "\n",
    "response = requests.request(\"POST\", url, json=payload, headers=headers)"
   ]
  },
  {
   "cell_type": "markdown",
   "metadata": {},
   "source": [
    "That code should simply run right away and store the results in the \"response\" variable.  We next extract the JSON data from that response and convert it into a Pandas DataFrame. "
   ]
  },
  {
   "cell_type": "code",
   "execution_count": 3,
   "metadata": {
    "scrolled": false
   },
   "outputs": [
    {
     "data": {
      "text/html": [
       "<div>\n",
       "<style scoped>\n",
       "    .dataframe tbody tr th:only-of-type {\n",
       "        vertical-align: middle;\n",
       "    }\n",
       "\n",
       "    .dataframe tbody tr th {\n",
       "        vertical-align: top;\n",
       "    }\n",
       "\n",
       "    .dataframe thead th {\n",
       "        text-align: right;\n",
       "    }\n",
       "</style>\n",
       "<table border=\"1\" class=\"dataframe\">\n",
       "  <thead>\n",
       "    <tr style=\"text-align: right;\">\n",
       "      <th></th>\n",
       "      <th>dateTime</th>\n",
       "      <th>observationType</th>\n",
       "      <th>milkSpectrum</th>\n",
       "    </tr>\n",
       "  </thead>\n",
       "  <tbody>\n",
       "    <tr>\n",
       "      <td>0</td>\n",
       "      <td>2018-02-01T00:00:00.000Z</td>\n",
       "      <td>MilkObservation</td>\n",
       "      <td>None</td>\n",
       "    </tr>\n",
       "    <tr>\n",
       "      <td>1</td>\n",
       "      <td>2018-02-01T00:00:00.000Z</td>\n",
       "      <td>MilkObservation</td>\n",
       "      <td>None</td>\n",
       "    </tr>\n",
       "    <tr>\n",
       "      <td>2</td>\n",
       "      <td>2018-02-01T00:00:00.000Z</td>\n",
       "      <td>MilkObservation</td>\n",
       "      <td>None</td>\n",
       "    </tr>\n",
       "    <tr>\n",
       "      <td>3</td>\n",
       "      <td>2018-02-01T00:00:00.000Z</td>\n",
       "      <td>MilkObservation</td>\n",
       "      <td>None</td>\n",
       "    </tr>\n",
       "    <tr>\n",
       "      <td>4</td>\n",
       "      <td>2018-02-01T00:00:00.000Z</td>\n",
       "      <td>MilkObservation</td>\n",
       "      <td>None</td>\n",
       "    </tr>\n",
       "    <tr>\n",
       "      <td>...</td>\n",
       "      <td>...</td>\n",
       "      <td>...</td>\n",
       "      <td>...</td>\n",
       "    </tr>\n",
       "    <tr>\n",
       "      <td>105</td>\n",
       "      <td>2018-03-29T10:00:00.000Z</td>\n",
       "      <td>MilkObservation</td>\n",
       "      <td>[{'unit': 'Per Centimetre', 'intensity': 0.625...</td>\n",
       "    </tr>\n",
       "    <tr>\n",
       "      <td>106</td>\n",
       "      <td>2018-03-30T00:00:00.000Z</td>\n",
       "      <td>MilkObservation</td>\n",
       "      <td>None</td>\n",
       "    </tr>\n",
       "    <tr>\n",
       "      <td>107</td>\n",
       "      <td>2018-03-30T10:00:00.000Z</td>\n",
       "      <td>MilkObservation</td>\n",
       "      <td>[{'unit': 'Per Centimetre', 'intensity': 0.782...</td>\n",
       "    </tr>\n",
       "    <tr>\n",
       "      <td>108</td>\n",
       "      <td>2018-03-31T10:00:00.000Z</td>\n",
       "      <td>MilkObservation</td>\n",
       "      <td>[{'unit': 'Per Centimetre', 'intensity': 0.823...</td>\n",
       "    </tr>\n",
       "    <tr>\n",
       "      <td>109</td>\n",
       "      <td>2018-04-01T10:00:00.000Z</td>\n",
       "      <td>MilkObservation</td>\n",
       "      <td>[{'unit': 'Per Centimetre', 'intensity': 0.031...</td>\n",
       "    </tr>\n",
       "  </tbody>\n",
       "</table>\n",
       "<p>110 rows × 3 columns</p>\n",
       "</div>"
      ],
      "text/plain": [
       "                     dateTime  observationType  \\\n",
       "0    2018-02-01T00:00:00.000Z  MilkObservation   \n",
       "1    2018-02-01T00:00:00.000Z  MilkObservation   \n",
       "2    2018-02-01T00:00:00.000Z  MilkObservation   \n",
       "3    2018-02-01T00:00:00.000Z  MilkObservation   \n",
       "4    2018-02-01T00:00:00.000Z  MilkObservation   \n",
       "..                        ...              ...   \n",
       "105  2018-03-29T10:00:00.000Z  MilkObservation   \n",
       "106  2018-03-30T00:00:00.000Z  MilkObservation   \n",
       "107  2018-03-30T10:00:00.000Z  MilkObservation   \n",
       "108  2018-03-31T10:00:00.000Z  MilkObservation   \n",
       "109  2018-04-01T10:00:00.000Z  MilkObservation   \n",
       "\n",
       "                                          milkSpectrum  \n",
       "0                                                 None  \n",
       "1                                                 None  \n",
       "2                                                 None  \n",
       "3                                                 None  \n",
       "4                                                 None  \n",
       "..                                                 ...  \n",
       "105  [{'unit': 'Per Centimetre', 'intensity': 0.625...  \n",
       "106                                               None  \n",
       "107  [{'unit': 'Per Centimetre', 'intensity': 0.782...  \n",
       "108  [{'unit': 'Per Centimetre', 'intensity': 0.823...  \n",
       "109  [{'unit': 'Per Centimetre', 'intensity': 0.031...  \n",
       "\n",
       "[110 rows x 3 columns]"
      ]
     },
     "execution_count": 3,
     "metadata": {},
     "output_type": "execute_result"
    }
   ],
   "source": [
    "import json\n",
    "import pandas as pd\n",
    "from pandas.io.json import json_normalize\n",
    "\n",
    "JSONOutput = json.loads(response.text)\n",
    "tableOutput=pd.DataFrame(JSONOutput)\n",
    "observationList = pd.DataFrame(pd.DataFrame(tableOutput.iat[0,0]).iat[0,0])\n",
    "observationList"
   ]
  },
  {
   "cell_type": "markdown",
   "metadata": {},
   "source": [
    "Now we can extract some spectrum data from that data structure. For now let's just pull out an individual spectrum associated with one observation and plot it in a graph."
   ]
  },
  {
   "cell_type": "code",
   "execution_count": 5,
   "metadata": {},
   "outputs": [
    {
     "data": {
      "image/png": "[encoded data removed]",
      "text/plain": [
       "<Figure size 432x288 with 1 Axes>"
      ]
     },
     "metadata": {
      "needs_background": "light"
     },
     "output_type": "display_data"
    }
   ],
   "source": [
    "import matplotlib.pyplot as plt\n",
    "\n",
    "filteredObservations = observationList[observationList.milkSpectrum.notnull()]\n",
    "\n",
    "for spectrumObservation in filteredObservations.milkSpectrum:\n",
    "    spectrumTable=pd.DataFrame(spectrumObservation)\n",
    "    sortedSpectrumTable = spectrumTable.sort_values(by='wavenumber')\n",
    "    plt.plot(sortedSpectrumTable.wavenumber,sortedSpectrumTable.intensity, '-x')\n",
    "\n",
    "# Formatting \n",
    "plt.xlabel('wavenumber (Per Centimetre)')\n",
    "plt.ylabel('normalised intensity (arbitrary units)')\n",
    "plt.yticks([0], [0])\n",
    "plt.plot([1, 10], [0, 0], linestyle='--')\n",
    "plt.show()"
   ]
  },
  {
   "cell_type": "markdown",
   "metadata": {},
   "source": [
    "## 2. Querying livestock and weather data together"
   ]
  },
  {
   "cell_type": "markdown",
   "metadata": {},
   "source": [
    "As before, we first go to https://app.agrimetrics.co.uk/#/graph-explorer and paste the query below into the middle panel (replacing the existing) query"
   ]
  },
  {
   "cell_type": "raw",
   "metadata": {},
   "source": [
    "query getLocationAndWeather {\n",
    "  demoDataSets {\n",
    "    livestockDemo {\n",
    "      cow {\n",
    "        id\n",
    "        grazing {\n",
    "          location {\n",
    "            dateTime\n",
    "            observationType\n",
    "            point\n",
    "          }\n",
    "        }\n",
    "      }\n",
    "    }\n",
    "  }\n",
    "}"
   ]
  },
  {
   "cell_type": "markdown",
   "metadata": {},
   "source": [
    "Next tun the query as before to ensure it work and then click \"Export Code\" export the code as before. The code should look somethign like this (but you'll need to ensure your API key is in it):"
   ]
  },
  {
   "cell_type": "code",
   "execution_count": 7,
   "metadata": {},
   "outputs": [],
   "source": [
    "# Python 3\n",
    "import requests\n",
    "\n",
    "url = \"https://api.agrimetrics.co.uk/graphql\"\n",
    "\n",
    "payload = {\"query\":\"query getCowLocations { demoDataSets { livestockDemo { cow { id grazing { location { dateTime observationType point } } } } } }\"}\n",
    "headers = {\n",
    "    'Accept': \"application/json\",\n",
    "    'Ocp-Apim-Subscription-Key': API_KEY,\n",
    "    'Content-Type': \"application/json\",\n",
    "    'Accept-Encoding': \"gzip, deflate, br\",\n",
    "}\n",
    "\n",
    "response = requests.request(\"POST\", url, json=payload, headers=headers)"
   ]
  },
  {
   "cell_type": "markdown",
   "metadata": {},
   "source": [
    "That code should simply run right away and store the results in the \"response\" variable. We next extract the JSON data from that response and convert it into a normalized Pandas DataFrame. "
   ]
  },
  {
   "cell_type": "code",
   "execution_count": 8,
   "metadata": {},
   "outputs": [
    {
     "data": {
      "text/html": [
       "<div>\n",
       "<style scoped>\n",
       "    .dataframe tbody tr th:only-of-type {\n",
       "        vertical-align: middle;\n",
       "    }\n",
       "\n",
       "    .dataframe tbody tr th {\n",
       "        vertical-align: top;\n",
       "    }\n",
       "\n",
       "    .dataframe thead th {\n",
       "        text-align: right;\n",
       "    }\n",
       "</style>\n",
       "<table border=\"1\" class=\"dataframe\">\n",
       "  <thead>\n",
       "    <tr style=\"text-align: right;\">\n",
       "      <th></th>\n",
       "      <th>dateTime</th>\n",
       "      <th>point.coordinates</th>\n",
       "      <th>id</th>\n",
       "    </tr>\n",
       "  </thead>\n",
       "  <tbody>\n",
       "    <tr>\n",
       "      <td>0</td>\n",
       "      <td>2018-07-07T01:00:00.000Z</td>\n",
       "      <td>[-0.936306924, 51.40829159]</td>\n",
       "      <td>https://data.agrimetrics.co.uk/animals/900192796</td>\n",
       "    </tr>\n",
       "    <tr>\n",
       "      <td>1</td>\n",
       "      <td>2018-07-01T09:00:00.000Z</td>\n",
       "      <td>[-0.936115928, 51.40835539]</td>\n",
       "      <td>https://data.agrimetrics.co.uk/animals/900192796</td>\n",
       "    </tr>\n",
       "    <tr>\n",
       "      <td>2</td>\n",
       "      <td>2018-07-02T21:00:00.000Z</td>\n",
       "      <td>[-0.936301449, 51.40808253]</td>\n",
       "      <td>https://data.agrimetrics.co.uk/animals/900192796</td>\n",
       "    </tr>\n",
       "    <tr>\n",
       "      <td>3</td>\n",
       "      <td>2018-07-06T17:00:00.000Z</td>\n",
       "      <td>[-0.936567033, 51.40814309]</td>\n",
       "      <td>https://data.agrimetrics.co.uk/animals/900192796</td>\n",
       "    </tr>\n",
       "    <tr>\n",
       "      <td>4</td>\n",
       "      <td>2018-07-05T19:00:00.000Z</td>\n",
       "      <td>[-0.936576087, 51.40831302]</td>\n",
       "      <td>https://data.agrimetrics.co.uk/animals/900192796</td>\n",
       "    </tr>\n",
       "    <tr>\n",
       "      <td>...</td>\n",
       "      <td>...</td>\n",
       "      <td>...</td>\n",
       "      <td>...</td>\n",
       "    </tr>\n",
       "    <tr>\n",
       "      <td>715</td>\n",
       "      <td>2018-07-03T13:00:00.000Z</td>\n",
       "      <td>[-0.936153648, 51.40831241]</td>\n",
       "      <td>https://data.agrimetrics.co.uk/animals/900655216</td>\n",
       "    </tr>\n",
       "    <tr>\n",
       "      <td>716</td>\n",
       "      <td>2018-07-04T13:00:00.000Z</td>\n",
       "      <td>[-0.936446782, 51.40821167]</td>\n",
       "      <td>https://data.agrimetrics.co.uk/animals/900655216</td>\n",
       "    </tr>\n",
       "    <tr>\n",
       "      <td>717</td>\n",
       "      <td>2018-07-03T21:00:00.000Z</td>\n",
       "      <td>[-0.936408474, 51.40824719]</td>\n",
       "      <td>https://data.agrimetrics.co.uk/animals/900655216</td>\n",
       "    </tr>\n",
       "    <tr>\n",
       "      <td>718</td>\n",
       "      <td>2018-07-02T21:00:00.000Z</td>\n",
       "      <td>[-0.936302158, 51.40829445]</td>\n",
       "      <td>https://data.agrimetrics.co.uk/animals/900655216</td>\n",
       "    </tr>\n",
       "    <tr>\n",
       "      <td>719</td>\n",
       "      <td>2018-07-03T11:00:00.000Z</td>\n",
       "      <td>[-0.9363336, 51.40817263]</td>\n",
       "      <td>https://data.agrimetrics.co.uk/animals/900655216</td>\n",
       "    </tr>\n",
       "  </tbody>\n",
       "</table>\n",
       "<p>720 rows × 3 columns</p>\n",
       "</div>"
      ],
      "text/plain": [
       "                     dateTime            point.coordinates  \\\n",
       "0    2018-07-07T01:00:00.000Z  [-0.936306924, 51.40829159]   \n",
       "1    2018-07-01T09:00:00.000Z  [-0.936115928, 51.40835539]   \n",
       "2    2018-07-02T21:00:00.000Z  [-0.936301449, 51.40808253]   \n",
       "3    2018-07-06T17:00:00.000Z  [-0.936567033, 51.40814309]   \n",
       "4    2018-07-05T19:00:00.000Z  [-0.936576087, 51.40831302]   \n",
       "..                        ...                          ...   \n",
       "715  2018-07-03T13:00:00.000Z  [-0.936153648, 51.40831241]   \n",
       "716  2018-07-04T13:00:00.000Z  [-0.936446782, 51.40821167]   \n",
       "717  2018-07-03T21:00:00.000Z  [-0.936408474, 51.40824719]   \n",
       "718  2018-07-02T21:00:00.000Z  [-0.936302158, 51.40829445]   \n",
       "719  2018-07-03T11:00:00.000Z    [-0.9363336, 51.40817263]   \n",
       "\n",
       "                                                   id  \n",
       "0    https://data.agrimetrics.co.uk/animals/900192796  \n",
       "1    https://data.agrimetrics.co.uk/animals/900192796  \n",
       "2    https://data.agrimetrics.co.uk/animals/900192796  \n",
       "3    https://data.agrimetrics.co.uk/animals/900192796  \n",
       "4    https://data.agrimetrics.co.uk/animals/900192796  \n",
       "..                                                ...  \n",
       "715  https://data.agrimetrics.co.uk/animals/900655216  \n",
       "716  https://data.agrimetrics.co.uk/animals/900655216  \n",
       "717  https://data.agrimetrics.co.uk/animals/900655216  \n",
       "718  https://data.agrimetrics.co.uk/animals/900655216  \n",
       "719  https://data.agrimetrics.co.uk/animals/900655216  \n",
       "\n",
       "[720 rows x 3 columns]"
      ]
     },
     "execution_count": 8,
     "metadata": {},
     "output_type": "execute_result"
    }
   ],
   "source": [
    "import json\n",
    "import pandas as pd\n",
    "from pandas.io.json import json_normalize\n",
    "\n",
    "full_json = json.loads(response.text)\n",
    "data = full_json['data']['demoDataSets']['livestockDemo']\n",
    "\n",
    "cow_location_details = json_normalize(\n",
    "    data['cow'],\n",
    "    record_path=['grazing', 'location'],\n",
    "    meta=['id'],\n",
    "    errors='ignore',\n",
    ")\n",
    "\n",
    "cow_location_details.drop(['observationType', 'point.type'], axis=1, inplace=True)\n",
    "cow_location_details"
   ]
  },
  {
   "cell_type": "markdown",
   "metadata": {},
   "source": [
    "Now let's extract the details for an individual cow and its location over time"
   ]
  },
  {
   "cell_type": "code",
   "execution_count": 9,
   "metadata": {
    "scrolled": true
   },
   "outputs": [
    {
     "data": {
      "text/html": [
       "<div>\n",
       "<style scoped>\n",
       "    .dataframe tbody tr th:only-of-type {\n",
       "        vertical-align: middle;\n",
       "    }\n",
       "\n",
       "    .dataframe tbody tr th {\n",
       "        vertical-align: top;\n",
       "    }\n",
       "\n",
       "    .dataframe thead th {\n",
       "        text-align: right;\n",
       "    }\n",
       "</style>\n",
       "<table border=\"1\" class=\"dataframe\">\n",
       "  <thead>\n",
       "    <tr style=\"text-align: right;\">\n",
       "      <th></th>\n",
       "      <th>dateTime</th>\n",
       "      <th>point.coordinates</th>\n",
       "      <th>id</th>\n",
       "    </tr>\n",
       "  </thead>\n",
       "  <tbody>\n",
       "    <tr>\n",
       "      <td>0</td>\n",
       "      <td>2018-07-07 01:00:00</td>\n",
       "      <td>[-0.936306924, 51.40829159]</td>\n",
       "      <td>https://data.agrimetrics.co.uk/animals/900192796</td>\n",
       "    </tr>\n",
       "    <tr>\n",
       "      <td>1</td>\n",
       "      <td>2018-07-01 09:00:00</td>\n",
       "      <td>[-0.936115928, 51.40835539]</td>\n",
       "      <td>https://data.agrimetrics.co.uk/animals/900192796</td>\n",
       "    </tr>\n",
       "    <tr>\n",
       "      <td>2</td>\n",
       "      <td>2018-07-02 21:00:00</td>\n",
       "      <td>[-0.936301449, 51.40808253]</td>\n",
       "      <td>https://data.agrimetrics.co.uk/animals/900192796</td>\n",
       "    </tr>\n",
       "    <tr>\n",
       "      <td>3</td>\n",
       "      <td>2018-07-06 17:00:00</td>\n",
       "      <td>[-0.936567033, 51.40814309]</td>\n",
       "      <td>https://data.agrimetrics.co.uk/animals/900192796</td>\n",
       "    </tr>\n",
       "    <tr>\n",
       "      <td>4</td>\n",
       "      <td>2018-07-05 19:00:00</td>\n",
       "      <td>[-0.936576087, 51.40831302]</td>\n",
       "      <td>https://data.agrimetrics.co.uk/animals/900192796</td>\n",
       "    </tr>\n",
       "    <tr>\n",
       "      <td>...</td>\n",
       "      <td>...</td>\n",
       "      <td>...</td>\n",
       "      <td>...</td>\n",
       "    </tr>\n",
       "    <tr>\n",
       "      <td>67</td>\n",
       "      <td>2018-07-06 11:00:00</td>\n",
       "      <td>[-0.936445871, 51.40815425]</td>\n",
       "      <td>https://data.agrimetrics.co.uk/animals/900192796</td>\n",
       "    </tr>\n",
       "    <tr>\n",
       "      <td>68</td>\n",
       "      <td>2018-07-01 21:00:00</td>\n",
       "      <td>[-0.936344325, 51.40817094]</td>\n",
       "      <td>https://data.agrimetrics.co.uk/animals/900192796</td>\n",
       "    </tr>\n",
       "    <tr>\n",
       "      <td>69</td>\n",
       "      <td>2018-07-03 09:00:00</td>\n",
       "      <td>[-0.93652364, 51.40833525]</td>\n",
       "      <td>https://data.agrimetrics.co.uk/animals/900192796</td>\n",
       "    </tr>\n",
       "    <tr>\n",
       "      <td>70</td>\n",
       "      <td>2018-07-01 11:00:00</td>\n",
       "      <td>[-0.936300327, 51.40833045]</td>\n",
       "      <td>https://data.agrimetrics.co.uk/animals/900192796</td>\n",
       "    </tr>\n",
       "    <tr>\n",
       "      <td>71</td>\n",
       "      <td>2018-07-05 05:00:00</td>\n",
       "      <td>[-0.936477819, 51.40812272]</td>\n",
       "      <td>https://data.agrimetrics.co.uk/animals/900192796</td>\n",
       "    </tr>\n",
       "  </tbody>\n",
       "</table>\n",
       "<p>72 rows × 3 columns</p>\n",
       "</div>"
      ],
      "text/plain": [
       "              dateTime            point.coordinates  \\\n",
       "0  2018-07-07 01:00:00  [-0.936306924, 51.40829159]   \n",
       "1  2018-07-01 09:00:00  [-0.936115928, 51.40835539]   \n",
       "2  2018-07-02 21:00:00  [-0.936301449, 51.40808253]   \n",
       "3  2018-07-06 17:00:00  [-0.936567033, 51.40814309]   \n",
       "4  2018-07-05 19:00:00  [-0.936576087, 51.40831302]   \n",
       "..                 ...                          ...   \n",
       "67 2018-07-06 11:00:00  [-0.936445871, 51.40815425]   \n",
       "68 2018-07-01 21:00:00  [-0.936344325, 51.40817094]   \n",
       "69 2018-07-03 09:00:00   [-0.93652364, 51.40833525]   \n",
       "70 2018-07-01 11:00:00  [-0.936300327, 51.40833045]   \n",
       "71 2018-07-05 05:00:00  [-0.936477819, 51.40812272]   \n",
       "\n",
       "                                                  id  \n",
       "0   https://data.agrimetrics.co.uk/animals/900192796  \n",
       "1   https://data.agrimetrics.co.uk/animals/900192796  \n",
       "2   https://data.agrimetrics.co.uk/animals/900192796  \n",
       "3   https://data.agrimetrics.co.uk/animals/900192796  \n",
       "4   https://data.agrimetrics.co.uk/animals/900192796  \n",
       "..                                               ...  \n",
       "67  https://data.agrimetrics.co.uk/animals/900192796  \n",
       "68  https://data.agrimetrics.co.uk/animals/900192796  \n",
       "69  https://data.agrimetrics.co.uk/animals/900192796  \n",
       "70  https://data.agrimetrics.co.uk/animals/900192796  \n",
       "71  https://data.agrimetrics.co.uk/animals/900192796  \n",
       "\n",
       "[72 rows x 3 columns]"
      ]
     },
     "execution_count": 9,
     "metadata": {},
     "output_type": "execute_result"
    }
   ],
   "source": [
    "selectedCow = cow_location_details['id'][0]\n",
    "\n",
    "location_details = cow_location_details[cow_location_details.id == selectedCow]\n",
    "\n",
    "# set the type of the dateTime column appropriately \n",
    "location_details = location_details.astype({'dateTime': 'datetime64'})\n",
    "location_details"
   ]
  },
  {
   "cell_type": "markdown",
   "metadata": {},
   "source": [
    "Now we have the positions of the cows (in time and space), we can perform further queries on these data\n",
    "```graphql\n",
    "query getFieldData($coordinates: CoordinateScalar!, $date: Date) {\n",
    "  fields(geoFilter: {location: {type: Point, coordinates: $coordinates}}) {\n",
    "    id\n",
    "    sownCrop {\n",
    "      cropType\n",
    "      harvestYear\n",
    "    }\n",
    "    weatherObservations(where: { date: { GE: $date LE: $date }}) {\n",
    "      temperatureMinDaily {\n",
    "        unit\n",
    "        value\n",
    "      }\n",
    "      temperatureMaxDaily {\n",
    "        unit\n",
    "        value\n",
    "      }\n",
    "      temperatureMeanDaily {\n",
    "        unit\n",
    "        value\n",
    "      }\n",
    "      rainfallTotalDaily {\n",
    "        unit\n",
    "        value\n",
    "      }\n",
    "    }\n",
    "  }\n",
    "}\n",
    "\n",
    "```\n",
    "> Note here we have used two variables in our query, `$coordinates` and `$date`. We can modify the exported code slightly to easily inject the correct variables"
   ]
  },
  {
   "cell_type": "code",
   "execution_count": 10,
   "metadata": {},
   "outputs": [],
   "source": [
    "def fetchWeatherAndCropData(coordinates, date):\n",
    "    query_variables = { \"coordinates\": coordinates, \"date\": str(date) }\n",
    "    \n",
    "    payload = {\n",
    "        \"query\":\"query getFieldData($coordinates: CoordinateScalar!, $date: Date) { fields(geoFilter: {location: {type: Point, coordinates: $coordinates}}) { id sownCrop { cropType harvestYear } weatherObservations(where: { date: { GE: $date LE: $date }}) { temperatureMinDaily { unit value } temperatureMaxDaily { unit value } temperatureMeanDaily { unit value } rainfallTotalDaily { unit value } } } } \",\n",
    "        \"variables\": json.dumps(query_variables)\n",
    "    }\n",
    "    headers = {\n",
    "        'Accept': \"application/json\",\n",
    "        'Ocp-Apim-Subscription-Key': API_KEY,\n",
    "        'Content-Type': \"application/json\",\n",
    "        'Accept-Encoding': \"gzip, deflate, br\",\n",
    "    }\n",
    "\n",
    "    response = requests.request(\"POST\", url, json=payload, headers=headers)\n",
    "    return json.loads(response.text)"
   ]
  },
  {
   "cell_type": "markdown",
   "metadata": {},
   "source": [
    "With our parametrized query, we can now extract related data.\n",
    "> Note the following cell may take some time to retrieve all the data as this is being done one request at a time to keep the example code simple. In a production environment it is recommended to batch these requests and map back the results to the cow-ids and dateTimes, however this is outside the scope of this example. "
   ]
  },
  {
   "cell_type": "code",
   "execution_count": 11,
   "metadata": {},
   "outputs": [
    {
     "data": {
      "text/html": [
       "<div>\n",
       "<style scoped>\n",
       "    .dataframe tbody tr th:only-of-type {\n",
       "        vertical-align: middle;\n",
       "    }\n",
       "\n",
       "    .dataframe tbody tr th {\n",
       "        vertical-align: top;\n",
       "    }\n",
       "\n",
       "    .dataframe thead th {\n",
       "        text-align: right;\n",
       "    }\n",
       "</style>\n",
       "<table border=\"1\" class=\"dataframe\">\n",
       "  <thead>\n",
       "    <tr style=\"text-align: right;\">\n",
       "      <th></th>\n",
       "      <th>dateTime</th>\n",
       "      <th>sownCrop</th>\n",
       "      <th>temperatureMinDaily</th>\n",
       "      <th>temperatureMaxDaily</th>\n",
       "      <th>temperatureMeanDaily</th>\n",
       "      <th>rainfallTotalDaily</th>\n",
       "    </tr>\n",
       "  </thead>\n",
       "  <tbody>\n",
       "    <tr>\n",
       "      <td>0</td>\n",
       "      <td>2018-07-07 01:00:00</td>\n",
       "      <td>GRASS</td>\n",
       "      <td>14.0</td>\n",
       "      <td>30.4</td>\n",
       "      <td>22.2</td>\n",
       "      <td>0</td>\n",
       "    </tr>\n",
       "    <tr>\n",
       "      <td>1</td>\n",
       "      <td>2018-07-01 09:00:00</td>\n",
       "      <td>GRASS</td>\n",
       "      <td>13.3</td>\n",
       "      <td>30.8</td>\n",
       "      <td>22.0</td>\n",
       "      <td>0</td>\n",
       "    </tr>\n",
       "    <tr>\n",
       "      <td>2</td>\n",
       "      <td>2018-07-02 21:00:00</td>\n",
       "      <td>GRASS</td>\n",
       "      <td>16.3</td>\n",
       "      <td>29.5</td>\n",
       "      <td>22.9</td>\n",
       "      <td>0</td>\n",
       "    </tr>\n",
       "    <tr>\n",
       "      <td>3</td>\n",
       "      <td>2018-07-06 17:00:00</td>\n",
       "      <td>GRASS</td>\n",
       "      <td>15.8</td>\n",
       "      <td>29.9</td>\n",
       "      <td>22.8</td>\n",
       "      <td>0</td>\n",
       "    </tr>\n",
       "    <tr>\n",
       "      <td>4</td>\n",
       "      <td>2018-07-05 19:00:00</td>\n",
       "      <td>GRASS</td>\n",
       "      <td>14.7</td>\n",
       "      <td>29.4</td>\n",
       "      <td>22.0</td>\n",
       "      <td>0</td>\n",
       "    </tr>\n",
       "    <tr>\n",
       "      <td>...</td>\n",
       "      <td>...</td>\n",
       "      <td>...</td>\n",
       "      <td>...</td>\n",
       "      <td>...</td>\n",
       "      <td>...</td>\n",
       "      <td>...</td>\n",
       "    </tr>\n",
       "    <tr>\n",
       "      <td>67</td>\n",
       "      <td>2018-07-06 11:00:00</td>\n",
       "      <td>GRASS</td>\n",
       "      <td>15.8</td>\n",
       "      <td>29.9</td>\n",
       "      <td>22.8</td>\n",
       "      <td>0</td>\n",
       "    </tr>\n",
       "    <tr>\n",
       "      <td>68</td>\n",
       "      <td>2018-07-01 21:00:00</td>\n",
       "      <td>GRASS</td>\n",
       "      <td>13.3</td>\n",
       "      <td>30.8</td>\n",
       "      <td>22.0</td>\n",
       "      <td>0</td>\n",
       "    </tr>\n",
       "    <tr>\n",
       "      <td>69</td>\n",
       "      <td>2018-07-03 09:00:00</td>\n",
       "      <td>GRASS</td>\n",
       "      <td>13.2</td>\n",
       "      <td>27.0</td>\n",
       "      <td>20.1</td>\n",
       "      <td>0</td>\n",
       "    </tr>\n",
       "    <tr>\n",
       "      <td>70</td>\n",
       "      <td>2018-07-01 11:00:00</td>\n",
       "      <td>GRASS</td>\n",
       "      <td>13.3</td>\n",
       "      <td>30.8</td>\n",
       "      <td>22.0</td>\n",
       "      <td>0</td>\n",
       "    </tr>\n",
       "    <tr>\n",
       "      <td>71</td>\n",
       "      <td>2018-07-05 05:00:00</td>\n",
       "      <td>GRASS</td>\n",
       "      <td>14.7</td>\n",
       "      <td>29.4</td>\n",
       "      <td>22.0</td>\n",
       "      <td>0</td>\n",
       "    </tr>\n",
       "  </tbody>\n",
       "</table>\n",
       "<p>72 rows × 6 columns</p>\n",
       "</div>"
      ],
      "text/plain": [
       "              dateTime sownCrop  temperatureMinDaily  temperatureMaxDaily  \\\n",
       "0  2018-07-07 01:00:00    GRASS                 14.0                 30.4   \n",
       "1  2018-07-01 09:00:00    GRASS                 13.3                 30.8   \n",
       "2  2018-07-02 21:00:00    GRASS                 16.3                 29.5   \n",
       "3  2018-07-06 17:00:00    GRASS                 15.8                 29.9   \n",
       "4  2018-07-05 19:00:00    GRASS                 14.7                 29.4   \n",
       "..                 ...      ...                  ...                  ...   \n",
       "67 2018-07-06 11:00:00    GRASS                 15.8                 29.9   \n",
       "68 2018-07-01 21:00:00    GRASS                 13.3                 30.8   \n",
       "69 2018-07-03 09:00:00    GRASS                 13.2                 27.0   \n",
       "70 2018-07-01 11:00:00    GRASS                 13.3                 30.8   \n",
       "71 2018-07-05 05:00:00    GRASS                 14.7                 29.4   \n",
       "\n",
       "    temperatureMeanDaily  rainfallTotalDaily  \n",
       "0                   22.2                   0  \n",
       "1                   22.0                   0  \n",
       "2                   22.9                   0  \n",
       "3                   22.8                   0  \n",
       "4                   22.0                   0  \n",
       "..                   ...                 ...  \n",
       "67                  22.8                   0  \n",
       "68                  22.0                   0  \n",
       "69                  20.1                   0  \n",
       "70                  22.0                   0  \n",
       "71                  22.0                   0  \n",
       "\n",
       "[72 rows x 6 columns]"
      ]
     },
     "execution_count": 11,
     "metadata": {},
     "output_type": "execute_result"
    }
   ],
   "source": [
    "def getWeatherAndCropsAtPosition(row):\n",
    "    date_time, coordinates, cow_id = row\n",
    "    date = date_time.date()\n",
    "\n",
    "    full_json = fetchWeatherAndCropData(coordinates, date)\n",
    "    \n",
    "    fields = full_json['data']['fields']\n",
    "    # sometimes the cows wander into the street! This is ok as it's synthetic data.\n",
    "    if len(fields) == 0:\n",
    "        return None\n",
    "    \n",
    "    # always 1 field, as we did a POINT query\n",
    "    field_data = fields[0]\n",
    "    \n",
    "    # sown_crop can change annually, so we find the crop sown at the time the cow was there\n",
    "    sown_crop_data = next((crop['cropType'] for crop in field_data['sownCrop'] if crop['harvestYear'] == date.year))\n",
    "    \n",
    "    # extract the weather data\n",
    "    weather_data = field_data['weatherObservations']\n",
    "    \n",
    "    # always 1 timeSeries result as querying for a single day\n",
    "    min_temperature = weather_data['temperatureMinDaily'][0]['value']\n",
    "    max_temperature = weather_data['temperatureMaxDaily'][0]['value']\n",
    "    mean_temperature = weather_data['temperatureMeanDaily'][0]['value']\n",
    "    rainfall = weather_data['rainfallTotalDaily'][0]['value']\n",
    "    \n",
    "    details = {\n",
    "        \"dateTime\": date_time,\n",
    "        \"sownCrop\": sown_crop_data,\n",
    "        \"temperatureMinDaily\": min_temperature,\n",
    "        \"temperatureMaxDaily\": max_temperature,\n",
    "        \"temperatureMeanDaily\": mean_temperature,\n",
    "        \"rainfallTotalDaily\": rainfall,\n",
    "    }\n",
    "    return pd.Series(details)\n",
    "\n",
    "updated_details = location_details.apply(getWeatherAndCropsAtPosition, axis=1)\n",
    "updated_details"
   ]
  },
  {
   "cell_type": "markdown",
   "metadata": {},
   "source": [
    "That's a nice confirmation that the cow was on Grass! What was the weather it experienced?"
   ]
  },
  {
   "cell_type": "code",
   "execution_count": 12,
   "metadata": {
    "scrolled": true
   },
   "outputs": [
    {
     "data": {
      "image/png": "[encoded data removed]",
      "text/plain": [
       "<Figure size 1080x360 with 1 Axes>"
      ]
     },
     "metadata": {
      "needs_background": "light"
     },
     "output_type": "display_data"
    }
   ],
   "source": [
    "updated_details.plot(x='dateTime', y=['temperatureMinDaily', 'temperatureMeanDaily', 'temperatureMaxDaily', 'rainfallTotalDaily'], figsize=(15,5)).legend(loc='lower right');"
   ]
  },
  {
   "cell_type": "markdown",
   "metadata": {},
   "source": [
    "Warm and dry! This is just a demonstration but you can see here that by obtaining both the cow's location and details of the environment it experienced we could start to look for new insights like the influence of temperature on behaviour or development."
   ]
  },
  {
   "cell_type": "markdown",
   "metadata": {},
   "source": [
    "We can also look at the location of the cow on a map. Below we use the google maps plugin and so to run the example you will need a google maps API key (see https://developers.google.com/maps/documentation/javascript/get-api-key). . Set the key below:"
   ]
  },
  {
   "cell_type": "code",
   "execution_count": 2,
   "metadata": {},
   "outputs": [
    {
     "name": "stdout",
     "output_type": "stream",
     "text": [
      "Please enter your Google maps API key:\n"
     ]
    }
   ],
   "source": [
    "import os \n",
    "\n",
    "GMAPS_API_KEY = os.environ.get('GMAPS_API_KEY')\n",
    "if GMAPS_API_KEY is None: \n",
    "    GMAPS_API_KEY = input(\"Please enter your Google maps API key:\")"
   ]
  },
  {
   "cell_type": "markdown",
   "metadata": {},
   "source": [
    "Note if you are running the notebook locally, see also https://jupyter-gmaps.readthedocs.io/en/latest/install.html#installation to install the correct plugins to display the maps."
   ]
  },
  {
   "cell_type": "code",
   "execution_count": 14,
   "metadata": {
    "scrolled": true
   },
   "outputs": [
    {
     "data": {
      "application/vnd.jupyter.widget-view+json": {
       "model_id": "1407a392ce464ac8964790a918e07bd1",
       "version_major": 2,
       "version_minor": 0
      },
      "text/plain": [
       "Figure(layout=FigureLayout(height='420px'))"
      ]
     },
     "metadata": {},
     "output_type": "display_data"
    }
   ],
   "source": [
    "import gmaps\n",
    "gmaps.configure(api_key=GMAPS_API_KEY)\n",
    "\n",
    "# google maps api expects [lat, lon], not [lon, lat]\n",
    "fixed_coordinates = [(lat, lon) for (lon, lat) in cow_location_details['point.coordinates']]\n",
    "\n",
    "#Set up your map\n",
    "fig = gmaps.figure(map_type='HYBRID')\n",
    "fig.add_layer(gmaps.heatmap_layer(fixed_coordinates))\n",
    "fig"
   ]
  }
 ],
 "metadata": {
  "kernelspec": {
   "display_name": "Python 3",
   "language": "python",
   "name": "python3"
  },
  "language_info": {
   "codemirror_mode": {
    "name": "ipython",
    "version": 3
   },
   "file_extension": ".py",
   "mimetype": "text/x-python",
   "name": "python",
   "nbconvert_exporter": "python",
   "pygments_lexer": "ipython3",
   "version": "3.7.3"
  }
 },
 "nbformat": 4,
 "nbformat_minor": 2
}
