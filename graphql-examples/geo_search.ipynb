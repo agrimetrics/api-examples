{
 "cells": [
  {
   "cell_type": "markdown",
   "metadata": {},
   "source": [
    "# Finding fields\n",
    "\n",
    "This notebook shows the different ways of searching for fields through the Agrimetrics Graph Query API.\n",
    "\n",
    "There are four main ways of retrieving fields:\n",
    "\n",
    "1. Find fields which lie entirely or partially within a given polygon.\n",
    "2. Find fields whose centres lie within a distance of a given point.\n",
    "3. Find the field which a point falls in.\n",
    "4. Find a field using its unique id.\n",
    "\n",
    "This query example selects all the fields which overlap a given polygon (in this case, an area just east of Letchworth in the UK), and returns the area, altitude and topsoil information for each one.\n",
    "\n",
    "First, we import the necessary Python modules."
   ]
  },
  {
   "cell_type": "code",
   "execution_count": 35,
   "metadata": {},
   "outputs": [],
   "source": [
    "import json\n",
    "import os\n",
    "from pprint import pprint\n",
    "import requests\n",
    "\n",
    "import pandas as pd"
   ]
  },
  {
   "cell_type": "markdown",
   "metadata": {},
   "source": [
    "Define the GraphQL endpoint and the API subscription key."
   ]
  },
  {
   "cell_type": "code",
   "execution_count": 36,
   "metadata": {},
   "outputs": [],
   "source": [
    "GRAPHQL_ENDPOINT = \"https://api.agrimetrics.co.uk/query-api/v1/graphql\"\n",
    "\n",
    "if \"API_KEY\" in os.environ:\n",
    "    API_KEY = os.environ[\"API_KEY\"]\n",
    "else:\n",
    "    API_KEY = input(\"Query API Subscription Key: \").strip()\n",
    "    \n",
    "common_headers = {\n",
    "    \"OCP-APIM-Subscription-Key\": API_KEY\n",
    "}"
   ]
  },
  {
   "cell_type": "markdown",
   "metadata": {},
   "source": [
    "### Search by polygon\n",
    "\n",
    "We will first search for the fields within or overlapping a polygon.\n",
    "\n",
    "The polygon to search must be defined as a [GeoJSON](https://geojson.org/) `Polygon` structure, which is the structure shown below. The points within the polygon are in `[longitude, latitude]` order, and must circle the boundary of the field in anticlockwise order. The last point must be the same as the first."
   ]
  },
  {
   "cell_type": "code",
   "execution_count": 37,
   "metadata": {},
   "outputs": [],
   "source": [
    "POLYGON_LOCATION = {\n",
    "  \"type\": \"Polygon\",\n",
    "  \"coordinates\": [\n",
    "    [\n",
    "      [-0.434818, 51.790037],\n",
    "      [-0.305557, 51.790037],\n",
    "      [-0.305557, 51.838111],\n",
    "      [-0.434818, 51.838111],\n",
    "      [-0.434818, 51.790037]\n",
    "    ]\n",
    "  ]\n",
    "}"
   ]
  },
  {
   "cell_type": "markdown",
   "metadata": {},
   "source": [
    "Define the base query. Note that the query has the mandatory `$location` parameter, which is used to define the area being searched. The search expression is then provided in the `filter` parameter to the `fields` property of the query."
   ]
  },
  {
   "cell_type": "code",
   "execution_count": 38,
   "metadata": {},
   "outputs": [],
   "source": [
    "polygon_query = \"\"\"\n",
    "  query PolygonQuery($location: LocationFilter!) {\n",
    "    fields(geoFilter: { location: $location }) {\n",
    "      id\n",
    "      soil {\n",
    "        topSoil {\n",
    "          texture {\n",
    "            type\n",
    "          }\n",
    "        }\n",
    "      }\n",
    "    }\n",
    "  }\n",
    "\"\"\""
   ]
  },
  {
   "cell_type": "markdown",
   "metadata": {},
   "source": [
    "Construct the query object to pass to the API. Note that the `variables` section of the `query_object` contains a key called `location`, mirroring the `$location` parameter in the query text above, and that the optional `operationName` matches the name of the `polygon_query` defined above.\n",
    "\n",
    "Retrieve the data from the API using `requests`, and parse the returned JSON data."
   ]
  },
  {
   "cell_type": "code",
   "execution_count": 39,
   "metadata": {},
   "outputs": [],
   "source": [
    "polygon_variables = {\n",
    "  \"location\": POLYGON_LOCATION\n",
    "}\n",
    "polygon_query_object = {\n",
    "  \"query\": polygon_query,\n",
    "  \"variables\": polygon_variables,\n",
    "  \"operationName\": \"PolygonQuery\"\n",
    "}\n",
    "result = requests.post(GRAPHQL_ENDPOINT, headers=common_headers, json=polygon_query_object)\n",
    "result.raise_for_status()\n",
    "data = result.json()[\"data\"]"
   ]
  },
  {
   "cell_type": "markdown",
   "metadata": {},
   "source": [
    "Finally, process the data for each field and put it into a data frame."
   ]
  },
  {
   "cell_type": "code",
   "execution_count": 40,
   "metadata": {
    "scrolled": false
   },
   "outputs": [
    {
     "data": {
      "text/html": [
       "<div>\n",
       "<style scoped>\n",
       "    .dataframe tbody tr th:only-of-type {\n",
       "        vertical-align: middle;\n",
       "    }\n",
       "\n",
       "    .dataframe tbody tr th {\n",
       "        vertical-align: top;\n",
       "    }\n",
       "\n",
       "    .dataframe thead th {\n",
       "        text-align: right;\n",
       "    }\n",
       "</style>\n",
       "<table border=\"1\" class=\"dataframe\">\n",
       "  <thead>\n",
       "    <tr style=\"text-align: right;\">\n",
       "      <th></th>\n",
       "      <th>0</th>\n",
       "      <th>1</th>\n",
       "    </tr>\n",
       "  </thead>\n",
       "  <tbody>\n",
       "    <tr>\n",
       "      <th>0</th>\n",
       "      <td>https://data.agrimetrics.co.uk/fields/-51RfbWi...</td>\n",
       "      <td>LOAM</td>\n",
       "    </tr>\n",
       "    <tr>\n",
       "      <th>1</th>\n",
       "      <td>https://data.agrimetrics.co.uk/fields/-G1GIVD7...</td>\n",
       "      <td>LOAM</td>\n",
       "    </tr>\n",
       "    <tr>\n",
       "      <th>2</th>\n",
       "      <td>https://data.agrimetrics.co.uk/fields/-_Ds2q4S...</td>\n",
       "      <td>CLAY_LOAM</td>\n",
       "    </tr>\n",
       "    <tr>\n",
       "      <th>3</th>\n",
       "      <td>https://data.agrimetrics.co.uk/fields/-qDpL5F5...</td>\n",
       "      <td>LOAM</td>\n",
       "    </tr>\n",
       "    <tr>\n",
       "      <th>4</th>\n",
       "      <td>https://data.agrimetrics.co.uk/fields/0-7PISj6...</td>\n",
       "      <td>LOAM</td>\n",
       "    </tr>\n",
       "    <tr>\n",
       "      <th>...</th>\n",
       "      <td>...</td>\n",
       "      <td>...</td>\n",
       "    </tr>\n",
       "    <tr>\n",
       "      <th>456</th>\n",
       "      <td>https://data.agrimetrics.co.uk/fields/zRxw5UGE...</td>\n",
       "      <td>CLAY_LOAM</td>\n",
       "    </tr>\n",
       "    <tr>\n",
       "      <th>457</th>\n",
       "      <td>https://data.agrimetrics.co.uk/fields/zUpjz073...</td>\n",
       "      <td>CLAY_LOAM</td>\n",
       "    </tr>\n",
       "    <tr>\n",
       "      <th>458</th>\n",
       "      <td>https://data.agrimetrics.co.uk/fields/zVOVJWpt...</td>\n",
       "      <td>CLAY_LOAM</td>\n",
       "    </tr>\n",
       "    <tr>\n",
       "      <th>459</th>\n",
       "      <td>https://data.agrimetrics.co.uk/fields/zp7dS5Xk...</td>\n",
       "      <td>CLAY_LOAM</td>\n",
       "    </tr>\n",
       "    <tr>\n",
       "      <th>460</th>\n",
       "      <td>https://data.agrimetrics.co.uk/fields/zv0UZJWP...</td>\n",
       "      <td>CLAY_LOAM</td>\n",
       "    </tr>\n",
       "  </tbody>\n",
       "</table>\n",
       "<p>461 rows × 2 columns</p>\n",
       "</div>"
      ],
      "text/plain": [
       "                                                     0          1\n",
       "0    https://data.agrimetrics.co.uk/fields/-51RfbWi...       LOAM\n",
       "1    https://data.agrimetrics.co.uk/fields/-G1GIVD7...       LOAM\n",
       "2    https://data.agrimetrics.co.uk/fields/-_Ds2q4S...  CLAY_LOAM\n",
       "3    https://data.agrimetrics.co.uk/fields/-qDpL5F5...       LOAM\n",
       "4    https://data.agrimetrics.co.uk/fields/0-7PISj6...       LOAM\n",
       "..                                                 ...        ...\n",
       "456  https://data.agrimetrics.co.uk/fields/zRxw5UGE...  CLAY_LOAM\n",
       "457  https://data.agrimetrics.co.uk/fields/zUpjz073...  CLAY_LOAM\n",
       "458  https://data.agrimetrics.co.uk/fields/zVOVJWpt...  CLAY_LOAM\n",
       "459  https://data.agrimetrics.co.uk/fields/zp7dS5Xk...  CLAY_LOAM\n",
       "460  https://data.agrimetrics.co.uk/fields/zv0UZJWP...  CLAY_LOAM\n",
       "\n",
       "[461 rows x 2 columns]"
      ]
     },
     "execution_count": 40,
     "metadata": {},
     "output_type": "execute_result"
    }
   ],
   "source": [
    "field_data = ((field[\"id\"], field[\"soil\"][\"topSoil\"][\"texture\"][\"type\"]) for field in data[\"fields\"])\n",
    "data_frame = pd.DataFrame(field_data)\n",
    "data_frame"
   ]
  },
  {
   "cell_type": "markdown",
   "metadata": {},
   "source": [
    "### Search by radius\n",
    "\n",
    "The second method of searching is by radius from a given point. This method finds fields whose centres (or, more precisely, centroids) fall within a distance of a point. This will typically be much faster than a polygon query.\n",
    "\n",
    "The centre point of the query region must be a [GeoJSON](https://geojson.org/) `Point` object, with the coordinates in `[longitude, latitude]` order. The distance in the query is measured in metres."
   ]
  },
  {
   "cell_type": "code",
   "execution_count": 41,
   "metadata": {},
   "outputs": [],
   "source": [
    "POINT_LOCATION = {\n",
    "    \"type\": \"Point\",\n",
    "    \"coordinates\": [-0.368728, 51.809994]\n",
    "}\n",
    "QUERY_DISTANCE = 3500\n",
    "\n",
    "radius_query = \"\"\"\n",
    "  query RadiusQuery($location: LocationFilter!, $range: Float!) {\n",
    "    fields(geoFilter: { location: $location, distance: {LE: $range} }) {\n",
    "      id\n",
    "      soil {\n",
    "        topSoil {\n",
    "          texture {\n",
    "            type\n",
    "          }\n",
    "        }\n",
    "      }\n",
    "    }\n",
    "  }\n",
    "\"\"\""
   ]
  },
  {
   "cell_type": "markdown",
   "metadata": {},
   "source": [
    "Run the query as before."
   ]
  },
  {
   "cell_type": "code",
   "execution_count": 42,
   "metadata": {},
   "outputs": [
    {
     "data": {
      "text/html": [
       "<div>\n",
       "<style scoped>\n",
       "    .dataframe tbody tr th:only-of-type {\n",
       "        vertical-align: middle;\n",
       "    }\n",
       "\n",
       "    .dataframe tbody tr th {\n",
       "        vertical-align: top;\n",
       "    }\n",
       "\n",
       "    .dataframe thead th {\n",
       "        text-align: right;\n",
       "    }\n",
       "</style>\n",
       "<table border=\"1\" class=\"dataframe\">\n",
       "  <thead>\n",
       "    <tr style=\"text-align: right;\">\n",
       "      <th></th>\n",
       "      <th>0</th>\n",
       "      <th>1</th>\n",
       "    </tr>\n",
       "  </thead>\n",
       "  <tbody>\n",
       "    <tr>\n",
       "      <th>0</th>\n",
       "      <td>https://data.agrimetrics.co.uk/fields/-51RfbWi...</td>\n",
       "      <td>LOAM</td>\n",
       "    </tr>\n",
       "    <tr>\n",
       "      <th>1</th>\n",
       "      <td>https://data.agrimetrics.co.uk/fields/-7bU1VSs...</td>\n",
       "      <td>LOAM</td>\n",
       "    </tr>\n",
       "    <tr>\n",
       "      <th>2</th>\n",
       "      <td>https://data.agrimetrics.co.uk/fields/-G1GIVD7...</td>\n",
       "      <td>LOAM</td>\n",
       "    </tr>\n",
       "    <tr>\n",
       "      <th>3</th>\n",
       "      <td>https://data.agrimetrics.co.uk/fields/-HpNw3N6...</td>\n",
       "      <td>CLAY_LOAM</td>\n",
       "    </tr>\n",
       "    <tr>\n",
       "      <th>4</th>\n",
       "      <td>https://data.agrimetrics.co.uk/fields/-_Ds2q4S...</td>\n",
       "      <td>CLAY_LOAM</td>\n",
       "    </tr>\n",
       "    <tr>\n",
       "      <th>...</th>\n",
       "      <td>...</td>\n",
       "      <td>...</td>\n",
       "    </tr>\n",
       "    <tr>\n",
       "      <th>337</th>\n",
       "      <td>https://data.agrimetrics.co.uk/fields/yqqWuxdQ...</td>\n",
       "      <td>CLAY_LOAM</td>\n",
       "    </tr>\n",
       "    <tr>\n",
       "      <th>338</th>\n",
       "      <td>https://data.agrimetrics.co.uk/fields/z8CF6Hrd...</td>\n",
       "      <td>LOAM</td>\n",
       "    </tr>\n",
       "    <tr>\n",
       "      <th>339</th>\n",
       "      <td>https://data.agrimetrics.co.uk/fields/zCA-KmXJ...</td>\n",
       "      <td>CLAY_LOAM</td>\n",
       "    </tr>\n",
       "    <tr>\n",
       "      <th>340</th>\n",
       "      <td>https://data.agrimetrics.co.uk/fields/zVOVJWpt...</td>\n",
       "      <td>CLAY_LOAM</td>\n",
       "    </tr>\n",
       "    <tr>\n",
       "      <th>341</th>\n",
       "      <td>https://data.agrimetrics.co.uk/fields/zp7dS5Xk...</td>\n",
       "      <td>CLAY_LOAM</td>\n",
       "    </tr>\n",
       "  </tbody>\n",
       "</table>\n",
       "<p>342 rows × 2 columns</p>\n",
       "</div>"
      ],
      "text/plain": [
       "                                                     0          1\n",
       "0    https://data.agrimetrics.co.uk/fields/-51RfbWi...       LOAM\n",
       "1    https://data.agrimetrics.co.uk/fields/-7bU1VSs...       LOAM\n",
       "2    https://data.agrimetrics.co.uk/fields/-G1GIVD7...       LOAM\n",
       "3    https://data.agrimetrics.co.uk/fields/-HpNw3N6...  CLAY_LOAM\n",
       "4    https://data.agrimetrics.co.uk/fields/-_Ds2q4S...  CLAY_LOAM\n",
       "..                                                 ...        ...\n",
       "337  https://data.agrimetrics.co.uk/fields/yqqWuxdQ...  CLAY_LOAM\n",
       "338  https://data.agrimetrics.co.uk/fields/z8CF6Hrd...       LOAM\n",
       "339  https://data.agrimetrics.co.uk/fields/zCA-KmXJ...  CLAY_LOAM\n",
       "340  https://data.agrimetrics.co.uk/fields/zVOVJWpt...  CLAY_LOAM\n",
       "341  https://data.agrimetrics.co.uk/fields/zp7dS5Xk...  CLAY_LOAM\n",
       "\n",
       "[342 rows x 2 columns]"
      ]
     },
     "execution_count": 42,
     "metadata": {},
     "output_type": "execute_result"
    }
   ],
   "source": [
    "radius_variables = {\n",
    "  \"location\": POINT_LOCATION,\n",
    "  \"range\": QUERY_DISTANCE\n",
    "}\n",
    "radius_query_object = {\n",
    "  \"query\": radius_query,\n",
    "  \"variables\": radius_variables,\n",
    "  \"operationName\": \"RadiusQuery\"\n",
    "}\n",
    "result = requests.post(GRAPHQL_ENDPOINT, headers=common_headers, json=radius_query_object)\n",
    "result.raise_for_status()\n",
    "data = result.json()[\"data\"]\n",
    "\n",
    "field_data = ((field[\"id\"], field[\"soil\"][\"topSoil\"][\"texture\"][\"type\"]) for field in data[\"fields\"])\n",
    "data_frame = pd.DataFrame(field_data)\n",
    "data_frame"
   ]
  },
  {
   "cell_type": "markdown",
   "metadata": {},
   "source": [
    "### Search by point\n",
    "\n",
    "The third method of searching is to find the field which lies at a specific point (e.g. the point on a map which a user clicked on). Making a point query is almost identical to making a radius query, except that the distance is omitted."
   ]
  },
  {
   "cell_type": "code",
   "execution_count": 43,
   "metadata": {},
   "outputs": [],
   "source": [
    "POINT_LOCATION = {\n",
    "    \"type\": \"Point\",\n",
    "    \"coordinates\": [-0.368728, 51.809994]\n",
    "}\n",
    "\n",
    "point_query = \"\"\"\n",
    "  query PointQuery($location: LocationFilter!) {\n",
    "    fields(geoFilter: { location: $location }) {\n",
    "      id\n",
    "      soil {\n",
    "        topSoil {\n",
    "          texture {\n",
    "            type\n",
    "          }\n",
    "        }\n",
    "      }\n",
    "    }\n",
    "  }\n",
    "\"\"\""
   ]
  },
  {
   "cell_type": "markdown",
   "metadata": {},
   "source": [
    "Run the query. Note that the `fields` property is still a list of fields, containing one field. If the query point does not lie on any field, the `fields` property will be an empty list."
   ]
  },
  {
   "cell_type": "code",
   "execution_count": 44,
   "metadata": {},
   "outputs": [
    {
     "name": "stdout",
     "output_type": "stream",
     "text": [
      "Field id: https://data.agrimetrics.co.uk/fields/gf7bB7-sDmLNA-IrADs4ew\n",
      "Topsoil type: LOAM\n"
     ]
    }
   ],
   "source": [
    "point_variables = {\n",
    "  \"location\": POINT_LOCATION,\n",
    "}\n",
    "point_query_object = {\n",
    "  \"query\": point_query,\n",
    "  \"variables\": point_variables,\n",
    "  \"operationName\": \"PointQuery\"\n",
    "}\n",
    "result = requests.post(GRAPHQL_ENDPOINT, headers=common_headers, json=point_query_object)\n",
    "result.raise_for_status()\n",
    "data = result.json()[\"data\"]\n",
    "\n",
    "field_data = ((field[\"id\"], field[\"soil\"][\"topSoil\"][\"texture\"][\"type\"]) for field in data[\"fields\"])\n",
    "data_frame = pd.DataFrame(field_data)\n",
    "print(\"Field id:\", data_frame[0][0])\n",
    "print(\"Topsoil type:\", data_frame[1][0])"
   ]
  },
  {
   "cell_type": "markdown",
   "metadata": {},
   "source": [
    "![Field location](img/field-single.png)"
   ]
  },
  {
   "cell_type": "markdown",
   "metadata": {},
   "source": [
    "### Search by id\n",
    "\n",
    "The fourth and final method of selecting fields is to select a single field or collection of fields by using the id(s) of the fields. For a single field, the `id` parameter should be supplied. For multiple fields in a single query, pass a list of field ids in the `ids` parameter.\n",
    "\n",
    "Field ids should be strings, containing either the full URI, as returned from the Graph Query API (see the examples above), or it can be an abbreviated id, using the `agfd:` prefix and the part of the URI following the last `/`. Both forms are shown in the example below."
   ]
  },
  {
   "cell_type": "code",
   "execution_count": 45,
   "metadata": {},
   "outputs": [],
   "source": [
    "FIELD_ID = \"agfd:0-7PISj6IaqS8_MQnRsbNw\"\n",
    "FIELD_IDS = [\"agfd:0-7PISj6IaqS8_MQnRsbNw\", \"https://data.agrimetrics.co.uk/fields/1jEJOnLYkmmOLzSVt8hKyQ\"]\n",
    "\n",
    "id_query = \"\"\"\n",
    "  query FieldById($fieldId: [ID!]!) {\n",
    "    fields(where: {id: {EQ: $fieldId}}) {\n",
    "      id\n",
    "      area {\n",
    "        value\n",
    "      }\n",
    "      soil {\n",
    "        topSoil {\n",
    "          texture {\n",
    "            type\n",
    "          }\n",
    "        }\n",
    "      }\n",
    "    }\n",
    "  }\n",
    "\"\"\"\n"
   ]
  },
  {
   "cell_type": "markdown",
   "metadata": {},
   "source": [
    "Run the query to retrieve a single field by id:"
   ]
  },
  {
   "cell_type": "code",
   "execution_count": 46,
   "metadata": {},
   "outputs": [
    {
     "name": "stdout",
     "output_type": "stream",
     "text": [
      "{\"data\":{\"fields\":[{\"id\":\"https://data.agrimetrics.co.uk/fields/0-7PISj6IaqS8_MQnRsbNw\",\"area\":{\"value\":2.2454},\"soil\":{\"topSoil\":{\"texture\":{\"type\":\"LOAM\"}}}}]}}\n",
      "\n",
      "Field id: https://data.agrimetrics.co.uk/fields/0-7PISj6IaqS8_MQnRsbNw\n",
      "Topsoil type: LOAM\n"
     ]
    }
   ],
   "source": [
    "id_variables = {\n",
    "  \"fieldId\": FIELD_ID\n",
    "}\n",
    "id_query_object = {\n",
    "  \"query\": id_query,\n",
    "  \"variables\": id_variables,\n",
    "  \"operationName\": \"FieldById\"\n",
    "}\n",
    "result = requests.post(GRAPHQL_ENDPOINT, headers=common_headers, json=id_query_object)\n",
    "result.raise_for_status()\n",
    "data = result.json()[\"data\"]\n",
    "\n",
    "field_data = ((field[\"id\"], field[\"soil\"][\"topSoil\"][\"texture\"][\"type\"]) for field in data[\"fields\"])\n",
    "data_frame = pd.DataFrame(field_data)\n",
    "print(\"Field id:\", data_frame[0][0])\n",
    "print(\"Topsoil type:\", data_frame[1][0])"
   ]
  },
  {
   "cell_type": "markdown",
   "metadata": {},
   "source": [
    "Run the same query with different parameters to retrieve several fields by their ids:"
   ]
  },
  {
   "cell_type": "code",
   "execution_count": 47,
   "metadata": {},
   "outputs": [
    {
     "data": {
      "text/html": [
       "<div>\n",
       "<style scoped>\n",
       "    .dataframe tbody tr th:only-of-type {\n",
       "        vertical-align: middle;\n",
       "    }\n",
       "\n",
       "    .dataframe tbody tr th {\n",
       "        vertical-align: top;\n",
       "    }\n",
       "\n",
       "    .dataframe thead th {\n",
       "        text-align: right;\n",
       "    }\n",
       "</style>\n",
       "<table border=\"1\" class=\"dataframe\">\n",
       "  <thead>\n",
       "    <tr style=\"text-align: right;\">\n",
       "      <th></th>\n",
       "      <th>0</th>\n",
       "      <th>1</th>\n",
       "    </tr>\n",
       "  </thead>\n",
       "  <tbody>\n",
       "    <tr>\n",
       "      <th>0</th>\n",
       "      <td>https://data.agrimetrics.co.uk/fields/0-7PISj6...</td>\n",
       "      <td>LOAM</td>\n",
       "    </tr>\n",
       "    <tr>\n",
       "      <th>1</th>\n",
       "      <td>https://data.agrimetrics.co.uk/fields/1jEJOnLY...</td>\n",
       "      <td>CLAY_LOAM</td>\n",
       "    </tr>\n",
       "  </tbody>\n",
       "</table>\n",
       "</div>"
      ],
      "text/plain": [
       "                                                   0          1\n",
       "0  https://data.agrimetrics.co.uk/fields/0-7PISj6...       LOAM\n",
       "1  https://data.agrimetrics.co.uk/fields/1jEJOnLY...  CLAY_LOAM"
      ]
     },
     "execution_count": 47,
     "metadata": {},
     "output_type": "execute_result"
    }
   ],
   "source": [
    "id_variables = {\n",
    "  \"fieldId\": FIELD_IDS\n",
    "}\n",
    "id_query_object = {\n",
    "  \"query\": id_query,\n",
    "  \"variables\": id_variables,\n",
    "  \"operationName\": \"FieldById\"\n",
    "}\n",
    "result = requests.post(GRAPHQL_ENDPOINT, headers=common_headers, json=id_query_object)\n",
    "result.raise_for_status()\n",
    "data = result.json()[\"data\"]\n",
    "\n",
    "field_data = ((field[\"id\"], field[\"soil\"][\"topSoil\"][\"texture\"][\"type\"]) for field in data[\"fields\"])\n",
    "data_frame = pd.DataFrame(field_data)\n",
    "data_frame"
   ]
  },
  {
   "cell_type": "markdown",
   "metadata": {},
   "source": [
    "![Two fields by ID](img/field-idlist.png)"
   ]
  }
 ],
 "metadata": {
  "kernelspec": {
   "display_name": "Python 3",
   "language": "python",
   "name": "python3"
  },
  "language_info": {
   "codemirror_mode": {
    "name": "ipython",
    "version": 3
   },
   "file_extension": ".py",
   "mimetype": "text/x-python",
   "name": "python",
   "nbconvert_exporter": "python",
   "pygments_lexer": "ipython3",
   "version": "3.7.5"
  }
 },
 "nbformat": 4,
 "nbformat_minor": 2
}
