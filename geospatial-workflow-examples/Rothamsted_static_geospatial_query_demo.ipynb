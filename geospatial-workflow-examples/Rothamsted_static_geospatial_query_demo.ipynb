{
 "cells": [
  {
   "cell_type": "markdown",
   "metadata": {},
   "source": [
    "# Retrieving static geospatial data from a GraphQL query\n",
    "##### Author: Kathryn Berger, August 2020\n"
   ]
  },
  {
   "cell_type": "markdown",
   "metadata": {},
   "source": [
    "### Description\n",
    "\n",
    "We are interested in retrieving two, static, geospatial layers from within our area of interest, the Rothamsted Research campus. In this example, we will retrieve both soil pH and soil invertebrate abundance from our GraphQL query. Using our results, we will run a linear regression to evaluate the relationship between soil pH and soil invertebrate abundance.\n"
   ]
  },
  {
   "cell_type": "markdown",
   "metadata": {},
   "source": [
    "Examining our Data Sources within the __[Data Catalogue](https://app.agrimetrics.co.uk/catalog/data-sets)__, we see that these geospatial layers are available at 1km resolution. In this example, we will retrieve these static geospatial layers and convert them into a geospatial object (.shp file) to be used in any geographic information system (GIS)."
   ]
  },
  {
   "cell_type": "markdown",
   "metadata": {},
   "source": [
    "### Importing requirements"
   ]
  },
  {
   "cell_type": "code",
   "execution_count": 1,
   "metadata": {
    "scrolled": true
   },
   "outputs": [
    {
     "name": "stderr",
     "output_type": "stream",
     "text": [
      "Warning message:\n",
      "\"package 'jsonlite' was built under R version 4.0.2\"\n",
      "Warning message:\n",
      "\"package 'lubridate' was built under R version 4.0.2\"\n",
      "\n",
      "Attaching package: 'lubridate'\n",
      "\n",
      "\n",
      "The following objects are masked from 'package:base':\n",
      "\n",
      "    date, intersect, setdiff, union\n",
      "\n",
      "\n",
      "Warning message:\n",
      "\"package 'rgdal' was built under R version 4.0.2\"\n",
      "Loading required package: sp\n",
      "\n",
      "Warning message:\n",
      "\"package 'sp' was built under R version 4.0.2\"\n",
      "rgdal: version: 1.5-12, (SVN revision 1018)\n",
      "Geospatial Data Abstraction Library extensions to R successfully loaded\n",
      "Loaded GDAL runtime: GDAL 3.0.4, released 2020/01/28\n",
      "Path to GDAL shared files: C:/Users/kathryn.berger/Documents/R/R-4.0.1/library/rgdal/gdal\n",
      "GDAL binary built with GEOS: TRUE \n",
      "Loaded PROJ runtime: Rel. 6.3.1, February 10th, 2020, [PJ_VERSION: 631]\n",
      "Path to PROJ shared files: C:/Users/kathryn.berger/Documents/R/R-4.0.1/library/rgdal/proj\n",
      "Linking to sp version:1.4-2\n",
      "To mute warnings of possible GDAL/OSR exportToProj4() degradation,\n",
      "use options(\"rgdal_show_exportToProj4_warnings\"=\"none\") before loading rgdal.\n",
      "\n",
      "Warning message:\n",
      "\"package 'tidyverse' was built under R version 4.0.2\"\n",
      "-- \u001b[1mAttaching packages\u001b[22m --------------------------------------- tidyverse 1.3.0 --\n",
      "\n",
      "\u001b[32mv\u001b[39m \u001b[34mggplot2\u001b[39m 3.3.2     \u001b[32mv\u001b[39m \u001b[34mpurrr  \u001b[39m 0.3.4\n",
      "\u001b[32mv\u001b[39m \u001b[34mtibble \u001b[39m 3.0.1     \u001b[32mv\u001b[39m \u001b[34mdplyr  \u001b[39m 1.0.0\n",
      "\u001b[32mv\u001b[39m \u001b[34mtidyr  \u001b[39m 1.1.0     \u001b[32mv\u001b[39m \u001b[34mstringr\u001b[39m 1.4.0\n",
      "\u001b[32mv\u001b[39m \u001b[34mreadr  \u001b[39m 1.3.1     \u001b[32mv\u001b[39m \u001b[34mforcats\u001b[39m 0.5.0\n",
      "\n",
      "Warning message:\n",
      "\"package 'ggplot2' was built under R version 4.0.2\"\n",
      "Warning message:\n",
      "\"package 'tidyr' was built under R version 4.0.2\"\n",
      "Warning message:\n",
      "\"package 'purrr' was built under R version 4.0.2\"\n",
      "Warning message:\n",
      "\"package 'stringr' was built under R version 4.0.2\"\n",
      "Warning message:\n",
      "\"package 'forcats' was built under R version 4.0.2\"\n",
      "-- \u001b[1mConflicts\u001b[22m ------------------------------------------ tidyverse_conflicts() --\n",
      "\u001b[31mx\u001b[39m \u001b[34mlubridate\u001b[39m::\u001b[32mas.difftime()\u001b[39m masks \u001b[34mbase\u001b[39m::as.difftime()\n",
      "\u001b[31mx\u001b[39m \u001b[34mlubridate\u001b[39m::\u001b[32mdate()\u001b[39m        masks \u001b[34mbase\u001b[39m::date()\n",
      "\u001b[31mx\u001b[39m \u001b[34mdplyr\u001b[39m::\u001b[32mfilter()\u001b[39m          masks \u001b[34mstats\u001b[39m::filter()\n",
      "\u001b[31mx\u001b[39m \u001b[34mpurrr\u001b[39m::\u001b[32mflatten()\u001b[39m         masks \u001b[34mjsonlite\u001b[39m::flatten()\n",
      "\u001b[31mx\u001b[39m \u001b[34mlubridate\u001b[39m::\u001b[32mintersect()\u001b[39m   masks \u001b[34mbase\u001b[39m::intersect()\n",
      "\u001b[31mx\u001b[39m \u001b[34mdplyr\u001b[39m::\u001b[32mlag()\u001b[39m             masks \u001b[34mstats\u001b[39m::lag()\n",
      "\u001b[31mx\u001b[39m \u001b[34mlubridate\u001b[39m::\u001b[32msetdiff()\u001b[39m     masks \u001b[34mbase\u001b[39m::setdiff()\n",
      "\u001b[31mx\u001b[39m \u001b[34mlubridate\u001b[39m::\u001b[32munion()\u001b[39m       masks \u001b[34mbase\u001b[39m::union()\n",
      "\n"
     ]
    }
   ],
   "source": [
    "\n",
    "options(\"Ncpus\" = parallel::detectCores())\n",
    "\n",
    "packages <- c(\"httr\", \"jsonlite\", \"lubridate\", \"rgdal\", \"sp\", \"tidyverse\")\n",
    "if (length(setdiff(packages, rownames(installed.packages()))) > 0) {\n",
    "  install.packages(setdiff(packages, rownames(installed.packages())), Ncpus=getOption(\"Ncpus\", 1L), INSTALL_opts = '--no-lock', clean = TRUE)  \n",
    "}\n",
    "\n",
    "library(httr)\n",
    "library(jsonlite)\n",
    "library(lubridate)\n",
    "library(rgdal)     \n",
    "library(sp)\n",
    "library(tidyverse)"
   ]
  },
  {
   "cell_type": "markdown",
   "metadata": {},
   "source": [
    "### Accessing the data from your geospatial GraphQL query\n",
    "\n",
    "First, we will require a successful GraphQL query __[here](https://app.agrimetrics.co.uk/graph-explorer\n",
    ")__ that includes the following: \n",
    "* A bounding box for the area of interest to be used as our ***geoFilter***\n",
    "* For our geospatial query to work, we must have selected ***location*** options in our GraphQL query\n",
    "* In this case, we have selected to retrieve the ***centroid*** values for each of the geospatialMeasure grid values as observed in the payload shown below\n",
    "* An ***api-key*** of our own\n",
    "* Depending on your subscription (trial vs. paid) amount of data available in this demo may vary "
   ]
  },
  {
   "cell_type": "code",
   "execution_count": 2,
   "metadata": {},
   "outputs": [
    {
     "name": "stdout",
     "output_type": "stream",
     "text": [
      "List of 1\n",
      " $ data:List of 1\n",
      "  ..$ geospatialMeasures:List of 2\n",
      "  .. ..$ soilPH                           :List of 8\n",
      "  .. ..$ soilTotalAbundanceOfInvertebrates:List of 8\n"
     ]
    }
   ],
   "source": [
    "options(stringsAsFactors = FALSE)\n",
    "\n",
    "url = \"https://api.agrimetrics.co.uk/graphql\"\n",
    "API_KEY <- Sys.getenv(\"API_KEY\", \"API_KEY\")\n",
    "\n",
    "# our query searches for soilPH and invertebrate count for area within defined polygon geospatial filter\n",
    "# below we copy the payload from our GraphQL query using the Rothamsted bounding box for our geoFilter\n",
    "# note the use added quotations used around the copied GraphQL query for reading into R\n",
    " \n",
    "payload = '{\"query\":\"query getFieldIdsNearLocation { geospatialMeasures(geoFilter: {location: {type: Polygon, coordinates: [[[-0.401073,51.80076],[-0.356222,51.80076],[-0.356222,51.819771],[-0.401073,51.819771],[-0.401073,51.80076]]]}}) { soilPH { unit value location { centroid } } soilTotalAbundanceOfInvertebrates { unit value location { centroid } } } } \"}'\n",
    "\n",
    "# you will need a subscription key first\n",
    "# replace \"api-key\" with your own\n",
    "r<-POST(url, body = payload, add_headers(.headers = c('Accept'=\"application/json\",'Ocp-Apim-Subscription-Key'= API_KEY,'Content-Type'=\"application/json\",'Accept-Encoding'=\"gzip, deflate, br\")))\n",
    "\n",
    "# reviewing the contents of the above query \n",
    "# if it has worked correctly you should see our two requested geospatialMeasures (soil PH and invertebrate abundance) below\n",
    "str(httr::content(r, as = \"parsed\", type = \"application/json\"), max.level = 3)\n"
   ]
  },
  {
   "cell_type": "markdown",
   "metadata": {},
   "source": [
    "### Converting our query output into a data frame "
   ]
  },
  {
   "cell_type": "code",
   "execution_count": 3,
   "metadata": {},
   "outputs": [
    {
     "data": {
      "text/html": [
       "<table>\n",
       "<caption>A data.frame: 6 × 8</caption>\n",
       "<thead>\n",
       "\t<tr><th></th><th scope=col>data.geospatialMeasures.soilPH.unit</th><th scope=col>data.geospatialMeasures.soilPH.value</th><th scope=col>data.geospatialMeasures.soilPH.location.centroid.type</th><th scope=col>data.geospatialMeasures.soilPH.location.centroid.coordinates</th><th scope=col>data.geospatialMeasures.soilTotalAbundanceOfInvertebrates.unit</th><th scope=col>data.geospatialMeasures.soilTotalAbundanceOfInvertebrates.value</th><th scope=col>data.geospatialMeasures.soilTotalAbundanceOfInvertebrates.location.centroid.type</th><th scope=col>data.geospatialMeasures.soilTotalAbundanceOfInvertebrates.location.centroid.coordinates</th></tr>\n",
       "\t<tr><th></th><th scope=col>&lt;chr&gt;</th><th scope=col>&lt;dbl&gt;</th><th scope=col>&lt;chr&gt;</th><th scope=col>&lt;list&gt;</th><th scope=col>&lt;chr&gt;</th><th scope=col>&lt;dbl&gt;</th><th scope=col>&lt;chr&gt;</th><th scope=col>&lt;list&gt;</th></tr>\n",
       "</thead>\n",
       "<tbody>\n",
       "\t<tr><th scope=row>1</th><td>http://data.agrimetrics.co.uk/units/ph</td><td>6.068252</td><td>Point</td><td>-0.3986048, 51.8092248</td><td>http://data.agrimetrics.co.uk/units/count</td><td>56.20854</td><td>Point</td><td>-0.3986048, 51.8092248</td></tr>\n",
       "\t<tr><th scope=row>2</th><td>http://data.agrimetrics.co.uk/units/ph</td><td>7.046670</td><td>Point</td><td>-0.3844273, 51.8000391</td><td>http://data.agrimetrics.co.uk/units/count</td><td>30.71813</td><td>Point</td><td>-0.3844273, 51.8000391</td></tr>\n",
       "\t<tr><th scope=row>3</th><td>http://data.agrimetrics.co.uk/units/ph</td><td>7.046670</td><td>Point</td><td>-0.384106, 51.809026</td><td>http://data.agrimetrics.co.uk/units/count</td><td>30.71813</td><td>Point</td><td>-0.384106, 51.809026</td></tr>\n",
       "\t<tr><th scope=row>4</th><td>http://data.agrimetrics.co.uk/units/ph</td><td>7.231666</td><td>Point</td><td>-0.3699316, 51.7998390</td><td>http://data.agrimetrics.co.uk/units/count</td><td>48.82695</td><td>Point</td><td>-0.3699316, 51.7998390</td></tr>\n",
       "\t<tr><th scope=row>5</th><td>http://data.agrimetrics.co.uk/units/ph</td><td>8.210084</td><td>Point</td><td>-0.3696074, 51.8088264</td><td>http://data.agrimetrics.co.uk/units/count</td><td>23.33654</td><td>Point</td><td>-0.3696074, 51.8088264</td></tr>\n",
       "\t<tr><th scope=row>6</th><td>http://data.agrimetrics.co.uk/units/ph</td><td>6.044802</td><td>Point</td><td>-0.355109, 51.808624</td><td>http://data.agrimetrics.co.uk/units/count</td><td>36.80287</td><td>Point</td><td>-0.355109, 51.808624</td></tr>\n",
       "</tbody>\n",
       "</table>\n"
      ],
      "text/latex": [
       "A data.frame: 6 × 8\n",
       "\\begin{tabular}{r|llllllll}\n",
       "  & data.geospatialMeasures.soilPH.unit & data.geospatialMeasures.soilPH.value & data.geospatialMeasures.soilPH.location.centroid.type & data.geospatialMeasures.soilPH.location.centroid.coordinates & data.geospatialMeasures.soilTotalAbundanceOfInvertebrates.unit & data.geospatialMeasures.soilTotalAbundanceOfInvertebrates.value & data.geospatialMeasures.soilTotalAbundanceOfInvertebrates.location.centroid.type & data.geospatialMeasures.soilTotalAbundanceOfInvertebrates.location.centroid.coordinates\\\\\n",
       "  & <chr> & <dbl> & <chr> & <list> & <chr> & <dbl> & <chr> & <list>\\\\\n",
       "\\hline\n",
       "\t1 & http://data.agrimetrics.co.uk/units/ph & 6.068252 & Point & -0.3986048, 51.8092248 & http://data.agrimetrics.co.uk/units/count & 56.20854 & Point & -0.3986048, 51.8092248\\\\\n",
       "\t2 & http://data.agrimetrics.co.uk/units/ph & 7.046670 & Point & -0.3844273, 51.8000391 & http://data.agrimetrics.co.uk/units/count & 30.71813 & Point & -0.3844273, 51.8000391\\\\\n",
       "\t3 & http://data.agrimetrics.co.uk/units/ph & 7.046670 & Point & -0.384106, 51.809026 & http://data.agrimetrics.co.uk/units/count & 30.71813 & Point & -0.384106, 51.809026\\\\\n",
       "\t4 & http://data.agrimetrics.co.uk/units/ph & 7.231666 & Point & -0.3699316, 51.7998390 & http://data.agrimetrics.co.uk/units/count & 48.82695 & Point & -0.3699316, 51.7998390\\\\\n",
       "\t5 & http://data.agrimetrics.co.uk/units/ph & 8.210084 & Point & -0.3696074, 51.8088264 & http://data.agrimetrics.co.uk/units/count & 23.33654 & Point & -0.3696074, 51.8088264\\\\\n",
       "\t6 & http://data.agrimetrics.co.uk/units/ph & 6.044802 & Point & -0.355109, 51.808624 & http://data.agrimetrics.co.uk/units/count & 36.80287 & Point & -0.355109, 51.808624\\\\\n",
       "\\end{tabular}\n"
      ],
      "text/markdown": [
       "\n",
       "A data.frame: 6 × 8\n",
       "\n",
       "| <!--/--> | data.geospatialMeasures.soilPH.unit &lt;chr&gt; | data.geospatialMeasures.soilPH.value &lt;dbl&gt; | data.geospatialMeasures.soilPH.location.centroid.type &lt;chr&gt; | data.geospatialMeasures.soilPH.location.centroid.coordinates &lt;list&gt; | data.geospatialMeasures.soilTotalAbundanceOfInvertebrates.unit &lt;chr&gt; | data.geospatialMeasures.soilTotalAbundanceOfInvertebrates.value &lt;dbl&gt; | data.geospatialMeasures.soilTotalAbundanceOfInvertebrates.location.centroid.type &lt;chr&gt; | data.geospatialMeasures.soilTotalAbundanceOfInvertebrates.location.centroid.coordinates &lt;list&gt; |\n",
       "|---|---|---|---|---|---|---|---|---|\n",
       "| 1 | http://data.agrimetrics.co.uk/units/ph | 6.068252 | Point | -0.3986048, 51.8092248 | http://data.agrimetrics.co.uk/units/count | 56.20854 | Point | -0.3986048, 51.8092248 |\n",
       "| 2 | http://data.agrimetrics.co.uk/units/ph | 7.046670 | Point | -0.3844273, 51.8000391 | http://data.agrimetrics.co.uk/units/count | 30.71813 | Point | -0.3844273, 51.8000391 |\n",
       "| 3 | http://data.agrimetrics.co.uk/units/ph | 7.046670 | Point | -0.384106, 51.809026 | http://data.agrimetrics.co.uk/units/count | 30.71813 | Point | -0.384106, 51.809026 |\n",
       "| 4 | http://data.agrimetrics.co.uk/units/ph | 7.231666 | Point | -0.3699316, 51.7998390 | http://data.agrimetrics.co.uk/units/count | 48.82695 | Point | -0.3699316, 51.7998390 |\n",
       "| 5 | http://data.agrimetrics.co.uk/units/ph | 8.210084 | Point | -0.3696074, 51.8088264 | http://data.agrimetrics.co.uk/units/count | 23.33654 | Point | -0.3696074, 51.8088264 |\n",
       "| 6 | http://data.agrimetrics.co.uk/units/ph | 6.044802 | Point | -0.355109, 51.808624 | http://data.agrimetrics.co.uk/units/count | 36.80287 | Point | -0.355109, 51.808624 |\n",
       "\n"
      ],
      "text/plain": [
       "  data.geospatialMeasures.soilPH.unit    data.geospatialMeasures.soilPH.value\n",
       "1 http://data.agrimetrics.co.uk/units/ph 6.068252                            \n",
       "2 http://data.agrimetrics.co.uk/units/ph 7.046670                            \n",
       "3 http://data.agrimetrics.co.uk/units/ph 7.046670                            \n",
       "4 http://data.agrimetrics.co.uk/units/ph 7.231666                            \n",
       "5 http://data.agrimetrics.co.uk/units/ph 8.210084                            \n",
       "6 http://data.agrimetrics.co.uk/units/ph 6.044802                            \n",
       "  data.geospatialMeasures.soilPH.location.centroid.type\n",
       "1 Point                                                \n",
       "2 Point                                                \n",
       "3 Point                                                \n",
       "4 Point                                                \n",
       "5 Point                                                \n",
       "6 Point                                                \n",
       "  data.geospatialMeasures.soilPH.location.centroid.coordinates\n",
       "1 -0.3986048, 51.8092248                                      \n",
       "2 -0.3844273, 51.8000391                                      \n",
       "3 -0.384106, 51.809026                                        \n",
       "4 -0.3699316, 51.7998390                                      \n",
       "5 -0.3696074, 51.8088264                                      \n",
       "6 -0.355109, 51.808624                                        \n",
       "  data.geospatialMeasures.soilTotalAbundanceOfInvertebrates.unit\n",
       "1 http://data.agrimetrics.co.uk/units/count                     \n",
       "2 http://data.agrimetrics.co.uk/units/count                     \n",
       "3 http://data.agrimetrics.co.uk/units/count                     \n",
       "4 http://data.agrimetrics.co.uk/units/count                     \n",
       "5 http://data.agrimetrics.co.uk/units/count                     \n",
       "6 http://data.agrimetrics.co.uk/units/count                     \n",
       "  data.geospatialMeasures.soilTotalAbundanceOfInvertebrates.value\n",
       "1 56.20854                                                       \n",
       "2 30.71813                                                       \n",
       "3 30.71813                                                       \n",
       "4 48.82695                                                       \n",
       "5 23.33654                                                       \n",
       "6 36.80287                                                       \n",
       "  data.geospatialMeasures.soilTotalAbundanceOfInvertebrates.location.centroid.type\n",
       "1 Point                                                                           \n",
       "2 Point                                                                           \n",
       "3 Point                                                                           \n",
       "4 Point                                                                           \n",
       "5 Point                                                                           \n",
       "6 Point                                                                           \n",
       "  data.geospatialMeasures.soilTotalAbundanceOfInvertebrates.location.centroid.coordinates\n",
       "1 -0.3986048, 51.8092248                                                                 \n",
       "2 -0.3844273, 51.8000391                                                                 \n",
       "3 -0.384106, 51.809026                                                                   \n",
       "4 -0.3699316, 51.7998390                                                                 \n",
       "5 -0.3696074, 51.8088264                                                                 \n",
       "6 -0.355109, 51.808624                                                                   "
      ]
     },
     "metadata": {},
     "output_type": "display_data"
    }
   ],
   "source": [
    "# output of request into flattened json\n",
    "get_data_text <- content(r, \"text\")\n",
    "get_data_json <- jsonlite::fromJSON(get_data_text, flatten = TRUE)\n",
    "\n",
    "# converting json to data frame\n",
    "get_data_df <- as.data.frame(get_data_json)\n",
    "\n",
    "# to examine a sample of our data frame  \n",
    "head(get_data_df)\n"
   ]
  },
  {
   "cell_type": "markdown",
   "metadata": {},
   "source": [
    "### Converting our first geospatialMeasure (soil pH)  into a spatial points data frame\n",
    "\n",
    "Our data frame consists of two geospatialMeasures (soil pH and soil invertebrate abundance), each of which may have their own different spatial resolutions (and corresponding coordinates). Therefore, we must treat each geospatialMeasure separately. This means we will deal with each data frame one at a time.  \n",
    "\n",
    "In this section, we will develop two ***SpatialPointsDataFrames*** and later ***shapefiles*** for both soil pH and soil invertebrate abundance, respectively. \n",
    "Below, we focus on soil pH first."
   ]
  },
  {
   "cell_type": "code",
   "execution_count": 4,
   "metadata": {},
   "outputs": [],
   "source": [
    "# we must extract the soil PH data from our dataframe, to do so we need to know which columns correspond \n",
    "# Using the section above to examine our headers, we subset the first four columns to focus on soil PH\n",
    "soilph_data <-get_data_df[, 1:4]\n",
    "\n",
    "# r has a problem with unseparated coordinates, so we fix it here, by separating them \n",
    "soilph_data <- soilph_data %>%\n",
    "  mutate(point_lat = unlist(map(soilph_data$data.geospatialMeasures.soilPH.location.centroid.coordinates,2)),\n",
    "         point_long = unlist(map(soilph_data$data.geospatialMeasures.soilPH.location.centroid.coordinates,1)))\n",
    "\n",
    "# dropping coordinates column as it will cause confusion downstream\n",
    "soilph_data$data.geospatialMeasures.soilPH.location.centroid.coordinates <- NULL\n",
    "\n",
    "# we assign an EPSG string for coordinates system latitude and longitude\n",
    "latlong = \"+init=epsg:4326\"\n",
    "\n",
    "# making a SpatialPointsDataFrame (spdf) object\n",
    "soilph_spdf <- sp::SpatialPointsDataFrame(coords=soilph_data[, c(\"point_long\", \"point_lat\")],\n",
    "                                      data = soilph_data, \n",
    "                                      proj4string=CRS(as.character(latlong)))\n",
    "\n",
    "# To produce a .shp file that can be used across a number of GIS platforms we convert the spdf object to a .shp file\n",
    "# but ESRI shapefiles limit headers to 10 characters, so we must rename them here using our knowledge of the column headers\n",
    "# using spdf 'data' slot we rename the column headers where required\n",
    "colnames(soilph_spdf@data)[2] = \"value\"\n",
    "colnames(soilph_spdf@data)[1] = \"unit\"\n",
    "colnames(soilph_spdf@data)[3] = \"type\"\n",
    "\n",
    "# and finally, we convert the spdf to ESRI shapefile named \"soilph\" which we save in our tempdir folder\n",
    "rgdal::writeOGR(obj=soilph_spdf, dsn=\"tempdir\", layer=\"soilph\", driver=\"ESRI Shapefile\", overwrite_layer=TRUE) "
   ]
  },
  {
   "cell_type": "markdown",
   "metadata": {},
   "source": [
    "### Working on our second geospatial layer of interest (soil invertebrate abundance)\n",
    " \n",
    "Below, we focus on the second half of our data frame and develop a ***SpatialPointsDataFrames*** for our soil invertebrate abundance layer. Then we convert the ***SpatialPointsDataFrame*** into a ***shapefile*** that can be used across a variety of GIS tools. "
   ]
  },
  {
   "cell_type": "code",
   "execution_count": 5,
   "metadata": {},
   "outputs": [],
   "source": [
    "# we select columns 5-8 that contain the information corresponding to our soil invertebrate abundance layer\n",
    "invertebrates_data <-get_data_df[, 5:8]\n",
    "\n",
    "# r has a problem with unseparated coordinates so fixing it here\n",
    "invertebrates_data <- invertebrates_data %>%\n",
    "  mutate(point_lat = unlist(map(invertebrates_data$data.geospatialMeasures.soilTotalAbundanceOfInvertebrates.location.centroid.coordinates,2)),\n",
    "         point_long = unlist(map(invertebrates_data$data.geospatialMeasures.soilTotalAbundanceOfInvertebrates.location.centroid.coordinates,1)))\n",
    "\n",
    "# dropping coordinates column as it will cause confusion downstream\n",
    "invertebrates_data$data.geospatialMeasures.soilTotalAbundanceOfInvertebrates.location.centroid.coordinates <- NULL\n",
    "#View(invertebrates_data)\n",
    "\n",
    "# we assign an EPSG string for coordinates system latitude and longitude\n",
    "latlong = \"+init=epsg:4326\"\n",
    "\n",
    "# making a SpatialPointsDataFrame (spdf) object\n",
    "invertebrates_data_spdf <- SpatialPointsDataFrame(coords=invertebrates_data[, c(\"point_long\", \"point_lat\")],\n",
    "                                      data = invertebrates_data, \n",
    "                                      proj4string=CRS(as.character(latlong)))\n",
    "\n",
    "# To produce a .shp file that can be used across a number of GIS platforms we convert the spdf object to a .shp file\n",
    "# but ESRI shapefiles limit headers to 10 characters, so we must rename them here using our knowledge of the column headers\n",
    "# using spdf 'data' slot we rename the column headers where required\n",
    "colnames(invertebrates_data_spdf@data)[2] = \"value\"\n",
    "colnames(invertebrates_data_spdf@data)[1] = \"unit\"\n",
    "colnames(invertebrates_data_spdf@data)[3] = \"type\"\n",
    "\n",
    "# and finally, we convert the spdf to ESRI shapefile named \"soilph\" which we save in our tempdir folder\n",
    "rgdal::writeOGR(obj=invertebrates_data_spdf, dsn=\"tempdir\", layer=\"soil_invertebrates\", driver=\"ESRI Shapefile\", overwrite_layer=TRUE) "
   ]
  },
  {
   "cell_type": "markdown",
   "metadata": {},
   "source": [
    "### Results\n",
    " \n",
    "We can visualise our results by plotting them using any GIS tool. The two shapefiles produced in this demo draw from the same 1km grid and so will have identical centroid coordinates meaning they will overlap if displayed at the same time. Below, we display our soil_invertebrates.shp file in QGIS using a standard basemap. "
   ]
  },
  {
   "source": [
    "<img src=\"rothamsted_invertebrates_demo.png\" />"
   ],
   "cell_type": "code",
   "metadata": {},
   "execution_count": null,
   "outputs": []
  },
  {
   "cell_type": "markdown",
   "metadata": {},
   "source": [
    "### Linear regression analysis \n",
    "\n",
    "Using data retrieved from the exercise above, we will perform a linear regression to evaluation the relationship between soil pH and soil invertebrate abundance."
   ]
  },
  {
   "cell_type": "code",
   "execution_count": 6,
   "metadata": {},
   "outputs": [
    {
     "name": "stdout",
     "output_type": "stream",
     "text": [
      "\n",
      "Call:\n",
      "lm(formula = invertebrates_data_spdf$value ~ soilph_spdf$value)\n",
      "\n",
      "Residuals:\n",
      "     Min       1Q   Median       3Q      Max \n",
      "-19.1881  -7.8865   0.4674   7.9924  20.5467 \n",
      "\n",
      "Coefficients:\n",
      "                  Estimate Std. Error t value Pr(>|t|)\n",
      "(Intercept)         105.31      59.84   1.760    0.129\n",
      "soilph_spdf$value   -10.65       8.56  -1.244    0.260\n",
      "\n",
      "Residual standard error: 15.53 on 6 degrees of freedom\n",
      "Multiple R-squared:  0.2051,\tAdjusted R-squared:  0.07266 \n",
      "F-statistic: 1.548 on 1 and 6 DF,  p-value: 0.2598\n",
      "\n"
     ]
    },
    {
     "data": {
      "image/png": "[encoded data removed]",
      "text/plain": [
       "Plot with title \"Soil Invertebrate Abundance vs. Soil pH Regression\""
      ]
     },
     "metadata": {
      "image/png": {
       "height": 420,
       "width": 420
      }
     },
     "output_type": "display_data"
    }
   ],
   "source": [
    "# performing a simple linear regression using the formula lm(y~x)\n",
    "# where \"x\" is the independent variable\n",
    "# in this example \"soil pH\" values, extracted from the soilph_spdf\n",
    "# and \"y\" is the dependent variable\n",
    "# in this example \"soil invertebrate abundance\" values, extracted from the invertebrates_data_spdf\n",
    "\n",
    "results <- lm(invertebrates_data_spdf$value~soilph_spdf$value)\n",
    "\n",
    "# printing the results summary of our linear regression analysis\n",
    "print(summary(results))\n",
    "\n",
    "# plotting our data points and best-fit line\n",
    "plot(soilph_spdf$value, invertebrates_data_spdf$value, col = \"blue\",main = \"Soil Invertebrate Abundance vs. Soil pH Regression\",\n",
    "abline(lm(invertebrates_data_spdf$value~soilph_spdf$value)), cex = 1.3, pch = 16, xlab = \"Soil pH\", ylab = \"Soil Invertebrate Abundance\")\n"
   ]
  },
  {
   "cell_type": "markdown",
   "metadata": {},
   "source": [
    "The fitted line on our scatter plot suggests a negative relationship between soil pH and invertebrate abundance. However, when we examine the results of our linear regression we understand that the relationship is not statistically significant. "
   ]
  },
  {
   "cell_type": "markdown",
   "metadata": {},
   "source": [
    "### Conclusion\n",
    " \n",
    "In this example, we have successfully retrieved static geospatial data from our GraphQL query and exported these data points into two separate shapefiles that can be used across a variety of GIS platforms and geospatial tools. We then performed a linear regression analysis using the values extracted from both spatial objects to better understand the relationship between soil invertebrate abundance and soil pH at our Rothamsted Research study area. "
   ]
  }
 ],
 "metadata": {
  "kernelspec": {
   "display_name": "R",
   "language": "R",
   "name": "ir"
  },
  "language_info": {
   "codemirror_mode": "r",
   "file_extension": ".r",
   "mimetype": "text/x-r-source",
   "name": "R",
   "pygments_lexer": "r",
   "version": "3.6.3"
  }
 },
 "nbformat": 4,
 "nbformat_minor": 4
}