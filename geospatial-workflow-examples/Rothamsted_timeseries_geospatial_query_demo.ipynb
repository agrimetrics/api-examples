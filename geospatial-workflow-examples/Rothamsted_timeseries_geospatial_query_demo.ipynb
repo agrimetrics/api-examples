{
 "cells": [
  {
   "cell_type": "markdown",
   "metadata": {},
   "source": [
    "# Retrieving time series geospatial data from a GraphQL query\n",
    "\n",
    "##### Author: Kathryn Berger, August 2020"
   ]
  },
  {
   "cell_type": "markdown",
   "metadata": {},
   "source": [
    "### Description\n",
    "\n",
    "We are interested in retrieving historical mean monthly temperature values for our area of interest, the Rothamsted Research campus. Using our previous example for retrieving static geospatial layers, we will now add mean monthly temperature to our GraphQL query.  \n",
    "\n",
    "We know from examining our Data Sources from the __[Data Catalogue](https://app.agrimetrics.co.uk/catalog/data-sets)__, that these are time series data at 5km resolution. In this example, we will retrieve the time series data and convert them into a geospatial object (shapefile) to be used in any geographic information system (GIS)."
   ]
  },
  {
   "cell_type": "markdown",
   "metadata": {},
   "source": [
    "### Importing requirements"
   ]
  },
  {
   "cell_type": "code",
   "execution_count": null,
   "metadata": {
    "scrolled": false,
    "tags": []
   },
   "outputs": [],
   "source": [
    "options(\"Ncpus\" = parallel::detectCores())\n",
    "\n",
    "packages <- c(\"ggplot2\", \"httr\", \"jsonlite\", \"lubridate\", \"rgdal\", \"sf\", \"sp\", \"tidyverse\")\n",
    "if (length(setdiff(packages, rownames(installed.packages()))) > 0) {\n",
    "  install.packages(\n",
    "      setdiff(\n",
    "          packages, \n",
    "          rownames(installed.packages())\n",
    "      ), \n",
    "      Ncpus=getOption(\"Ncpus\", 1L),\n",
    "      INSTALL_opts='--no-lock',\n",
    "      clean=TRUE\n",
    "  )  \n",
    "}\n",
    "\n",
    "library(ggplot2)\n",
    "library(httr)\n",
    "library(jsonlite)\n",
    "library(lubridate)\n",
    "library(rgdal)     \n",
    "library(sf)\n",
    "library(sp)\n",
    "library(tidyverse)"
   ]
  },
  {
   "cell_type": "markdown",
   "metadata": {},
   "source": [
    "### Accessing the data from your geospatial GraphQL query\n",
    "\n",
    "First, we will require a successful GraphQL query __[here](https://app.agrimetrics.co.uk/graph-explorer\n",
    ")__ that includes the following: \n",
    "* A bounding box for the area of interest to be used as our ***geoFilter***\n",
    "* For our geospatial query to work, we must have selected ***location*** options in our GraphQL query\n",
    "* In this case, we have selected to retrieve the ***centroid*** values for each of the geospatialMeasure grid values as observed in the payload shown below\n",
    "* An ***api-key*** of our own"
   ]
  },
  {
   "cell_type": "code",
   "execution_count": null,
   "metadata": {
    "tags": []
   },
   "outputs": [
    {
     "name": "stdout",
     "output_type": "stream",
     "text": [
      "List of 1\n",
      " $ data:List of 1\n",
      "  ..$ geospatialMeasures:List of 3\n",
      "  .. ..$ soilPH                           :List of 8\n",
      "  .. ..$ soilTotalAbundanceOfInvertebrates:List of 8\n",
      "  .. ..$ temperatureMeanMonthly           :List of 1\n"
     ]
    }
   ],
   "source": [
    "options(stringsAsFactors = FALSE)\n",
    "\n",
    "url = \"https://api.agrimetrics.co.uk/graphql\"\n",
    "API_KEY <- Sys.getenv(\"API_KEY\", \"UNSET\")\n",
    "\n",
    "# our query searches for soilPH and invertebrate count for area within defined polygon geospatial filter\n",
    "# below we copy the payload from our GraphQL query using the Rothamsted bounding box for our geoFilter\n",
    "# note the use added quotations used around the copied GraphQL query for reading into R\n",
    "# query searches for soilPH, invertebrate count, & mean monthly temp for area within defined polygon geospatial filter\n",
    "payload <- list(query=\"query getFieldIdsNearLocation {\n",
    "  geospatialMeasures(\n",
    "    geoFilter: {\n",
    "      location: {\n",
    "        type: Polygon, \n",
    "        coordinates: [[[-0.401073,51.80076],[-0.356222,51.80076],[-0.356222,51.819771],[-0.401073,51.819771],[-0.401073,51.80076]]]\n",
    "      }\n",
    "    }\n",
    "  ) { \n",
    "      soilPH { \n",
    "        unit \n",
    "        value \n",
    "        location { \n",
    "          centroid \n",
    "        } \n",
    "      } \n",
    "      soilTotalAbundanceOfInvertebrates {\n",
    "        unit\n",
    "        value\n",
    "        location {\n",
    "          centroid\n",
    "        }\n",
    "      }\n",
    "      temperatureMeanMonthly(\n",
    "        where: {\n",
    "          datapoints: {\n",
    "            date: {\n",
    "              GE: \\\"2018-01-01\\\", LE:\\\"2018-12-01\\\"\n",
    "            }\n",
    "          }\n",
    "        }) {\n",
    "          cursor\n",
    "          location {\n",
    "            centroid\n",
    "          }\n",
    "          datapoints {\n",
    "            value\n",
    "            unit\n",
    "            dateTime\n",
    "          }\n",
    "        }\n",
    "      }\n",
    "    }\n",
    "\")\n",
    "# you will need a subscription key first\n",
    "# replace \"api-key\" with your own\n",
    "r <- POST(url, encode = \"json\", body = payload, add_headers(\n",
    "    .headers = c(\n",
    "        'Accept'=\"application/json\",\n",
    "        'Ocp-Apim-Subscription-Key'= API_KEY,\n",
    "        'Content-Type'=\"application/json\",\n",
    "        'Accept-Encoding'=\"gzip, deflate, br\"\n",
    "    )))\n",
    "# reviewing the contents of the above query.\n",
    "# if it has worked correctly you should see our three requested geospatialMeasures (soil PH, invertebrate abundance\n",
    "# and mean monthly temperature) below.\n",
    "str(httr::content(r, as = \"parsed\", type = \"application/json\"), max.level = 3)\n",
    "\n"
   ]
  },
  {
   "cell_type": "markdown",
   "metadata": {},
   "source": [
    "### Converting our query output into a data frame "
   ]
  },
  {
   "cell_type": "code",
   "execution_count": null,
   "metadata": {},
   "outputs": [],
   "source": [
    "# output of request into flattened json\n",
    "get_data_text <- content(r, \"text\")\n",
    "get_data_json <- jsonlite::fromJSON(get_data_text, flatten = TRUE)\n"
   ]
  },
  {
   "cell_type": "markdown",
   "metadata": {},
   "source": [
    "### Dealing with time series data"
   ]
  },
  {
   "cell_type": "code",
   "execution_count": null,
   "metadata": {},
   "outputs": [
    {
     "data": {
      "text/html": [
       "<table class=\"dataframe\">\n",
       "<caption>A tibble: 6 x 6</caption>\n",
       "<thead>\n",
       "\t<tr><th scope=col>cursor</th><th scope=col>value</th><th scope=col>unit</th><th scope=col>dateTime</th><th scope=col>location.centroid.type</th><th scope=col>location.centroid.coordinates</th></tr>\n",
       "\t<tr><th scope=col>&lt;chr&gt;</th><th scope=col>&lt;dbl&gt;</th><th scope=col>&lt;chr&gt;</th><th scope=col>&lt;chr&gt;</th><th scope=col>&lt;chr&gt;</th><th scope=col>&lt;list&gt;</th></tr>\n",
       "</thead>\n",
       "<tbody>\n",
       "\t<tr><td>aHR0cDovL2RhdGEuYWdyaW1ldHJpY3MuY28udWsvZ3JpZC01a20tYm5nL0g2Tk9kTHBySVNmZHpOR20=</td><td> 5.2</td><td>http://data.agrimetrics.co.uk/units/celsius</td><td>2018-01-01T00:00:00.000Z</td><td>Point</td><td>-0.3699316, 51.7998390</td></tr>\n",
       "\t<tr><td>aHR0cDovL2RhdGEuYWdyaW1ldHJpY3MuY28udWsvZ3JpZC01a20tYm5nL0g2Tk9kTHBySVNmZHpOR20=</td><td> 2.4</td><td>http://data.agrimetrics.co.uk/units/celsius</td><td>2018-02-01T00:00:00.000Z</td><td>Point</td><td>-0.3699316, 51.7998390</td></tr>\n",
       "\t<tr><td>aHR0cDovL2RhdGEuYWdyaW1ldHJpY3MuY28udWsvZ3JpZC01a20tYm5nL0g2Tk9kTHBySVNmZHpOR20=</td><td> 5.0</td><td>http://data.agrimetrics.co.uk/units/celsius</td><td>2018-03-01T00:00:00.000Z</td><td>Point</td><td>-0.3699316, 51.7998390</td></tr>\n",
       "\t<tr><td>aHR0cDovL2RhdGEuYWdyaW1ldHJpY3MuY28udWsvZ3JpZC01a20tYm5nL0g2Tk9kTHBySVNmZHpOR20=</td><td>10.3</td><td>http://data.agrimetrics.co.uk/units/celsius</td><td>2018-04-01T00:00:00.000Z</td><td>Point</td><td>-0.3699316, 51.7998390</td></tr>\n",
       "\t<tr><td>aHR0cDovL2RhdGEuYWdyaW1ldHJpY3MuY28udWsvZ3JpZC01a20tYm5nL0g2Tk9kTHBySVNmZHpOR20=</td><td>13.3</td><td>http://data.agrimetrics.co.uk/units/celsius</td><td>2018-05-01T00:00:00.000Z</td><td>Point</td><td>-0.3699316, 51.7998390</td></tr>\n",
       "\t<tr><td>aHR0cDovL2RhdGEuYWdyaW1ldHJpY3MuY28udWsvZ3JpZC01a20tYm5nL0g2Tk9kTHBySVNmZHpOR20=</td><td>16.3</td><td>http://data.agrimetrics.co.uk/units/celsius</td><td>2018-06-01T00:00:00.000Z</td><td>Point</td><td>-0.3699316, 51.7998390</td></tr>\n",
       "</tbody>\n",
       "</table>\n"
      ],
      "text/latex": [
       "A tibble: 6 x 6\n",
       "\\begin{tabular}{llllll}\n",
       " cursor & value & unit & dateTime & location.centroid.type & location.centroid.coordinates\\\\\n",
       " <chr> & <dbl> & <chr> & <chr> & <chr> & <list>\\\\\n",
       "\\hline\n",
       "\t aHR0cDovL2RhdGEuYWdyaW1ldHJpY3MuY28udWsvZ3JpZC01a20tYm5nL0g2Tk9kTHBySVNmZHpOR20= &  5.2 & http://data.agrimetrics.co.uk/units/celsius & 2018-01-01T00:00:00.000Z & Point & -0.3699316, 51.7998390\\\\\n",
       "\t aHR0cDovL2RhdGEuYWdyaW1ldHJpY3MuY28udWsvZ3JpZC01a20tYm5nL0g2Tk9kTHBySVNmZHpOR20= &  2.4 & http://data.agrimetrics.co.uk/units/celsius & 2018-02-01T00:00:00.000Z & Point & -0.3699316, 51.7998390\\\\\n",
       "\t aHR0cDovL2RhdGEuYWdyaW1ldHJpY3MuY28udWsvZ3JpZC01a20tYm5nL0g2Tk9kTHBySVNmZHpOR20= &  5.0 & http://data.agrimetrics.co.uk/units/celsius & 2018-03-01T00:00:00.000Z & Point & -0.3699316, 51.7998390\\\\\n",
       "\t aHR0cDovL2RhdGEuYWdyaW1ldHJpY3MuY28udWsvZ3JpZC01a20tYm5nL0g2Tk9kTHBySVNmZHpOR20= & 10.3 & http://data.agrimetrics.co.uk/units/celsius & 2018-04-01T00:00:00.000Z & Point & -0.3699316, 51.7998390\\\\\n",
       "\t aHR0cDovL2RhdGEuYWdyaW1ldHJpY3MuY28udWsvZ3JpZC01a20tYm5nL0g2Tk9kTHBySVNmZHpOR20= & 13.3 & http://data.agrimetrics.co.uk/units/celsius & 2018-05-01T00:00:00.000Z & Point & -0.3699316, 51.7998390\\\\\n",
       "\t aHR0cDovL2RhdGEuYWdyaW1ldHJpY3MuY28udWsvZ3JpZC01a20tYm5nL0g2Tk9kTHBySVNmZHpOR20= & 16.3 & http://data.agrimetrics.co.uk/units/celsius & 2018-06-01T00:00:00.000Z & Point & -0.3699316, 51.7998390\\\\\n",
       "\\end{tabular}\n"
      ],
      "text/markdown": [
       "\n",
       "A tibble: 6 x 6\n",
       "\n",
       "| cursor &lt;chr&gt; | value &lt;dbl&gt; | unit &lt;chr&gt; | dateTime &lt;chr&gt; | location.centroid.type &lt;chr&gt; | location.centroid.coordinates &lt;list&gt; |\n",
       "|---|---|---|---|---|---|\n",
       "| aHR0cDovL2RhdGEuYWdyaW1ldHJpY3MuY28udWsvZ3JpZC01a20tYm5nL0g2Tk9kTHBySVNmZHpOR20= |  5.2 | http://data.agrimetrics.co.uk/units/celsius | 2018-01-01T00:00:00.000Z | Point | -0.3699316, 51.7998390 |\n",
       "| aHR0cDovL2RhdGEuYWdyaW1ldHJpY3MuY28udWsvZ3JpZC01a20tYm5nL0g2Tk9kTHBySVNmZHpOR20= |  2.4 | http://data.agrimetrics.co.uk/units/celsius | 2018-02-01T00:00:00.000Z | Point | -0.3699316, 51.7998390 |\n",
       "| aHR0cDovL2RhdGEuYWdyaW1ldHJpY3MuY28udWsvZ3JpZC01a20tYm5nL0g2Tk9kTHBySVNmZHpOR20= |  5.0 | http://data.agrimetrics.co.uk/units/celsius | 2018-03-01T00:00:00.000Z | Point | -0.3699316, 51.7998390 |\n",
       "| aHR0cDovL2RhdGEuYWdyaW1ldHJpY3MuY28udWsvZ3JpZC01a20tYm5nL0g2Tk9kTHBySVNmZHpOR20= | 10.3 | http://data.agrimetrics.co.uk/units/celsius | 2018-04-01T00:00:00.000Z | Point | -0.3699316, 51.7998390 |\n",
       "| aHR0cDovL2RhdGEuYWdyaW1ldHJpY3MuY28udWsvZ3JpZC01a20tYm5nL0g2Tk9kTHBySVNmZHpOR20= | 13.3 | http://data.agrimetrics.co.uk/units/celsius | 2018-05-01T00:00:00.000Z | Point | -0.3699316, 51.7998390 |\n",
       "| aHR0cDovL2RhdGEuYWdyaW1ldHJpY3MuY28udWsvZ3JpZC01a20tYm5nL0g2Tk9kTHBySVNmZHpOR20= | 16.3 | http://data.agrimetrics.co.uk/units/celsius | 2018-06-01T00:00:00.000Z | Point | -0.3699316, 51.7998390 |\n",
       "\n"
      ],
      "text/plain": [
       "  cursor                                                                          \n",
       "1 aHR0cDovL2RhdGEuYWdyaW1ldHJpY3MuY28udWsvZ3JpZC01a20tYm5nL0g2Tk9kTHBySVNmZHpOR20=\n",
       "2 aHR0cDovL2RhdGEuYWdyaW1ldHJpY3MuY28udWsvZ3JpZC01a20tYm5nL0g2Tk9kTHBySVNmZHpOR20=\n",
       "3 aHR0cDovL2RhdGEuYWdyaW1ldHJpY3MuY28udWsvZ3JpZC01a20tYm5nL0g2Tk9kTHBySVNmZHpOR20=\n",
       "4 aHR0cDovL2RhdGEuYWdyaW1ldHJpY3MuY28udWsvZ3JpZC01a20tYm5nL0g2Tk9kTHBySVNmZHpOR20=\n",
       "5 aHR0cDovL2RhdGEuYWdyaW1ldHJpY3MuY28udWsvZ3JpZC01a20tYm5nL0g2Tk9kTHBySVNmZHpOR20=\n",
       "6 aHR0cDovL2RhdGEuYWdyaW1ldHJpY3MuY28udWsvZ3JpZC01a20tYm5nL0g2Tk9kTHBySVNmZHpOR20=\n",
       "  value unit                                        dateTime                \n",
       "1  5.2  http://data.agrimetrics.co.uk/units/celsius 2018-01-01T00:00:00.000Z\n",
       "2  2.4  http://data.agrimetrics.co.uk/units/celsius 2018-02-01T00:00:00.000Z\n",
       "3  5.0  http://data.agrimetrics.co.uk/units/celsius 2018-03-01T00:00:00.000Z\n",
       "4 10.3  http://data.agrimetrics.co.uk/units/celsius 2018-04-01T00:00:00.000Z\n",
       "5 13.3  http://data.agrimetrics.co.uk/units/celsius 2018-05-01T00:00:00.000Z\n",
       "6 16.3  http://data.agrimetrics.co.uk/units/celsius 2018-06-01T00:00:00.000Z\n",
       "  location.centroid.type location.centroid.coordinates\n",
       "1 Point                  -0.3699316, 51.7998390       \n",
       "2 Point                  -0.3699316, 51.7998390       \n",
       "3 Point                  -0.3699316, 51.7998390       \n",
       "4 Point                  -0.3699316, 51.7998390       \n",
       "5 Point                  -0.3699316, 51.7998390       \n",
       "6 Point                  -0.3699316, 51.7998390       "
      ]
     },
     "metadata": {},
     "output_type": "display_data"
    }
   ],
   "source": [
    "# because we are accessing a time series, we have a very nested dataset\n",
    "# so we will deal with the meanTemp geospatial layer exclusively \n",
    "\n",
    "# converting (meanTemp) json to dataframe\n",
    "meanTemp_data <- as.data.frame(get_data_json$data$geospatialMeasures$temperatureMeanMonthly)\n",
    "\n",
    "# to get weather observations we need to unnest the \"datapoints\" column\n",
    "unnested_meanTemp_data <- meanTemp_data %>% bind_rows(meanTemp_data) %>%    \n",
    "  mutate_if(is.list, simplify_all) %>%    \n",
    "  unnest(cols = c(datapoints))\n",
    "head(unnested_meanTemp_data)\n"
   ]
  },
  {
   "cell_type": "markdown",
   "metadata": {},
   "source": [
    "### Converting our geospatialMeasure (meanTemp) into a geospatial object\n",
    "\n",
    "Below, we focus on converting our meanTemp time series data frame (above) into a ***SpatialPointsDataFrames***. The ***SpatialPointsDataFrame*** will then be converted into a ***shapefile*** that can be used across a variety of GIS tools. "
   ]
  },
  {
   "cell_type": "code",
   "execution_count": null,
   "metadata": {},
   "outputs": [],
   "source": [
    "# r has a problem with unseparated coordinates so fixing it here\n",
    "unnested_meanTemp_data_wide <- unnested_meanTemp_data %>%\n",
    "  mutate(point_lat = unlist(map(unnested_meanTemp_data$location.centroid.coordinates,2)),\n",
    "         point_long = unlist(map(unnested_meanTemp_data$location.centroid.coordinates,1)))\n",
    "\n",
    "# dropping coordinates column as it will cause confusion downstream\n",
    "unnested_meanTemp_data_wide$location.centroid.coordinates <- NULL\n",
    "\n",
    "\n",
    "# EPSG string\n",
    "latlong = \"+init=epsg:4326\"\n",
    "\n",
    "# make the SpatialPointsDataFrame object\n",
    "meanTemp_spdf <- sp::SpatialPointsDataFrame(coords=unnested_meanTemp_data_wide[, c(\"point_long\", \"point_lat\")],\n",
    "                                          data = unnested_meanTemp_data_wide, \n",
    "                                          proj4string=CRS(as.character(latlong)))\n",
    "\n",
    "# ESRI Shapefiles limited to 10 characters \n",
    "# using spdf data slot\n",
    "colnames(meanTemp_spdf@data)[5] = \"type\"\n",
    "\n",
    "# convert spdf to ESRI shapefile\n",
    "rgdal::writeOGR(obj=meanTemp_spdf, dsn=\"tempdir\", layer=\"meanTemp2018\", driver=\"ESRI Shapefile\") "
   ]
  },
  {
   "cell_type": "markdown",
   "metadata": {},
   "source": [
    "### Results\n",
    " \n",
    "We can visualise our results by plotting them, using any GIS tool. Below, we display our meanTemp.shp file in QGIS using a standard basemap. Notice that in this example we receive only one point within our Rothamsted Research campus. This is because the data come from a grid at 5km resolution, therefore only a single centroid falls within our study area."
   ]
  },
  {
   "cell_type": "markdown",
   "metadata": {},
   "source": [
    "![rothamsted_meantemp_demo.png](./rothamsted_meantemp_demo.png)"
   ]
  },
  {
   "cell_type": "code",
   "execution_count": null,
   "metadata": {},
   "outputs": [
    {
     "data": {
      "image/png": "[encoded data removed]",
      "text/plain": [
       "plot without title"
      ]
     },
     "metadata": {
      "image/png": {
       "height": 420,
       "width": 420
      }
     },
     "output_type": "display_data"
    }
   ],
   "source": [
    "# plot the mean temperature data observed for the area using ggplot\n",
    "plot <- ggplot(data = meanTemp_spdf@data, aes(x = dateTime, y = value)) +\n",
    "  geom_point() +\n",
    "  labs(x = \"Date\",\n",
    "    y = \"Mean Temperature (Celsius)\",\n",
    "    title = \"Historical Mean Temperature Data\",\n",
    "    subtitle = \"Rothamsted Research\") +\n",
    "    theme(text = element_text(size=15), axis.text.x = element_text(angle = 90))  \n",
    "\n",
    "print(plot)\n"
   ]
  },
  {
   "cell_type": "markdown",
   "metadata": {},
   "source": [
    "### Conclusion\n",
    " \n",
    "In this example, we have successfully retrieved geospatial data, with a time series, from our GraphQL query. We have then exported these time series data points into a single shapefile that can be used across a variety of GIS platforms and geospatial tools. "
   ]
  }
 ],
 "metadata": {
  "celltoolbar": "Raw Cell Format",
  "kernelspec": {
   "display_name": "R",
   "language": "R",
   "name": "ir"
  },
  "language_info": {
   "codemirror_mode": "r",
   "file_extension": ".r",
   "mimetype": "text/x-r-source",
   "name": "R",
   "pygments_lexer": "r",
   "version": "3.6.3"
  }
 },
 "nbformat": 4,
 "nbformat_minor": 4
}
