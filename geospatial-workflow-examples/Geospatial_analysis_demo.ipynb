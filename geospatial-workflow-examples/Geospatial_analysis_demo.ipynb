{
 "cells": [
  {
   "cell_type": "markdown",
   "metadata": {},
   "source": [
    "# Spatial interpolation of point data using Inverse Distance Weighting (IDW)\n",
    "##### Author: Kathryn Berger, August 2020"
   ]
  },
  {
   "cell_type": "markdown",
   "metadata": {},
   "source": [
    "### Description\n",
    "\n",
    "We are interested in performing a basic spatial analysis on our soil pH data points within our area of interest, the Rothamsted Research campus. In this example, we will use the Inverse Distance Weighting (IDW) method to convert our data points into a continuous raster layer."
   ]
  },
  {
   "cell_type": "markdown",
   "metadata": {},
   "source": [
    "### Importing requirements"
   ]
  },
  {
   "cell_type": "code",
   "execution_count": null,
   "metadata": {},
   "outputs": [],
   "source": [
    "\n",
    "options(\"Ncpus\" = parallel::detectCores())\n",
    "\n",
    "packages <- c(\"gstat\", \"httr\", \"jsonlite\", \"lubridate\", \"raster\", \"rgdal\", \"sp\",\"tidyverse\")\n",
    "if (length(setdiff(packages, rownames(installed.packages()))) > 0) {\n",
    "  install.packages(setdiff(packages, rownames(installed.packages())), Ncpus=getOption(\"Ncpus\", 1L), INSTALL_opts = '--no-lock', clean = TRUE)  \n",
    "}\n",
    "\n",
    "library(gstat)\n",
    "library(httr)\n",
    "library(jsonlite)\n",
    "library(lubridate)\n",
    "library(raster)\n",
    "library(rgdal)     \n",
    "library(sp)\n",
    "library(tidyverse)"
   ]
  },
  {
   "cell_type": "markdown",
   "metadata": {},
   "source": [
    "### Accessing the data from your geospatial GraphQL query\n",
    "\n",
    "First, we will require a successful GraphQL query __[here](https://app.agrimetrics.co.uk/graph-explorer\n",
    ")__ that includes the following: \n",
    "* A bounding box for the area of interest to be used as our ***geoFilter***\n",
    "* For our geospatial query to work, we must have selected ***location*** options in our GraphQL query\n",
    "* In this case, we have selected to retrieve the ***centroid*** values for each of the geospatialMeasure grid values as observed in the payload shown below\n",
    "* An ***api-key*** of our own\n",
    "* Depending on your subscription (trial vs. paid) amount of data available in this demo may vary. "
   ]
  },
  {
   "cell_type": "code",
   "execution_count": 2,
   "metadata": {},
   "outputs": [
    {
     "name": "stdout",
     "output_type": "stream",
     "text": [
      "List of 1\n",
      " $ data:List of 1\n",
      "  ..$ geospatialMeasures:List of 2\n",
      "  .. ..$ soilPH                           :List of 8\n",
      "  .. ..$ soilTotalAbundanceOfInvertebrates:List of 8\n"
     ]
    }
   ],
   "source": [
    "options(stringsAsFactors = FALSE)\n",
    "\n",
    "url = \"https://api.agrimetrics.co.uk/graphql\"\n",
    "API_KEY <- Sys.getenv(\"API_KEY\", \"API_KEY\")\n",
    "\n",
    "# our query searches for soilPH and invertebrate count for area within defined polygon geospatial filter\n",
    "# below we copy the payload from our GraphQL query using the Rothamsted bounding box for our geoFilter\n",
    "# note the use added quotations used around the copied GraphQL query for reading into R\n",
    " \n",
    "payload = '{\"query\":\"query getFieldIdsNearLocation { geospatialMeasures(geoFilter: {location: {type: Polygon, coordinates: [[[-0.401073,51.80076],[-0.356222,51.80076],[-0.356222,51.819771],[-0.401073,51.819771],[-0.401073,51.80076]]]}}) { soilPH { unit value location { centroid } } soilTotalAbundanceOfInvertebrates { unit value location { centroid } } } } \"}'\n",
    "\n",
    "# you will need a subscription key first\n",
    "# replace \"api-key\" with your own\n",
    "r<-POST(url, body = payload, add_headers(.headers = c('Accept'=\"application/json\",'Ocp-Apim-Subscription-Key'= API_KEY,'Content-Type'=\"application/json\",'Accept-Encoding'=\"gzip, deflate, br\")))\n",
    "\n",
    "# reviewing the contents of the above query \n",
    "# if it has worked correctly you should see our two requested geospatialMeasures (soil PH and invertebrate abundance) below\n",
    "str(httr::content(r, as = \"parsed\", type = \"application/json\"), max.level = 3)\n"
   ]
  },
  {
   "cell_type": "markdown",
   "metadata": {},
   "source": [
    "### Converting our query output into a data frame "
   ]
  },
  {
   "cell_type": "code",
   "execution_count": 3,
   "metadata": {},
   "outputs": [
    {
     "data": {
      "text/html": [
       "<table>\n",
       "<caption>A data.frame: 6 × 8</caption>\n",
       "<thead>\n",
       "\t<tr><th></th><th scope=col>data.geospatialMeasures.soilPH.unit</th><th scope=col>data.geospatialMeasures.soilPH.value</th><th scope=col>data.geospatialMeasures.soilPH.location.centroid.type</th><th scope=col>data.geospatialMeasures.soilPH.location.centroid.coordinates</th><th scope=col>data.geospatialMeasures.soilTotalAbundanceOfInvertebrates.unit</th><th scope=col>data.geospatialMeasures.soilTotalAbundanceOfInvertebrates.value</th><th scope=col>data.geospatialMeasures.soilTotalAbundanceOfInvertebrates.location.centroid.type</th><th scope=col>data.geospatialMeasures.soilTotalAbundanceOfInvertebrates.location.centroid.coordinates</th></tr>\n",
       "\t<tr><th></th><th scope=col>&lt;chr&gt;</th><th scope=col>&lt;dbl&gt;</th><th scope=col>&lt;chr&gt;</th><th scope=col>&lt;list&gt;</th><th scope=col>&lt;chr&gt;</th><th scope=col>&lt;dbl&gt;</th><th scope=col>&lt;chr&gt;</th><th scope=col>&lt;list&gt;</th></tr>\n",
       "</thead>\n",
       "<tbody>\n",
       "\t<tr><th scope=row>1</th><td>http://data.agrimetrics.co.uk/units/ph</td><td>6.068252</td><td>Point</td><td>-0.3986048, 51.8092248</td><td>http://data.agrimetrics.co.uk/units/count</td><td>56.20854</td><td>Point</td><td>-0.3986048, 51.8092248</td></tr>\n",
       "\t<tr><th scope=row>2</th><td>http://data.agrimetrics.co.uk/units/ph</td><td>7.046670</td><td>Point</td><td>-0.3844273, 51.8000391</td><td>http://data.agrimetrics.co.uk/units/count</td><td>30.71813</td><td>Point</td><td>-0.3844273, 51.8000391</td></tr>\n",
       "\t<tr><th scope=row>3</th><td>http://data.agrimetrics.co.uk/units/ph</td><td>7.046670</td><td>Point</td><td>-0.384106, 51.809026</td><td>http://data.agrimetrics.co.uk/units/count</td><td>30.71813</td><td>Point</td><td>-0.384106, 51.809026</td></tr>\n",
       "\t<tr><th scope=row>4</th><td>http://data.agrimetrics.co.uk/units/ph</td><td>7.231666</td><td>Point</td><td>-0.3699316, 51.7998390</td><td>http://data.agrimetrics.co.uk/units/count</td><td>48.82695</td><td>Point</td><td>-0.3699316, 51.7998390</td></tr>\n",
       "\t<tr><th scope=row>5</th><td>http://data.agrimetrics.co.uk/units/ph</td><td>8.210084</td><td>Point</td><td>-0.3696074, 51.8088264</td><td>http://data.agrimetrics.co.uk/units/count</td><td>23.33654</td><td>Point</td><td>-0.3696074, 51.8088264</td></tr>\n",
       "\t<tr><th scope=row>6</th><td>http://data.agrimetrics.co.uk/units/ph</td><td>6.044802</td><td>Point</td><td>-0.355109, 51.808624</td><td>http://data.agrimetrics.co.uk/units/count</td><td>36.80287</td><td>Point</td><td>-0.355109, 51.808624</td></tr>\n",
       "</tbody>\n",
       "</table>\n"
      ],
      "text/latex": [
       "A data.frame: 6 × 8\n",
       "\\begin{tabular}{r|llllllll}\n",
       "  & data.geospatialMeasures.soilPH.unit & data.geospatialMeasures.soilPH.value & data.geospatialMeasures.soilPH.location.centroid.type & data.geospatialMeasures.soilPH.location.centroid.coordinates & data.geospatialMeasures.soilTotalAbundanceOfInvertebrates.unit & data.geospatialMeasures.soilTotalAbundanceOfInvertebrates.value & data.geospatialMeasures.soilTotalAbundanceOfInvertebrates.location.centroid.type & data.geospatialMeasures.soilTotalAbundanceOfInvertebrates.location.centroid.coordinates\\\\\n",
       "  & <chr> & <dbl> & <chr> & <list> & <chr> & <dbl> & <chr> & <list>\\\\\n",
       "\\hline\n",
       "\t1 & http://data.agrimetrics.co.uk/units/ph & 6.068252 & Point & -0.3986048, 51.8092248 & http://data.agrimetrics.co.uk/units/count & 56.20854 & Point & -0.3986048, 51.8092248\\\\\n",
       "\t2 & http://data.agrimetrics.co.uk/units/ph & 7.046670 & Point & -0.3844273, 51.8000391 & http://data.agrimetrics.co.uk/units/count & 30.71813 & Point & -0.3844273, 51.8000391\\\\\n",
       "\t3 & http://data.agrimetrics.co.uk/units/ph & 7.046670 & Point & -0.384106, 51.809026 & http://data.agrimetrics.co.uk/units/count & 30.71813 & Point & -0.384106, 51.809026\\\\\n",
       "\t4 & http://data.agrimetrics.co.uk/units/ph & 7.231666 & Point & -0.3699316, 51.7998390 & http://data.agrimetrics.co.uk/units/count & 48.82695 & Point & -0.3699316, 51.7998390\\\\\n",
       "\t5 & http://data.agrimetrics.co.uk/units/ph & 8.210084 & Point & -0.3696074, 51.8088264 & http://data.agrimetrics.co.uk/units/count & 23.33654 & Point & -0.3696074, 51.8088264\\\\\n",
       "\t6 & http://data.agrimetrics.co.uk/units/ph & 6.044802 & Point & -0.355109, 51.808624 & http://data.agrimetrics.co.uk/units/count & 36.80287 & Point & -0.355109, 51.808624\\\\\n",
       "\\end{tabular}\n"
      ],
      "text/markdown": [
       "\n",
       "A data.frame: 6 × 8\n",
       "\n",
       "| <!--/--> | data.geospatialMeasures.soilPH.unit &lt;chr&gt; | data.geospatialMeasures.soilPH.value &lt;dbl&gt; | data.geospatialMeasures.soilPH.location.centroid.type &lt;chr&gt; | data.geospatialMeasures.soilPH.location.centroid.coordinates &lt;list&gt; | data.geospatialMeasures.soilTotalAbundanceOfInvertebrates.unit &lt;chr&gt; | data.geospatialMeasures.soilTotalAbundanceOfInvertebrates.value &lt;dbl&gt; | data.geospatialMeasures.soilTotalAbundanceOfInvertebrates.location.centroid.type &lt;chr&gt; | data.geospatialMeasures.soilTotalAbundanceOfInvertebrates.location.centroid.coordinates &lt;list&gt; |\n",
       "|---|---|---|---|---|---|---|---|---|\n",
       "| 1 | http://data.agrimetrics.co.uk/units/ph | 6.068252 | Point | -0.3986048, 51.8092248 | http://data.agrimetrics.co.uk/units/count | 56.20854 | Point | -0.3986048, 51.8092248 |\n",
       "| 2 | http://data.agrimetrics.co.uk/units/ph | 7.046670 | Point | -0.3844273, 51.8000391 | http://data.agrimetrics.co.uk/units/count | 30.71813 | Point | -0.3844273, 51.8000391 |\n",
       "| 3 | http://data.agrimetrics.co.uk/units/ph | 7.046670 | Point | -0.384106, 51.809026 | http://data.agrimetrics.co.uk/units/count | 30.71813 | Point | -0.384106, 51.809026 |\n",
       "| 4 | http://data.agrimetrics.co.uk/units/ph | 7.231666 | Point | -0.3699316, 51.7998390 | http://data.agrimetrics.co.uk/units/count | 48.82695 | Point | -0.3699316, 51.7998390 |\n",
       "| 5 | http://data.agrimetrics.co.uk/units/ph | 8.210084 | Point | -0.3696074, 51.8088264 | http://data.agrimetrics.co.uk/units/count | 23.33654 | Point | -0.3696074, 51.8088264 |\n",
       "| 6 | http://data.agrimetrics.co.uk/units/ph | 6.044802 | Point | -0.355109, 51.808624 | http://data.agrimetrics.co.uk/units/count | 36.80287 | Point | -0.355109, 51.808624 |\n",
       "\n"
      ],
      "text/plain": [
       "  data.geospatialMeasures.soilPH.unit    data.geospatialMeasures.soilPH.value\n",
       "1 http://data.agrimetrics.co.uk/units/ph 6.068252                            \n",
       "2 http://data.agrimetrics.co.uk/units/ph 7.046670                            \n",
       "3 http://data.agrimetrics.co.uk/units/ph 7.046670                            \n",
       "4 http://data.agrimetrics.co.uk/units/ph 7.231666                            \n",
       "5 http://data.agrimetrics.co.uk/units/ph 8.210084                            \n",
       "6 http://data.agrimetrics.co.uk/units/ph 6.044802                            \n",
       "  data.geospatialMeasures.soilPH.location.centroid.type\n",
       "1 Point                                                \n",
       "2 Point                                                \n",
       "3 Point                                                \n",
       "4 Point                                                \n",
       "5 Point                                                \n",
       "6 Point                                                \n",
       "  data.geospatialMeasures.soilPH.location.centroid.coordinates\n",
       "1 -0.3986048, 51.8092248                                      \n",
       "2 -0.3844273, 51.8000391                                      \n",
       "3 -0.384106, 51.809026                                        \n",
       "4 -0.3699316, 51.7998390                                      \n",
       "5 -0.3696074, 51.8088264                                      \n",
       "6 -0.355109, 51.808624                                        \n",
       "  data.geospatialMeasures.soilTotalAbundanceOfInvertebrates.unit\n",
       "1 http://data.agrimetrics.co.uk/units/count                     \n",
       "2 http://data.agrimetrics.co.uk/units/count                     \n",
       "3 http://data.agrimetrics.co.uk/units/count                     \n",
       "4 http://data.agrimetrics.co.uk/units/count                     \n",
       "5 http://data.agrimetrics.co.uk/units/count                     \n",
       "6 http://data.agrimetrics.co.uk/units/count                     \n",
       "  data.geospatialMeasures.soilTotalAbundanceOfInvertebrates.value\n",
       "1 56.20854                                                       \n",
       "2 30.71813                                                       \n",
       "3 30.71813                                                       \n",
       "4 48.82695                                                       \n",
       "5 23.33654                                                       \n",
       "6 36.80287                                                       \n",
       "  data.geospatialMeasures.soilTotalAbundanceOfInvertebrates.location.centroid.type\n",
       "1 Point                                                                           \n",
       "2 Point                                                                           \n",
       "3 Point                                                                           \n",
       "4 Point                                                                           \n",
       "5 Point                                                                           \n",
       "6 Point                                                                           \n",
       "  data.geospatialMeasures.soilTotalAbundanceOfInvertebrates.location.centroid.coordinates\n",
       "1 -0.3986048, 51.8092248                                                                 \n",
       "2 -0.3844273, 51.8000391                                                                 \n",
       "3 -0.384106, 51.809026                                                                   \n",
       "4 -0.3699316, 51.7998390                                                                 \n",
       "5 -0.3696074, 51.8088264                                                                 \n",
       "6 -0.355109, 51.808624                                                                   "
      ]
     },
     "metadata": {},
     "output_type": "display_data"
    }
   ],
   "source": [
    "# output of request into flattened json\n",
    "get_data_text <- content(r, \"text\")\n",
    "get_data_json <- jsonlite::fromJSON(get_data_text, flatten = TRUE)\n",
    "\n",
    "# converting json to data frame\n",
    "get_data_df <- as.data.frame(get_data_json)\n",
    "\n",
    "# to examine a sample of our data frame  \n",
    "head(get_data_df)\n"
   ]
  },
  {
   "cell_type": "markdown",
   "metadata": {},
   "source": [
    "### Converting our geospatialMeasure (soil pH) into a spatial points data frame\n",
    "\n",
    "Our data frame consists of two geospatialMeasures (soil pH and soil invertebrate abundance), each of which may have their own different spatial resolutions (and corresponding coordinates). Therefore, we must treat each geospatialMeasure separately. This means we will deal with each data frame one at a time.  \n",
    "\n",
    "In this example, we will focus on the soil pH data set only. Here we convert the data set into a ***SpatialPointsDataFrames***. We will use this output to produce our interpolated data layer.  "
   ]
  },
  {
   "cell_type": "code",
   "execution_count": 4,
   "metadata": {},
   "outputs": [],
   "source": [
    "# we must extract the soil PH data from our dataframe, to do so we need to know which columns correspond \n",
    "# Using the section above to examine our headers, we subset the first four columns to focus on soil PH\n",
    "soilph_data <-get_data_df[, 1:4]\n",
    "\n",
    "# r has a problem with unseparated coordinates, so we fix it here, by separating them \n",
    "soilph_data <- soilph_data %>%\n",
    "  mutate(point_lat = unlist(map(soilph_data$data.geospatialMeasures.soilPH.location.centroid.coordinates,2)),\n",
    "         point_long = unlist(map(soilph_data$data.geospatialMeasures.soilPH.location.centroid.coordinates,1)))\n",
    "\n",
    "# dropping coordinates column as it will cause confusion downstream\n",
    "soilph_data$data.geospatialMeasures.soilPH.location.centroid.coordinates <- NULL\n",
    "\n",
    "# we assign an EPSG string for coordinates system latitude and longitude\n",
    "latlong = \"+init=epsg:4326\"\n",
    "\n",
    "\n",
    "# making a SpatialPointsDataFrame (spdf) object\n",
    "soilph_spdf <- sp::SpatialPointsDataFrame(coords=soilph_data[, c(\"point_long\", \"point_lat\")],\n",
    "                                      data = soilph_data, \n",
    "                                      proj4string=CRS(as.character(latlong)))\n",
    "\n",
    "# To produce a .shp file that can be used across a number of GIS platforms we convert the spdf object to a .shp file\n",
    "# but ESRI shapefiles limit headers to 10 characters, so we must rename them here using our knowledge of the column headers\n",
    "# using spdf 'data' slot we rename the column headers where required\n",
    "colnames(soilph_spdf@data)[2] = \"value\"\n",
    "colnames(soilph_spdf@data)[1] = \"unit\"\n",
    "colnames(soilph_spdf@data)[3] = \"type\""
   ]
  },
  {
   "cell_type": "markdown",
   "metadata": {},
   "source": [
    "### Plotting our soil pH spatial points data frame\n",
    "\n",
    "By plotting our soil pH data points, we are able to understand the distribution of the data we have available. Using the **extent function**, we can determine the bounding box for our interpolated raster layer. "
   ]
  },
  {
   "cell_type": "code",
   "execution_count": 5,
   "metadata": {},
   "outputs": [
    {
     "data": {
      "text/plain": [
       "class      : Extent \n",
       "xmin       : -0.3986048 \n",
       "xmax       : -0.355109 \n",
       "ymin       : 51.79984 \n",
       "ymax       : 51.81821 "
      ]
     },
     "metadata": {},
     "output_type": "display_data"
    },
    {
     "data": {
      "image/png": "[encoded data removed]",
      "text/plain": [
       "Plot with title \"Rothamsted Research - Soil pH\""
      ]
     },
     "metadata": {
      "image/png": {
       "height": 420,
       "width": 420
      }
     },
     "output_type": "display_data"
    }
   ],
   "source": [
    "plot(soilph_spdf,\n",
    "     main = \"Rothamsted Research - Soil pH\")\n",
    "\n",
    "extent(soilph_spdf)"
   ]
  },
  {
   "cell_type": "markdown",
   "metadata": {},
   "source": [
    "### Spatial Interpolation\n",
    "\n",
    "In the step below, we will set up an **empty grid** using the bounding box we identified above to develop a reasonable area to perform our interpolation. \n",
    "\n",
    "Next, We will then plot our soil pH values over the empty grid. \n",
    "\n",
    "And finally, we will use the **Inverse Distance Weighting (IDW) method** to populate the empty grid with our new interpolated values. This final step will produce our soil pH raster layer.\n"
   ]
  },
  {
   "cell_type": "code",
   "execution_count": 6,
   "metadata": {},
   "outputs": [],
   "source": [
    "# creating an empty grid upon which to perform \n",
    "# Inverse Distance Interpolation (IDW)\n",
    "# using a logical bounding box for area\n",
    "\n",
    "x_range <- as.numeric(c(-0.40, -0.35 ))  # min/max longitude of the interpolation area\n",
    "y_range <- as.numeric(c(51.79, 51.82))  # min/max latitude of the interpolation area\n",
    "\n",
    "# create an empty grid of values ranging from the xmin-xmax, ymin-ymax\n",
    "# we use a 0.01 degree spatial resolution to build a grid that is approximately 1 km\n",
    "grd <- expand.grid(x = seq(from = x_range[1],\n",
    "                   to = x_range[2], \n",
    "                   by = 0.01),\n",
    "                   y = seq(from = y_range[1], to = y_range[2], \n",
    "                       by = 0.01))  # expand points to grid\n"
   ]
  },
  {
   "cell_type": "code",
   "execution_count": 7,
   "metadata": {},
   "outputs": [
    {
     "data": {
      "text/html": [
       "<table>\n",
       "<caption>A data.frame: 6 × 5</caption>\n",
       "<thead>\n",
       "\t<tr><th></th><th scope=col>unit</th><th scope=col>value</th><th scope=col>type</th><th scope=col>point_lat</th><th scope=col>point_long</th></tr>\n",
       "\t<tr><th></th><th scope=col>&lt;chr&gt;</th><th scope=col>&lt;dbl&gt;</th><th scope=col>&lt;chr&gt;</th><th scope=col>&lt;dbl&gt;</th><th scope=col>&lt;dbl&gt;</th></tr>\n",
       "</thead>\n",
       "<tbody>\n",
       "\t<tr><th scope=row>1</th><td>http://data.agrimetrics.co.uk/units/ph</td><td>6.068252</td><td>Point</td><td>51.80922</td><td>-0.3986048</td></tr>\n",
       "\t<tr><th scope=row>2</th><td>http://data.agrimetrics.co.uk/units/ph</td><td>7.046670</td><td>Point</td><td>51.80004</td><td>-0.3844273</td></tr>\n",
       "\t<tr><th scope=row>3</th><td>http://data.agrimetrics.co.uk/units/ph</td><td>7.046670</td><td>Point</td><td>51.80903</td><td>-0.3841060</td></tr>\n",
       "\t<tr><th scope=row>4</th><td>http://data.agrimetrics.co.uk/units/ph</td><td>7.231666</td><td>Point</td><td>51.79984</td><td>-0.3699316</td></tr>\n",
       "\t<tr><th scope=row>5</th><td>http://data.agrimetrics.co.uk/units/ph</td><td>8.210084</td><td>Point</td><td>51.80883</td><td>-0.3696074</td></tr>\n",
       "\t<tr><th scope=row>6</th><td>http://data.agrimetrics.co.uk/units/ph</td><td>6.044802</td><td>Point</td><td>51.80862</td><td>-0.3551090</td></tr>\n",
       "</tbody>\n",
       "</table>\n"
      ],
      "text/latex": [
       "A data.frame: 6 × 5\n",
       "\\begin{tabular}{r|lllll}\n",
       "  & unit & value & type & point\\_lat & point\\_long\\\\\n",
       "  & <chr> & <dbl> & <chr> & <dbl> & <dbl>\\\\\n",
       "\\hline\n",
       "\t1 & http://data.agrimetrics.co.uk/units/ph & 6.068252 & Point & 51.80922 & -0.3986048\\\\\n",
       "\t2 & http://data.agrimetrics.co.uk/units/ph & 7.046670 & Point & 51.80004 & -0.3844273\\\\\n",
       "\t3 & http://data.agrimetrics.co.uk/units/ph & 7.046670 & Point & 51.80903 & -0.3841060\\\\\n",
       "\t4 & http://data.agrimetrics.co.uk/units/ph & 7.231666 & Point & 51.79984 & -0.3699316\\\\\n",
       "\t5 & http://data.agrimetrics.co.uk/units/ph & 8.210084 & Point & 51.80883 & -0.3696074\\\\\n",
       "\t6 & http://data.agrimetrics.co.uk/units/ph & 6.044802 & Point & 51.80862 & -0.3551090\\\\\n",
       "\\end{tabular}\n"
      ],
      "text/markdown": [
       "\n",
       "A data.frame: 6 × 5\n",
       "\n",
       "| <!--/--> | unit &lt;chr&gt; | value &lt;dbl&gt; | type &lt;chr&gt; | point_lat &lt;dbl&gt; | point_long &lt;dbl&gt; |\n",
       "|---|---|---|---|---|---|\n",
       "| 1 | http://data.agrimetrics.co.uk/units/ph | 6.068252 | Point | 51.80922 | -0.3986048 |\n",
       "| 2 | http://data.agrimetrics.co.uk/units/ph | 7.046670 | Point | 51.80004 | -0.3844273 |\n",
       "| 3 | http://data.agrimetrics.co.uk/units/ph | 7.046670 | Point | 51.80903 | -0.3841060 |\n",
       "| 4 | http://data.agrimetrics.co.uk/units/ph | 7.231666 | Point | 51.79984 | -0.3699316 |\n",
       "| 5 | http://data.agrimetrics.co.uk/units/ph | 8.210084 | Point | 51.80883 | -0.3696074 |\n",
       "| 6 | http://data.agrimetrics.co.uk/units/ph | 6.044802 | Point | 51.80862 | -0.3551090 |\n",
       "\n"
      ],
      "text/plain": [
       "  unit                                   value    type  point_lat point_long\n",
       "1 http://data.agrimetrics.co.uk/units/ph 6.068252 Point 51.80922  -0.3986048\n",
       "2 http://data.agrimetrics.co.uk/units/ph 7.046670 Point 51.80004  -0.3844273\n",
       "3 http://data.agrimetrics.co.uk/units/ph 7.046670 Point 51.80903  -0.3841060\n",
       "4 http://data.agrimetrics.co.uk/units/ph 7.231666 Point 51.79984  -0.3699316\n",
       "5 http://data.agrimetrics.co.uk/units/ph 8.210084 Point 51.80883  -0.3696074\n",
       "6 http://data.agrimetrics.co.uk/units/ph 6.044802 Point 51.80862  -0.3551090"
      ]
     },
     "metadata": {},
     "output_type": "display_data"
    },
    {
     "name": "stdout",
     "output_type": "stream",
     "text": [
      "Formal class 'SpatialPointsDataFrame' [package \"sp\"] with 5 slots\n",
      "  ..@ data       :'data.frame':\t8 obs. of  5 variables:\n",
      "  .. ..$ unit      : chr [1:8] \"http://data.agrimetrics.co.uk/units/ph\" \"http://data.agrimetrics.co.uk/units/ph\" \"http://data.agrimetrics.co.uk/units/ph\" \"http://data.agrimetrics.co.uk/units/ph\" ...\n",
      "  .. ..$ value     : num [1:8] 6.07 7.05 7.05 7.23 8.21 ...\n",
      "  .. ..$ type      : chr [1:8] \"Point\" \"Point\" \"Point\" \"Point\" ...\n",
      "  .. ..$ point_lat : num [1:8] 51.8 51.8 51.8 51.8 51.8 ...\n",
      "  .. ..$ point_long: num [1:8] -0.399 -0.384 -0.384 -0.37 -0.37 ...\n",
      "  ..@ coords.nrs : num(0) \n",
      "  ..@ coords     : num [1:8, 1:2] -0.399 -0.384 -0.384 -0.37 -0.37 ...\n",
      "  .. ..- attr(*, \"dimnames\")=List of 2\n",
      "  .. .. ..$ : NULL\n",
      "  .. .. ..$ : chr [1:2] \"point_long\" \"point_lat\"\n",
      "  ..@ bbox       : num [1:2, 1:2] -0.399 51.8 -0.355 51.818\n",
      "  .. ..- attr(*, \"dimnames\")=List of 2\n",
      "  .. .. ..$ : chr [1:2] \"point_long\" \"point_lat\"\n",
      "  .. .. ..$ : chr [1:2] \"min\" \"max\"\n",
      "  ..@ proj4string:Formal class 'CRS' [package \"sp\"] with 1 slot\n",
      "  .. .. ..@ projargs: chr \"+proj=longlat +datum=WGS84 +no_defs\"\n"
     ]
    }
   ],
   "source": [
    "# examining our spatial points data frame\n",
    "head(soilph_spdf)\n",
    "str(soilph_spdf)\n"
   ]
  },
  {
   "cell_type": "code",
   "execution_count": 8,
   "metadata": {},
   "outputs": [
    {
     "name": "stdout",
     "output_type": "stream",
     "text": [
      "Formal class 'SpatialPixels' [package \"sp\"] with 5 slots\n",
      "  ..@ grid       :Formal class 'GridTopology' [package \"sp\"] with 3 slots\n",
      "  .. .. ..@ cellcentre.offset: Named num [1:2] -0.4 51.8\n",
      "  .. .. .. ..- attr(*, \"names\")= chr [1:2] \"x\" \"y\"\n",
      "  .. .. ..@ cellsize         : Named num [1:2] 0.01 0.01\n",
      "  .. .. .. ..- attr(*, \"names\")= chr [1:2] \"x\" \"y\"\n",
      "  .. .. ..@ cells.dim        : Named int [1:2] 6 4\n",
      "  .. .. .. ..- attr(*, \"names\")= chr [1:2] \"x\" \"y\"\n",
      "  ..@ grid.index : int [1:24] 19 20 21 22 23 24 13 14 15 16 ...\n",
      "  ..@ coords     : num [1:24, 1:2] -0.4 -0.39 -0.38 -0.37 -0.36 -0.35 -0.4 -0.39 -0.38 -0.37 ...\n",
      "  .. ..- attr(*, \"dimnames\")=List of 2\n",
      "  .. .. ..$ : chr [1:24] \"1\" \"2\" \"3\" \"4\" ...\n",
      "  .. .. ..$ : chr [1:2] \"x\" \"y\"\n",
      "  ..@ bbox       : num [1:2, 1:2] -0.405 51.785 -0.345 51.825\n",
      "  .. ..- attr(*, \"dimnames\")=List of 2\n",
      "  .. .. ..$ : chr [1:2] \"x\" \"y\"\n",
      "  .. .. ..$ : chr [1:2] \"min\" \"max\"\n",
      "  ..@ proj4string:Formal class 'CRS' [package \"sp\"] with 1 slot\n",
      "  .. .. ..@ projargs: chr NA\n"
     ]
    }
   ],
   "source": [
    "# Convert grd object to a matrix and then turn into a spatial points object\n",
    "coordinates(grd) <- ~x + y\n",
    "# turn into a spatial pixels object\n",
    "gridded(grd) <- TRUE\n",
    "\n",
    "# checking projection of our grid\n",
    "str(grd)"
   ]
  },
  {
   "cell_type": "code",
   "execution_count": 9,
   "metadata": {},
   "outputs": [
    {
     "name": "stdout",
     "output_type": "stream",
     "text": [
      "Formal class 'SpatialPixels' [package \"sp\"] with 5 slots\n",
      "  ..@ grid       :Formal class 'GridTopology' [package \"sp\"] with 3 slots\n",
      "  .. .. ..@ cellcentre.offset: Named num [1:2] -0.4 51.8\n",
      "  .. .. .. ..- attr(*, \"names\")= chr [1:2] \"x\" \"y\"\n",
      "  .. .. ..@ cellsize         : Named num [1:2] 0.01 0.01\n",
      "  .. .. .. ..- attr(*, \"names\")= chr [1:2] \"x\" \"y\"\n",
      "  .. .. ..@ cells.dim        : Named int [1:2] 6 4\n",
      "  .. .. .. ..- attr(*, \"names\")= chr [1:2] \"x\" \"y\"\n",
      "  ..@ grid.index : int [1:24] 19 20 21 22 23 24 13 14 15 16 ...\n",
      "  ..@ coords     : num [1:24, 1:2] -0.4 -0.39 -0.38 -0.37 -0.36 -0.35 -0.4 -0.39 -0.38 -0.37 ...\n",
      "  .. ..- attr(*, \"dimnames\")=List of 2\n",
      "  .. .. ..$ : chr [1:24] \"1\" \"2\" \"3\" \"4\" ...\n",
      "  .. .. ..$ : chr [1:2] \"x\" \"y\"\n",
      "  ..@ bbox       : num [1:2, 1:2] -0.405 51.785 -0.345 51.825\n",
      "  .. ..- attr(*, \"dimnames\")=List of 2\n",
      "  .. .. ..$ : chr [1:2] \"x\" \"y\"\n",
      "  .. .. ..$ : chr [1:2] \"min\" \"max\"\n",
      "  ..@ proj4string:Formal class 'CRS' [package \"sp\"] with 1 slot\n",
      "  .. .. ..@ projargs: chr \"+proj=longlat +datum=WGS84 +no_defs\"\n"
     ]
    }
   ],
   "source": [
    "# assiging a formal coordinate reference system (CRS) as we were missing it in step above\n",
    "# this is important, as it needs to match the CRS assigned to the data point values we will use for interpolation \n",
    "# in this example we use the same CRS definition as was identified within the soilph_spdf\n",
    "\n",
    "proj4string(grd) <- CRS(\"+proj=longlat +datum=WGS84 +no_defs\")\n",
    "\n",
    "# verifying the CRS definition is now the same as used in soilph_spdf\n",
    "str(grd)\n"
   ]
  },
  {
   "cell_type": "code",
   "execution_count": 10,
   "metadata": {},
   "outputs": [
    {
     "data": {
      "image/png": "[encoded data removed]",
      "text/plain": [
       "plot without title"
      ]
     },
     "metadata": {
      "image/png": {
       "height": 420,
       "width": 420
      }
     },
     "output_type": "display_data"
    }
   ],
   "source": [
    "# view our empty grid \n",
    "plot(grd, cex = 1.5, col = \"grey\")"
   ]
  },
  {
   "cell_type": "code",
   "execution_count": 11,
   "metadata": {},
   "outputs": [
    {
     "data": {
      "image/png": "[encoded data removed]",
      "text/plain": [
       "plot without title"
      ]
     },
     "metadata": {
      "image/png": {
       "height": 420,
       "width": 420
      }
     },
     "output_type": "display_data"
    }
   ],
   "source": [
    "# view our empty grid with our data points added\n",
    "plot(grd, cex = 1.5, col = \"grey\")\n",
    "plot(soilph_spdf,\n",
    "       pch = 15,\n",
    "       col = \"red\",\n",
    "       cex = 1,\n",
    "       add = TRUE)"
   ]
  },
  {
   "cell_type": "markdown",
   "metadata": {},
   "source": [
    "Below, we perform the IDW interpolation of our soil pH data points to the empty grid. Using the idw() function, \n",
    "we tell the formula \"soilph_spdf ~ 1\" to use the latitude and longitude coordinates and soil pH values from our spatial points data frame to perform our interpolated data layer. \n",
    "\n",
    "The **location** argument are the spatial points that you want to interpolate onto the grid. \n",
    "The **newdata** argument is the empty grid onto which we will insert out soil pH values. \n",
    "The **idp** argument is the power value used for interpolation and it controls the significance of the surrounding points on the interpolated value. Power values generally range from 0.5 to 3. The higher the power, the lesser the influence from more distance points, and the truer the surface will be to the actual data points. The lower the value, the smoother the interpolated surface will be."
   ]
  },
  {
   "cell_type": "code",
   "execution_count": 12,
   "metadata": {},
   "outputs": [
    {
     "name": "stderr",
     "output_type": "stream",
     "text": [
      "Warning message in proj4string(d$data):\n",
      "\"CRS object has comment, which is lost in output\"\n",
      "Warning message in proj4string(newdata):\n",
      "\"CRS object has comment, which is lost in output\"\n"
     ]
    },
    {
     "name": "stdout",
     "output_type": "stream",
     "text": [
      "[inverse distance weighted interpolation]\n"
     ]
    },
    {
     "name": "stderr",
     "output_type": "stream",
     "text": [
      "Warning message in proj4string(newdata):\n",
      "\"CRS object has comment, which is lost in output\"\n"
     ]
    },
    {
     "data": {
      "text/html": [
       "'SpatialPixelsDataFrame'"
      ],
      "text/latex": [
       "'SpatialPixelsDataFrame'"
      ],
      "text/markdown": [
       "'SpatialPixelsDataFrame'"
      ],
      "text/plain": [
       "[1] \"SpatialPixelsDataFrame\"\n",
       "attr(,\"package\")\n",
       "[1] \"sp\""
      ]
     },
     "metadata": {},
     "output_type": "display_data"
    }
   ],
   "source": [
    "# interpolate the our soil pH data at the Rothamsted Research site, using a power of 1\n",
    "idw_power1 <- gstat::idw(formula = value ~ 1,\n",
    "           locations = soilph_spdf,\n",
    "           newdata = grd,\n",
    "           idp = 1)\n",
    "\n",
    "## verifying the class of our interpolated data\n",
    "# notice that the output data is now a SpatialPixelsDataFrame\n",
    "class(idw_power1)\n"
   ]
  },
  {
   "cell_type": "code",
   "execution_count": 13,
   "metadata": {},
   "outputs": [
    {
     "data": {
      "image/png": "[encoded data removed]",
      "text/plain": [
       "plot without title"
      ]
     },
     "metadata": {
      "image/png": {
       "height": 420,
       "width": 420
      }
     },
     "output_type": "display_data"
    }
   ],
   "source": [
    "# plotting the data, we get an\n",
    "plot(idw_power1,\n",
    "     col = terrain.colors(55))"
   ]
  },
  {
   "cell_type": "markdown",
   "metadata": {},
   "source": [
    "### Conclusion\n",
    " \n",
    "In this example, we have successfully performed a simple spatial interpolation on the soil pH data points derived from our GraphQL query. To do this, we converted our point data to raster format using the IDW method for spatial interpolation. "
   ]
  }
 ],
 "metadata": {
  "kernelspec": {
   "display_name": "R",
   "language": "R",
   "name": "ir"
  },
  "language_info": {
   "codemirror_mode": "r",
   "file_extension": ".r",
   "mimetype": "text/x-r-source",
   "name": "R",
   "pygments_lexer": "r",
   "version": "3.6.3"
  }
 },
 "nbformat": 4,
 "nbformat_minor": 4
}